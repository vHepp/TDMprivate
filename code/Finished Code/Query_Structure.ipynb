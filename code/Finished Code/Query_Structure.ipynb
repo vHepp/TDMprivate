{
 "cells": [
  {
   "cell_type": "code",
   "execution_count": 171,
   "id": "ff4b4ecf-a27d-4cdf-bcfb-7c76a9d70290",
   "metadata": {},
   "outputs": [],
   "source": [
    "# Reference 1: https://docs.aws.amazon.com/amazondynamodb/latest/developerguide/programming-with-python.html\n",
    "\n",
    "# ^^^ General info about using boto3 and DynamoDB in Python\n",
    "\n",
    "# Reference 2: https://docs.aws.amazon.com/amazondynamodb/latest/developerguide/bp-query-scan.html\n",
    "\n",
    "# ^^^ Why the 'scan' method can be slow\n",
    "\n",
    "# Reference 3: https://boto3.amazonaws.com/v1/documentation/api/latest/reference/services/dynamodb/table/scan.html\n",
    "\n",
    "# ^^^ Detailed info about the 'scan' method using the 'resource' interface\n",
    "\n",
    "# Reference 4: https://boto3.amazonaws.com/v1/documentation/api/latest/reference/services/dynamodb/client/query.html\n",
    "\n",
    "# ^^^ Detailed info about the 'query' method using the 'resource' interface\n",
    "\n",
    "# Reference 5: https://boto3.amazonaws.com/v1/documentation/api/latest/reference/customizations/dynamodb.html#ref-dynamodb-conditions\n",
    "\n",
    "# ^^^ List of valid conditions for Key() and Attr()\n",
    "\n",
    "# Reference 6: https://docs.aws.amazon.com/amazondynamodb/latest/developerguide/HowItWorks.ReadConsistency.html\n",
    "\n",
    "# ^^^ Info about ConsistentRead "
   ]
  },
  {
   "cell_type": "code",
   "execution_count": 1,
   "id": "79320c25-61c9-480c-b742-b8d47e957491",
   "metadata": {},
   "outputs": [],
   "source": [
    "import boto3 \n",
    "\n",
    "# ^^^ Imports the Amazon Web Services (AWS) software development kit (SDK) for Python\n",
    "\n",
    "# Reference 1\n",
    "\n",
    "from boto3.dynamodb.conditions import Key, Attr\n",
    "\n",
    "import pandas as pd\n",
    "\n",
    "from pandasgui import show\n",
    "\n",
    "# ^^^ Used for visualizing Pandas dataframes quickly\n",
    "\n",
    "from IPython.display import clear_output"
   ]
  },
  {
   "cell_type": "code",
   "execution_count": 2,
   "id": "e159ea93-c4cf-4c80-9432-c3f962764648",
   "metadata": {},
   "outputs": [],
   "source": [
    "dynamodb = boto3.resource( 'dynamodb' )\n",
    "\n",
    "# ^^^ Initializes a higher-level interface (called 'resource') that is able to access most of the tools in DynamoDB \n",
    "\n",
    "# There is a another lower-level interface called 'client' that can access more of DynamoDB's tools compared to 'resource', but it\n",
    "# is more complicated to use with seemingly no tangible benefit (so far), so I did not use it. If one wishes to try using it, \n",
    "# run: 'dynamodb = boto3.client('dynamodb')'\n",
    "\n",
    "# Reference 1"
   ]
  },
  {
   "cell_type": "code",
   "execution_count": 3,
   "id": "0f0d5155-d0a5-4d1d-a2ab-de0af1181192",
   "metadata": {},
   "outputs": [],
   "source": [
    "adspp_table = dynamodb.Table( 'ads_passenger_processed' )\n",
    "\n",
    "# ^^^ Accesses the 'ads_passenger_processed' table from DriveOhio in the DynamoDB database. This is one of the two tables \n",
    "# available to us (those being 'ads_passenger_processed' and 'ads_passenger_processed_metadata')."
   ]
  },
  {
   "cell_type": "code",
   "execution_count": 4,
   "id": "38a82ad1-6419-4269-9586-94ab7085b054",
   "metadata": {},
   "outputs": [],
   "source": [
    "# Before we do a query on the table 'adspp_table', let us look at a small subset of the table to get a feel for its structure\n",
    "\n",
    "scan_output = adspp_table.scan()\n",
    "\n",
    "# ^^^ The line above returns the first 1 MB of data in the table\n",
    "\n",
    "# ^^^ The 'scan' method above is similar to the 'query' method we will use later, but is usually much slower when requesting data \n",
    "# from a table, especially if the table is large. The reason behind this, in short, is that the 'scan' method iterates through\n",
    "# the entirity of a table, then picks out the rows you requested using the filters afterwards. The 'query' method on the other \n",
    "# hand iterates through a primary key or index key in the table that matches a certain value, then applies any more filters\n",
    "# you specified afterwards. Depending on what primary or index key condition you choose, the 'query' method may only have\n",
    "# to iterate over a small subset of the table, potentially making it a lot faster than 'scan'. For small tables, 'scan' is\n",
    "# still fine to use and may be more versatile and simple, hence why I used it above.\n",
    "\n",
    "# Reference 2\n",
    "\n",
    "# One last comment, both the 'scan' and 'query' methods return a maximum of 1 MB of data from one usage. For tables larger than\n",
    "# 1 MB, one has perform multiple scans or queries, each starting where the last scan or query left off, in order to access all of\n",
    "# the table. Additionally, one needs to remember to save the data pulled out of the table after each query in another object, such\n",
    "# as a Pandas dataframe, else it will be lost.\n",
    "\n",
    "# References 3 and 4"
   ]
  },
  {
   "cell_type": "code",
   "execution_count": 6,
   "id": "378c5cc0-847e-48f4-b94f-34381237beea",
   "metadata": {},
   "outputs": [
    {
     "name": "stdout",
     "output_type": "stream",
     "text": [
      "dict_keys(['Items', 'Count', 'ScannedCount', 'LastEvaluatedKey', 'ResponseMetadata'])\n"
     ]
    }
   ],
   "source": [
    "# The output of the 'scan' method is a dictionary containing items which are useful to understand (the output is\n",
    "# extremely similar to a 'query' output)\n",
    "\n",
    "print( dict.keys( scan_output ) )\n",
    "\n",
    "# ^^^ This line simply prints the keys of the scan output dictionary"
   ]
  },
  {
   "cell_type": "code",
   "execution_count": 7,
   "id": "9e03292d-8b2b-426a-91f1-9a5726b7ed96",
   "metadata": {},
   "outputs": [
    {
     "name": "stdout",
     "output_type": "stream",
     "text": [
      "Attribute            Value \n",
      "\n",
      "yawRate              0\n",
      "drivingMode          COMPLETE_AUTO_DRIVE\n",
      "topic                /apollo/canbus/chassis\n",
      "msgsize              133\n",
      "time                 1701972580600806943\n",
      "gearLocation         GEAR_DRIVE\n",
      "metadataID           e3362dcd-f0e0-11ee-ba1e-fb353e7798cd\n",
      "throttlePercentage   11.6\n",
      "steeringPercentage   0.74436826\n",
      "brakePercentage      0\n",
      "engageAdvice         {'advice': 'READY_TO_ENGAGE'}\n",
      "groupMetadataID      1f70a4f0-f0e0-11ee-ba1e-fb353e7798cd\n",
      "errorCode            NO_ERROR\n",
      "signal               {'turnSignal': 'TURN_NONE'}\n",
      "steeringRate         0\n",
      "header               {'moduleName': 'canbus', 'sequenceNum': Decimal('11358'), 'timestampSec': Decimal('1701972580.6002243')}\n",
      "speedMps             19.71\n",
      "engineStarted        True\n",
      "_id                  ed569d6e-f0e0-11ee-ba1e-fb353e7798cd\n",
      "fuelRangeM           0\n",
      "msg_type             \n",
      "wheelSpeed           {'isWheelSpdRrValid': True, 'wheelSpdRr': Decimal('57.4'), 'isWheelSpdRlValid': True, 'wheelSpdFr': Decimal('57.59'), 'isWheelSpdFrValid': True, 'wheelSpdRl': Decimal('57.47'), 'wheelSpdFl': Decimal('57.43'), 'isWheelSpdFlValid': True}\n"
     ]
    }
   ],
   "source": [
    "# The 'Items' key is the most important key, as this is where the items/rows we requested from the table are contained. These\n",
    "# items/rows are stored in a list. Each item/row in this list is a dictionary, with its keys being the attributes/columns in\n",
    "# that item/row and the values being the values associated with the attributes/columns in that item/row.\n",
    "\n",
    "# Let's take a look at the attributes/columns in the first item/row of the table:\n",
    "\n",
    "key_lens = [ len( key ) for key in scan_output[ 'Items' ][ 0 ].keys() ]\n",
    "max_key_len = max( key_lens )\n",
    "\n",
    "print('Attribute' + ' '*12 + 'Value \\n')\n",
    "for key, val in scan_output[ 'Items' ][ 0 ].items():\n",
    "\n",
    "    space = max_key_len - len( key )\n",
    "\n",
    "    print( str( key ) + ' ' * ( space + 3 ) + str( val ) )\n",
    "\n",
    "# ^^^ The code above displays the values of the attributes/columns in the first item/row of the table. It looks a bit complicated\n",
    "# just because I wanted to display it nicely. If one wants the raw dictionary, simply do print( can_output[ 'Items' ][ 0 ] ),\n",
    "# which I'll do below (it is ugly)\n",
    "\n",
    "# References 3 and 4"
   ]
  },
  {
   "cell_type": "code",
   "execution_count": 8,
   "id": "b3660926-caad-42f8-b9e1-d8bc002438ec",
   "metadata": {},
   "outputs": [
    {
     "name": "stdout",
     "output_type": "stream",
     "text": [
      "{'yawRate': Decimal('0'), 'drivingMode': 'COMPLETE_AUTO_DRIVE', 'topic': '/apollo/canbus/chassis', 'msgsize': Decimal('133'), 'time': Decimal('1701972580600806943'), 'gearLocation': 'GEAR_DRIVE', 'metadataID': 'e3362dcd-f0e0-11ee-ba1e-fb353e7798cd', 'throttlePercentage': Decimal('11.6'), 'steeringPercentage': Decimal('0.74436826'), 'brakePercentage': Decimal('0'), 'engageAdvice': {'advice': 'READY_TO_ENGAGE'}, 'groupMetadataID': '1f70a4f0-f0e0-11ee-ba1e-fb353e7798cd', 'errorCode': 'NO_ERROR', 'signal': {'turnSignal': 'TURN_NONE'}, 'steeringRate': Decimal('0'), 'header': {'moduleName': 'canbus', 'sequenceNum': Decimal('11358'), 'timestampSec': Decimal('1701972580.6002243')}, 'speedMps': Decimal('19.71'), 'engineStarted': True, '_id': 'ed569d6e-f0e0-11ee-ba1e-fb353e7798cd', 'fuelRangeM': Decimal('0'), 'msg_type': '', 'wheelSpeed': {'isWheelSpdRrValid': True, 'wheelSpdRr': Decimal('57.4'), 'isWheelSpdRlValid': True, 'wheelSpdFr': Decimal('57.59'), 'isWheelSpdFrValid': True, 'wheelSpdRl': Decimal('57.47'), 'wheelSpdFl': Decimal('57.43'), 'isWheelSpdFlValid': True}}\n"
     ]
    }
   ],
   "source": [
    "print( scan_output[ 'Items' ][ 0 ] )\n",
    "\n",
    "# ^^^ What the first row actually looks like as a dictionary"
   ]
  },
  {
   "cell_type": "code",
   "execution_count": 9,
   "id": "0c851887-d06f-4ab8-9896-115d93edff90",
   "metadata": {},
   "outputs": [
    {
     "name": "stdout",
     "output_type": "stream",
     "text": [
      "Count:  1324\n",
      "ScannedCount:  1324\n"
     ]
    }
   ],
   "source": [
    "# The 'Count' and 'ScannedCount' keys contain integers representing the number of rows returned before and after applying the \n",
    "# filters one specificied in the 'scan' method. It's not too important to pay attention to these, although if the ratio\n",
    "# between the 'ScannedCount' and 'Count' numbers is particularly small, it indicates the scan was inefficient.\n",
    "\n",
    "print( 'Count: ', scan_output[ 'Count' ] )\n",
    "print( 'ScannedCount: ', scan_output[ 'ScannedCount' ] )\n",
    "\n",
    "# ^^^ One can see the 'ScannedCount' and 'Count' numbers are the same because we did not set any filters in our scan\n",
    "\n",
    "# References 3 and 4"
   ]
  },
  {
   "cell_type": "code",
   "execution_count": 10,
   "id": "bcdfaa85-4589-463a-b060-9015f88952f3",
   "metadata": {},
   "outputs": [
    {
     "name": "stdout",
     "output_type": "stream",
     "text": [
      "{'_id': '628a6707-f1a1-11ee-bac2-fb353e7798cd', 'time': Decimal('1706040720012172773')}\n"
     ]
    }
   ],
   "source": [
    "# The 'LastEvaluatedKey' key is an important one. Because the 'scan' and 'query' methods only return a maximum of 1 MB of \n",
    "# data from a table, if a table has more than 1 MB of data, we need a way to do another 'scan' or 'query' starting at the \n",
    "# item/row where the previous one stopped. The 'LastEvaluatedKey' key contains the primary key of the item/row a 'scan' \n",
    "# or 'query' method stopped, and if put as an argument in another 'scan' or 'query' method, will start that 'scan' or\n",
    "# 'query' at that item/row.\n",
    "\n",
    "# If the LastEvaluatedKey' key is absent from a 'scan' or 'query' output, that means the scan' or 'query' has reached the\n",
    "# end of the table.\n",
    "\n",
    "print( scan_output[ 'LastEvaluatedKey' ] )\n",
    "\n",
    "# ^^^ By looking at the 'LastEvaluatedKey', we can see that the primary key of the 'ads_passenger_processed' table is a \n",
    "# combination of the '_id' and 'time' attributes/columns. In DynamoDB, '_id' is what would be refered to as the 'partition key' and\n",
    "# 'time' as the 'sort key'.\n",
    "\n",
    "# References 3 and 4"
   ]
  },
  {
   "cell_type": "code",
   "execution_count": 11,
   "id": "d3fcdef0-a6c3-4ab2-8618-f4a4d5c7f19b",
   "metadata": {},
   "outputs": [
    {
     "name": "stdout",
     "output_type": "stream",
     "text": [
      "{'RequestId': 'BA3A1OOPV54MOK5G6EOOE3AKDRVV4KQNSO5AEMVJF66Q9ASUAAJG', 'HTTPStatusCode': 200, 'HTTPHeaders': {'server': 'Server', 'date': 'Wed, 11 Sep 2024 19:03:35 GMT', 'content-type': 'application/x-amz-json-1.0', 'content-length': '1831761', 'connection': 'keep-alive', 'x-amzn-requestid': 'BA3A1OOPV54MOK5G6EOOE3AKDRVV4KQNSO5AEMVJF66Q9ASUAAJG', 'x-amz-crc32': '399128536'}, 'RetryAttempts': 0}\n"
     ]
    }
   ],
   "source": [
    "# I am not entirely sure on what the 'ResponseMetadata' does yet, I think it is related to error handling. For our purposes,\n",
    "# it does not seem important.\n",
    "\n",
    "print( scan_output[ 'ResponseMetadata' ] )"
   ]
  },
  {
   "cell_type": "code",
   "execution_count": 12,
   "id": "c3421956-f0a8-4fe6-afdb-a98a341e6de5",
   "metadata": {},
   "outputs": [],
   "source": [
    "# Now that we have looked at what the output of a 'scan' and 'query' contains, let's take a look at the table beyond just the first\n",
    "# row, just as another step to get a feel for its structure. We'll do this by using Pandas\n",
    "\n",
    "scan_output_df = pd.DataFrame.from_dict( pd.json_normalize( scan_output[ 'Items' ] ), orient = 'columns' )\n",
    "\n",
    "# ^^^ This line converts the outputted items/rows in the 'Items' key into a Pandas dataframe"
   ]
  },
  {
   "cell_type": "code",
   "execution_count": 13,
   "id": "f75e3e5c-30f0-4860-a35e-820862fb7fd9",
   "metadata": {},
   "outputs": [
    {
     "name": "stderr",
     "output_type": "stream",
     "text": [
      "PandasGUI INFO — pandasgui.gui — Opening PandasGUI\n",
      "/tmp/ipykernel_117031/1661151328.py:3: FutureWarning: Series.__getitem__ treating keys as positions is deprecated. In a future version, integer keys will always be treated as labels (consistent with DataFrame behavior). To access a value by position, use `ser.iloc[pos]`\n",
      "  show( scan_output_df )\n",
      "/tmp/ipykernel_117031/1661151328.py:3: FutureWarning: Series.__getitem__ treating keys as positions is deprecated. In a future version, integer keys will always be treated as labels (consistent with DataFrame behavior). To access a value by position, use `ser.iloc[pos]`\n",
      "  show( scan_output_df )\n",
      "/tmp/ipykernel_117031/1661151328.py:3: FutureWarning:\n",
      "\n",
      "Series.__getitem__ treating keys as positions is deprecated. In a future version, integer keys will always be treated as labels (consistent with DataFrame behavior). To access a value by position, use `ser.iloc[pos]`\n",
      "\n",
      "/tmp/ipykernel_117031/1661151328.py:3: FutureWarning:\n",
      "\n",
      "Series.__getitem__ treating keys as positions is deprecated. In a future version, integer keys will always be treated as labels (consistent with DataFrame behavior). To access a value by position, use `ser.iloc[pos]`\n",
      "\n",
      "/tmp/ipykernel_117031/1661151328.py:3: FutureWarning:\n",
      "\n",
      "Series.__getitem__ treating keys as positions is deprecated. In a future version, integer keys will always be treated as labels (consistent with DataFrame behavior). To access a value by position, use `ser.iloc[pos]`\n",
      "\n",
      "/tmp/ipykernel_117031/1661151328.py:3: FutureWarning:\n",
      "\n",
      "Series.__getitem__ treating keys as positions is deprecated. In a future version, integer keys will always be treated as labels (consistent with DataFrame behavior). To access a value by position, use `ser.iloc[pos]`\n",
      "\n"
     ]
    },
    {
     "data": {
      "text/plain": [
       "<pandasgui.gui.PandasGui at 0x7c8731e1a200>"
      ]
     },
     "execution_count": 13,
     "metadata": {},
     "output_type": "execute_result"
    }
   ],
   "source": [
    "# Now, let's just show it\n",
    "\n",
    "show( scan_output_df )\n",
    "\n",
    "# What we can notice is that there are a lot of attributes/columns, and a lot of items/rows have missing data for these \n",
    "# attributes/columns. The value present in the 'topic' attributes/columns seems to be associated with which attributes/columns\n",
    "# are filled, so, although '_id' and 'time' might be the primary key, 'topic' might be a good attribute/column to index over\n",
    "# to extract a certain group of attributes/columns."
   ]
  },
  {
   "cell_type": "code",
   "execution_count": 14,
   "id": "1fdc8e50-ece5-4db6-aeb5-00b6f4348ad1",
   "metadata": {},
   "outputs": [],
   "source": [
    "# Suppose we want to find the values for the 'time' and 'throttlePercentage' attributes in rows containing the value\n",
    "# 1f70a4f0-f0e0-11ee-ba1e-fb353e7798cd for the 'groupMetadataID' attribute. We can do this using the 'query' method.\n",
    "# Notice that the 'throttlePercentage' attribute only has values for rows with the value /apollo/canbus/chassis for\n",
    "# the 'topic' attribute, so we should index over where 'topic' is equal to /apollo/canbus/chassis to be efficient.\n",
    "# We can perform this task without having to iterate over the entire table, which would take a very long time, by\n",
    "# choosing a good attribute to index over.\n",
    "\n",
    "# In order to do this query, we need to define the parameters that will go into it. The query below contains all the\n",
    "# non-legacy parameters that the 'query' method in DyanmoDB can take. Some are very important, some are not necessary.\n",
    "# I will describe each one, but in case you run into an error in the future or wants a thourough explanation, I recommend\n",
    "# looking at Reference 4, as it contains a lot of useful info.\n",
    "\n",
    "# Reference 4\n",
    "\n",
    "query_input = dict(\n",
    "                   IndexName = 'topic-index', # !!! If one wants to index over an atrribute in a table that is NOT the primary key,\n",
    "                                              # one needs to specify that attribute here. Typically, one would write this\n",
    "                                              # parameter as the name of the attribute one wants to index over + '-index'\n",
    "                                              # If omitted, the query will index over the primary key. (a string)\n",
    "\n",
    "                                              # Notice, because we want to index over 'topic' for our current query, it is set to\n",
    "                                              # 'topic-index'.\n",
    "\n",
    "                   # Select = # Much of what this parameter does is done implicitly and is not necessary. If one does encounter a\n",
    "                              # scenario in which it is needed, please refer to the documentation in Reference 4. (a string)\n",
    "                              # (Essentially this parameter specifies whether all, some, or no attributes are to be outputted)\n",
    "    \n",
    "                   Limit = 2000, # This parameter limits the number of items/rows that can be iterated over to less than or\n",
    "                                 # equal to what it is set to. Two scenarios in which it will not iterate over the maximum number \n",
    "                                 # of rows specified here are as follows: the table does not have that many rows left or the 1 MB limit \n",
    "                                 # for the query as been reached. This parameter is not necessary. (an integer)\n",
    "    \n",
    "                   # ConsistentRead = # A parameter that determines whether the data in the rows being iterated over and pulled out\n",
    "                                      # is fully up to date with the latest insertions, updates, or deletions. Not necessary to specify\n",
    "                                      # unless the table is being modified frequently. (a boolean)\n",
    "\n",
    "                                      # Reference 6\n",
    "    \n",
    "                   # ScanIndexForward = # A parameter that determines whether the table is traversed in ascending or \n",
    "                                        # descending order in the context of the sort key. Default is true. Likely not \n",
    "                                        # necessary to specify. (a boolean)\n",
    "    \n",
    "                   # ExclusiveStartKey = # !!! A parameter to specify what item/row the query should start at. Specifically, this is the \n",
    "                                         # primary key of the first item/row the query will start at. This parameter is extremely \n",
    "                                         # important when one wants to query a table larger than 1 MB, as a single query will not iterate\n",
    "                                         # over all of it. The 'LastEvaluatedKey' of the output of a previous query is usually put here\n",
    "                                         # to continue where it left off. (a dict)\n",
    "\n",
    "                                         # If omitted, the query will start at the top or bottom row in the context of the sort key.\n",
    "    \n",
    "                   # ReturnConsumedCapacity = # A parameter which adds a metric indicating the amount of data(?) consumed by the query to the\n",
    "                                              # output of the query. Not necessary. (a string)\n",
    "\n",
    "                   ProjectionExpression = '#time, throttlePercentage',\n",
    "\n",
    "                   # !!! ^^^ A parameter that determines what attributes will be retrtieved by the query. If one wants all \n",
    "                   # available attributes in each item/row, this parameter should be omitted. Otherwise, one should write\n",
    "                   # the desired attributes in a comma seperated list as a string. Ex. 'attr1, attr2, attr3, attr4'. (a string)\n",
    "\n",
    "                   # Notice, because we want to find the values of the 'time' and 'throttlePercentage' attributes for our current\n",
    "                   # query, these attributes have been listed. However, you might notice that the 'time' attribute has a # attached\n",
    "                   # to its front. This is because the word 'time' is actually a reserved word in DynamoDB. If an attribute is a\n",
    "                   # a reserved word or has special characters that cause it to be misinterpreted, it needs to be assigned an alias\n",
    "                   # to be used in expressions using the ExpressionAttributeNames key further below.\n",
    "    \n",
    "                   FilterExpression = Attr( 'groupMetadataID' ).eq( '1f70a4f0-f0e0-11ee-ba1e-fb353e7798cd' ),\n",
    "\n",
    "                   # !!! ^^^ A parameter containing conditions attributes in each item/row must satisfy in order for that item/row to\n",
    "                   # be in the query output. The conditions are written as Attr() taking the name of an attribute one would like to\n",
    "                   # filter, then after the parenthesis, a period and the type of condition the attribute must satisfy. If one does\n",
    "                   # not want to add any extra conditions aside from the KeyConditionExpression, this parameter may be omitted.\n",
    "\n",
    "                   # ^^^ Correction: the attributes in the FilterExpression must not include the attribute being indexed over (in \n",
    "                   # this case, 'topic' should not be an attribute in FilterExpression)\n",
    "\n",
    "                   # General Form: Attr( attribute_name ).condition()\n",
    "\n",
    "                   # There are many conditions one may apply to an Attr( attribute_name ), such as .eq( value ) [checking if an \n",
    "                   # attribute is equal to a certain value], .ne( value ) [not equal to a value], .between( low_value, high_value )\n",
    "                   # [between two values], etc. A full list of conditions that can act on Attr() can be found in Reference 5.\n",
    "\n",
    "                   # In the FilterExpression parameter, multiple conditions may be chained together using the & symbol.\n",
    "                   # Ex. Attr( attribute_name1 ).condition1() & Attr( attribute_name2 ).condition2()\n",
    "\n",
    "                   # For the current query, the FilterExpression checks if the 'groupMetadataID' attribute is equal to\n",
    "                   # '1f70a4f0-f0e0-11ee-ba1e-fb353e7798cd'.\n",
    "\n",
    "                   # Reference 5\n",
    "\n",
    "                   KeyConditionExpression = Key( 'topic' ).eq( '/apollo/canbus/chassis' ),\n",
    "\n",
    "                   # !!! ^^^ A parameter containing conditions the attribute being indexed over in each item/row must satisfy in\n",
    "                   # order for that item/row to be iterated over and potentially sent to the output. The reason that the rows\n",
    "                   # iterated over are only potentially sent to the output is that they must also pass the filtering in the\n",
    "                   # FilterExpression before being sent to the output. Essentially, the KeyConditionExpression parameter picks\n",
    "                   # the rows out of the table satisfying the conditions for the attribute being indexed over, then, only after\n",
    "                   # collecting all them, sends them to the FilterExpression, which then sends the filtered rows to the output.\n",
    "\n",
    "                   # ^^^ If IndexName is omitted, the attribute(s) being indexed over is the primary key. The primary key\n",
    "                   # may consist of a partition key, or a partition key and a sort key. In this case, the KeyConditionExpression\n",
    "                   # must consist of a condition for the partition key or the partition key and the sort key, but not the sort\n",
    "                   # key alone.\n",
    "\n",
    "                   # The KeyConditionExpression parameter is a required part of a query. It must consist of a condition for \n",
    "                   # the partition key, the partition key and the sort key, or the attribute being indexed over.\n",
    "\n",
    "                   # General Form: Key( indexed_attribute_name ).condition()\n",
    "\n",
    "                   # There are many conditions one may apply to an Key( indexed_attribute_name ), but it is less than what is \n",
    "                   # available for Attr( attribute_name ). A full list of conditions that can act on Key() can be found in \n",
    "                   # Reference 5.\n",
    "\n",
    "                   # For the current query, because we want to index over where 'topic' is equal to /apollo/canbus/chassis, the\n",
    "                   # KeyConditionExpression checks exactly that.\n",
    "\n",
    "                   # Reference 5\n",
    "\n",
    "                   #-----------------------------------------------\n",
    "\n",
    "                   ExpressionAttributeNames = {\n",
    "                                               '#time' : 'time'\n",
    "                                              },   \n",
    "                   \n",
    "                   # !!! ^^^ As mentioned in the description for ProjectionExpression, this parameter is where aliases for \n",
    "                   # attributes that are reserved words in DynamoDB or have special characters that cause them to be \n",
    "                   # misinterpreted need to be defined in order to be used in expressions. (a dict)\n",
    "\n",
    "                   # This is done by creating a dictionary where the keys are the aliases to be used in expressions (the\n",
    "                   # aliases need to start with a #) and the values are the original attributes that have issues.\n",
    "\n",
    "                   # (It can alse be used to assign aliases to attributes that have no issues, but are just cumbersome to\n",
    "                   # write and you want to use them multiple times in expressions)\n",
    "\n",
    "                   #------------------------------------------------\n",
    "\n",
    "                   # ExpressionAttributeValues = \n",
    "    \n",
    "                   # !!! ^^^ This parameter serves a very similar purpose to ExpressionAttributeNames,\n",
    "                   # although instead of being used to assign aliases to attributes, it is used\n",
    "                   # to assign aliases to values, such as those in the table, that you want to\n",
    "                   # use/check for in expressions. This may be necessary because of reserved words\n",
    "                   # or special characters, or simply for convenience. (a dict)\n",
    "\n",
    "                   # I cannot seem to get any examples of this working, so I am unsure how to use it\n",
    "                   # right now\n",
    "                  \n",
    "                  )"
   ]
  },
  {
   "cell_type": "code",
   "execution_count": 15,
   "id": "77f2890a-6ba6-44cb-857d-17410932624d",
   "metadata": {},
   "outputs": [],
   "source": [
    "# Because the previous cell has a lot of comments, let us summarize the goal of our query and write the query without the comments.\n",
    "\n",
    "# We wants to find the values for the 'time' and 'throttlePercentage' attributes for rows containing the 'groupMetadataID' \n",
    "# attribute value 1f70a4f0-f0e0-11ee-ba1e-fb353e7798cd by indexing over where the 'topic' attribute value is equal to \n",
    "# /apollo/canbus/chassis.\n",
    "\n",
    "query_input = dict(\n",
    "                   IndexName = 'topic-index',\n",
    "    \n",
    "                   Limit = 2000,\n",
    "\n",
    "                   ProjectionExpression = '#time, throttlePercentage',\n",
    "    \n",
    "                   FilterExpression = Attr( 'groupMetadataID' ).eq( '1f70a4f0-f0e0-11ee-ba1e-fb353e7798cd' ),\n",
    "\n",
    "                   KeyConditionExpression = Key( 'topic' ).eq( '/apollo/canbus/chassis' ),\n",
    "\n",
    "                   ExpressionAttributeNames = {\n",
    "                                               '#time' : 'time'\n",
    "                                              },\n",
    "                  )"
   ]
  },
  {
   "cell_type": "code",
   "execution_count": 16,
   "id": "97834af7-38fd-4622-971b-3d5c2c4d362e",
   "metadata": {},
   "outputs": [],
   "source": [
    "# Putting this dictionary of query parameters into a 'query' method for the table 'adspp_table'\n",
    "\n",
    "query_output = adspp_table.query( **query_input )"
   ]
  },
  {
   "cell_type": "code",
   "execution_count": 17,
   "id": "9bf2728c-282e-48cf-bbeb-d5dd64544c80",
   "metadata": {},
   "outputs": [
    {
     "name": "stdout",
     "output_type": "stream",
     "text": [
      "[{'throttlePercentage': Decimal('8.7'), 'time': Decimal('1701972622544006277')}, {'throttlePercentage': Decimal('26.6'), 'time': Decimal('1701972567168325460')}] \n",
      "\n",
      "1584 \n",
      "\n",
      "dict_keys(['Items', 'Count', 'ScannedCount', 'LastEvaluatedKey', 'ResponseMetadata'])\n"
     ]
    }
   ],
   "source": [
    "# We receive 2 items/rows out of 1584 items/rows queried that have '/apollo/canbus/chassis' as a topic\n",
    "# and have their 'groupMetadataID' equal to '1f70a4f0-f0e0-11ee-ba1e-fb353e7798cd'\n",
    "\n",
    "# It is worth noting that the 'LastEvaluatedKey' key is present in the output, indicating that the query has not\n",
    "# iterated through the whole 'adspp_table'. We must keep keep querying the table with the same query parameters,\n",
    "# except with the 'ExclusiveStartKey' equal to the 'LastEvaluatedKey' key, until the 'LastEvaluatedKey' eventually\n",
    "# disappears from the output. Only then will our query be truly finished.\n",
    "\n",
    "print( query_output[ 'Items' ], '\\n' )\n",
    "\n",
    "print( query_output[ 'ScannedCount' ], '\\n' )\n",
    "\n",
    "print( query_output.keys() )"
   ]
  },
  {
   "cell_type": "code",
   "execution_count": 18,
   "id": "f38b2898-77b8-46e5-8852-3f216cfe4f98",
   "metadata": {},
   "outputs": [],
   "source": [
    "# But first, let us save our results so far in a Pandas dataframe\n",
    "\n",
    "query_output_df = pd.DataFrame.from_dict( pd.json_normalize( query_output[ 'Items' ] ), orient = 'columns' )"
   ]
  },
  {
   "cell_type": "code",
   "execution_count": 19,
   "id": "1ba8f923-c772-42f6-80f4-389ec3ff8233",
   "metadata": {},
   "outputs": [
    {
     "name": "stderr",
     "output_type": "stream",
     "text": [
      "PandasGUI INFO — pandasgui.gui — Opening PandasGUI\n",
      "/tmp/ipykernel_117031/589379258.py:3: FutureWarning:\n",
      "\n",
      "Series.__getitem__ treating keys as positions is deprecated. In a future version, integer keys will always be treated as labels (consistent with DataFrame behavior). To access a value by position, use `ser.iloc[pos]`\n",
      "\n",
      "/tmp/ipykernel_117031/589379258.py:3: FutureWarning:\n",
      "\n",
      "Series.__getitem__ treating keys as positions is deprecated. In a future version, integer keys will always be treated as labels (consistent with DataFrame behavior). To access a value by position, use `ser.iloc[pos]`\n",
      "\n",
      "/tmp/ipykernel_117031/589379258.py:3: FutureWarning:\n",
      "\n",
      "Series.__getitem__ treating keys as positions is deprecated. In a future version, integer keys will always be treated as labels (consistent with DataFrame behavior). To access a value by position, use `ser.iloc[pos]`\n",
      "\n",
      "/tmp/ipykernel_117031/589379258.py:3: FutureWarning:\n",
      "\n",
      "Series.__getitem__ treating keys as positions is deprecated. In a future version, integer keys will always be treated as labels (consistent with DataFrame behavior). To access a value by position, use `ser.iloc[pos]`\n",
      "\n",
      "/tmp/ipykernel_117031/589379258.py:3: FutureWarning:\n",
      "\n",
      "Series.__getitem__ treating keys as positions is deprecated. In a future version, integer keys will always be treated as labels (consistent with DataFrame behavior). To access a value by position, use `ser.iloc[pos]`\n",
      "\n",
      "/tmp/ipykernel_117031/589379258.py:3: FutureWarning:\n",
      "\n",
      "Series.__getitem__ treating keys as positions is deprecated. In a future version, integer keys will always be treated as labels (consistent with DataFrame behavior). To access a value by position, use `ser.iloc[pos]`\n",
      "\n"
     ]
    },
    {
     "data": {
      "text/plain": [
       "<pandasgui.gui.PandasGui at 0x7c8701ab3910>"
      ]
     },
     "execution_count": 19,
     "metadata": {},
     "output_type": "execute_result"
    }
   ],
   "source": [
    "# Let's take a quick look at it\n",
    "\n",
    "show( query_output_df )"
   ]
  },
  {
   "cell_type": "code",
   "execution_count": 20,
   "id": "d9dea946-fc4d-47f7-a0d6-bb5d673079fd",
   "metadata": {},
   "outputs": [],
   "source": [
    "# Okay, now let's query the rest of the table, appending the results of our queries to the Pandas dataframe\n",
    "# we just made as we loop through the table. (Actually, we won't loop through the whole table, it will take\n",
    "# a long time, let's just do it 50 times for demonstration purposes)\n",
    "\n",
    "i = 0 # Initializes a counting variable to check if the while loop has looped 50 times\n",
    "while ( 'LastEvaluatedKey' in query_output.keys() ) and ( i <= 50 ):\n",
    "\n",
    "    # ^^^ A while loop that will continue looping as long as the 'LastEvaluatedKey' key still exists in\n",
    "    # the query outputs and the counting variable is less than or equal to 10\n",
    "\n",
    "    query_input[ 'ExclusiveStartKey' ] = query_output[ 'LastEvaluatedKey' ]\n",
    "\n",
    "    # ^^^ Adds/updates a key in the query input parameters we defined earlier to tell a new query to\n",
    "    # start at the item the previous query stopped at.\n",
    "\n",
    "    query_output = adspp_table.query( **query_input )\n",
    "\n",
    "    # ^^^ Runs the new query\n",
    "\n",
    "    temp_df = pd.DataFrame.from_dict( pd.json_normalize( query_output[ 'Items' ] ), orient = 'columns' )\n",
    "\n",
    "    # ^^^ Saves the new query results in a temporary dataframe\n",
    "\n",
    "    query_output_df = pd.concat( [ query_output_df, temp_df ] )\n",
    "\n",
    "    # ^^^ Appends the temporary dataframe to the 'query_output_df' defined earlier\n",
    "\n",
    "    i = i + 1\n",
    "\n",
    "    # Updates the counting variable"
   ]
  },
  {
   "cell_type": "code",
   "execution_count": 21,
   "id": "563fdf3f-66cc-49c3-8a03-4a06dc6c3237",
   "metadata": {},
   "outputs": [
    {
     "name": "stderr",
     "output_type": "stream",
     "text": [
      "PandasGUI INFO — pandasgui.gui — Opening PandasGUI\n",
      "/tmp/ipykernel_117031/2972647684.py:3: FutureWarning:\n",
      "\n",
      "Series.__getitem__ treating keys as positions is deprecated. In a future version, integer keys will always be treated as labels (consistent with DataFrame behavior). To access a value by position, use `ser.iloc[pos]`\n",
      "\n",
      "/tmp/ipykernel_117031/2972647684.py:3: FutureWarning:\n",
      "\n",
      "Series.__getitem__ treating keys as positions is deprecated. In a future version, integer keys will always be treated as labels (consistent with DataFrame behavior). To access a value by position, use `ser.iloc[pos]`\n",
      "\n",
      "/tmp/ipykernel_117031/2972647684.py:3: FutureWarning:\n",
      "\n",
      "Series.__getitem__ treating keys as positions is deprecated. In a future version, integer keys will always be treated as labels (consistent with DataFrame behavior). To access a value by position, use `ser.iloc[pos]`\n",
      "\n",
      "/tmp/ipykernel_117031/2972647684.py:3: FutureWarning:\n",
      "\n",
      "Series.__getitem__ treating keys as positions is deprecated. In a future version, integer keys will always be treated as labels (consistent with DataFrame behavior). To access a value by position, use `ser.iloc[pos]`\n",
      "\n",
      "/tmp/ipykernel_117031/2972647684.py:3: FutureWarning:\n",
      "\n",
      "Series.__getitem__ treating keys as positions is deprecated. In a future version, integer keys will always be treated as labels (consistent with DataFrame behavior). To access a value by position, use `ser.iloc[pos]`\n",
      "\n",
      "/tmp/ipykernel_117031/2972647684.py:3: FutureWarning:\n",
      "\n",
      "Series.__getitem__ treating keys as positions is deprecated. In a future version, integer keys will always be treated as labels (consistent with DataFrame behavior). To access a value by position, use `ser.iloc[pos]`\n",
      "\n"
     ]
    },
    {
     "data": {
      "text/plain": [
       "<pandasgui.gui.PandasGui at 0x7c8701ab3a30>"
      ]
     },
     "execution_count": 21,
     "metadata": {},
     "output_type": "execute_result"
    }
   ],
   "source": [
    "# Let's take a quick look at the dataframe again to see how many items we gained\n",
    "\n",
    "show( query_output_df )"
   ]
  },
  {
   "cell_type": "code",
   "execution_count": 208,
   "id": "7ceb8de7-1b25-4531-89b4-5035ed2b5e0e",
   "metadata": {},
   "outputs": [],
   "source": [
    "# Quite a few!\n",
    "\n",
    "# If you wish to save the dataframe, you can use the .to_csv() method from Pandas"
   ]
  },
  {
   "cell_type": "code",
   "execution_count": null,
   "id": "45cb4668-f609-4bb0-a85d-844785eb5631",
   "metadata": {},
   "outputs": [],
   "source": []
  }
 ],
 "metadata": {
  "kernelspec": {
   "display_name": "Python 3 (ipykernel)",
   "language": "python",
   "name": "python3"
  },
  "language_info": {
   "codemirror_mode": {
    "name": "ipython",
    "version": 3
   },
   "file_extension": ".py",
   "mimetype": "text/x-python",
   "name": "python",
   "nbconvert_exporter": "python",
   "pygments_lexer": "ipython3",
   "version": "3.10.12"
  }
 },
 "nbformat": 4,
 "nbformat_minor": 5
}

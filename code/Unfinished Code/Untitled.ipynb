{
 "cells": [
  {
   "cell_type": "code",
   "execution_count": 1,
   "id": "2abcbc1c-3d29-40df-a37d-5b01b45b8e1d",
   "metadata": {},
   "outputs": [],
   "source": [
    "import CalculatedFieldSubroutines as cfs\n",
    "\n",
    "#\n",
    "\n",
    "import numpy as np\n",
    "\n",
    "import pandas as pd\n",
    "\n",
    "#\n",
    "\n",
    "import matplotlib.pyplot as plt\n",
    "\n",
    "from pandasgui import show\n",
    "\n",
    "#\n",
    "\n",
    "import warnings"
   ]
  },
  {
   "cell_type": "code",
   "execution_count": 2,
   "id": "2f9b2d93-3905-4f27-8fca-d0bfd29b89ab",
   "metadata": {},
   "outputs": [],
   "source": [
    "warnings.filterwarnings( 'ignore' )"
   ]
  },
  {
   "cell_type": "code",
   "execution_count": 3,
   "id": "0a7e02b6-33ed-4930-8f3a-a7ca0bf10f32",
   "metadata": {},
   "outputs": [
    {
     "name": "stdout",
     "output_type": "stream",
     "text": [
      "['/apollo/canbus/chassis', '/apollo/drive/event', '/apollo/sensor/gnss/best/pose', '/apollo/perception/traffic/light']\n"
     ]
    }
   ],
   "source": [
    "gmID_list = cfs.list_whitelisted_gmIDs()\n",
    "\n",
    "topic_list = cfs.list_topics()\n",
    "\n",
    "print( topic_list )"
   ]
  },
  {
   "cell_type": "code",
   "execution_count": 4,
   "id": "c4e7cabd-3e6f-43ac-bab8-d86524c0aa5c",
   "metadata": {},
   "outputs": [],
   "source": [
    "combined_dfs = []\n",
    "\n",
    "for gmID in gmID_list:\n",
    "\n",
    "    if ( cfs.give_route( gmID ) != 'Red' ):\n",
    "\n",
    "        continue\n",
    "\n",
    "    chassis_df = cfs.retrieve_gmID_topic( gmID, '/apollo/canbus/chassis' )\n",
    "\n",
    "    best_pose_df = cfs.retrieve_gmID_topic( gmID, '/apollo/sensor/gnss/best/pose' )\n",
    "\n",
    "    chassis_df.sort_values( 'time' )\n",
    "\n",
    "    best_pose_df.sort_values( 'time' )\n",
    "\n",
    "    #\n",
    "\n",
    "    cfs.BinaryDrivingMode( chassis_df )\n",
    "\n",
    "    cfs.TernaryDrivingModeTransition( chassis_df )\n",
    "\n",
    "    cfs.DistanceToNearestDisengagement( chassis_df )\n",
    "\n",
    "    #\n",
    "\n",
    "    cfs.LatLonTotalStdDev( best_pose_df )\n",
    "\n",
    "    cfs.ProgressAlongRoute_v2( best_pose_df )\n",
    "\n",
    "    #\n",
    "\n",
    "    cfs.ChassisBestPoseMatchedTime( chassis_df, best_pose_df )\n",
    "\n",
    "    #\n",
    "\n",
    "    combined_df = pd.merge( chassis_df, best_pose_df, on = 'ChassisBestPoseMatchedTime', how = 'inner' )\n",
    "\n",
    "    #\n",
    "\n",
    "    combined_df = combined_df[ [ 'brakePercentage', 'speedMps', 'time_x', 'throttlePercentage', 'steeringPercentage', \\\n",
    "                                 'TernaryDrivingModeTransition', 'DistanceToNearestDisengagement', 'NearestDisengagementID', \\\n",
    "                                 'longitude', 'latitude', 'LatLonTotalStdDev', 'ProgressAlongRoute', 'PartitionNumber' ] ]\n",
    "\n",
    "    combined_dfs.append( combined_df )"
   ]
  },
  {
   "cell_type": "code",
   "execution_count": 5,
   "id": "cf0294e1-3668-4321-a9ef-9003227da910",
   "metadata": {},
   "outputs": [
    {
     "name": "stdout",
     "output_type": "stream",
     "text": [
      "<class 'pandas.core.frame.DataFrame'>\n",
      "RangeIndex: 50225 entries, 0 to 50224\n",
      "Data columns (total 13 columns):\n",
      " #   Column                          Non-Null Count  Dtype  \n",
      "---  ------                          --------------  -----  \n",
      " 0   brakePercentage                 50225 non-null  float64\n",
      " 1   speedMps                        50225 non-null  float64\n",
      " 2   time_x                          50225 non-null  int64  \n",
      " 3   throttlePercentage              50225 non-null  float64\n",
      " 4   steeringPercentage              50225 non-null  float64\n",
      " 5   TernaryDrivingModeTransition    50225 non-null  int64  \n",
      " 6   DistanceToNearestDisengagement  50225 non-null  float64\n",
      " 7   NearestDisengagementID          50225 non-null  object \n",
      " 8   longitude                       50225 non-null  float64\n",
      " 9   latitude                        50225 non-null  float64\n",
      " 10  LatLonTotalStdDev               50225 non-null  float64\n",
      " 11  ProgressAlongRoute              50225 non-null  float64\n",
      " 12  PartitionNumber                 50225 non-null  float64\n",
      "dtypes: float64(10), int64(2), object(1)\n",
      "memory usage: 5.0+ MB\n"
     ]
    }
   ],
   "source": [
    "combined_df.info()"
   ]
  },
  {
   "cell_type": "code",
   "execution_count": 6,
   "id": "b36fbf56-6da7-4fbd-8c4a-ae04d11eb462",
   "metadata": {},
   "outputs": [],
   "source": [
    "combined_df_all = pd.concat( combined_dfs )"
   ]
  },
  {
   "cell_type": "code",
   "execution_count": 7,
   "id": "915a06c9-4869-4f66-996a-67ba7a6f9310",
   "metadata": {},
   "outputs": [],
   "source": [
    "combined_df_all_sliced = combined_df_all[ ( combined_df_all[ 'ProgressAlongRoute' ] > 0.37 ) & \n",
    "                                          ( combined_df_all[ 'ProgressAlongRoute' ] < 0.41 ) ]"
   ]
  },
  {
   "cell_type": "code",
   "execution_count": 8,
   "id": "c8be7c78-1ba5-4ba6-9679-abc56c6b2920",
   "metadata": {},
   "outputs": [],
   "source": [
    "combined_df_all_disengagements = combined_df_all[ combined_df_all[ 'TernaryDrivingModeTransition' ] == -1 ]\n",
    "\n",
    "combined_df_all_disengagements_sliced = combined_df_all_sliced[ combined_df_all_sliced[ 'TernaryDrivingModeTransition' ] == -1 ]"
   ]
  },
  {
   "cell_type": "code",
   "execution_count": 9,
   "id": "093f7719-11f9-46b8-b2fa-f27d22c219ee",
   "metadata": {},
   "outputs": [
    {
     "data": {
      "image/png": "[encoded data removed]",
      "text/plain": [
       "<Figure size 640x480 with 1 Axes>"
      ]
     },
     "metadata": {},
     "output_type": "display_data"
    }
   ],
   "source": [
    "plt.hist( combined_df_all_disengagements[ 'steeringPercentage' ], bins = 50 )\n",
    "\n",
    "plt.hist( combined_df_all_disengagements_sliced[ 'steeringPercentage' ], bins = 50 )\n",
    "\n",
    "plt.show()"
   ]
  },
  {
   "cell_type": "code",
   "execution_count": 10,
   "id": "4f81d8d1-8d6b-4d5a-b128-62c36b424eed",
   "metadata": {},
   "outputs": [
    {
     "data": {
      "image/png": "[encoded data removed]",
      "text/plain": [
       "<Figure size 640x480 with 1 Axes>"
      ]
     },
     "metadata": {},
     "output_type": "display_data"
    }
   ],
   "source": [
    "plt.hist( combined_df_all_sliced[ 'steeringPercentage' ], bins = 25, density = True )\n",
    "\n",
    "plt.show()"
   ]
  },
  {
   "cell_type": "code",
   "execution_count": 13,
   "id": "8e9bdc87-765c-45a9-ab4f-d8543f699aeb",
   "metadata": {},
   "outputs": [
    {
     "name": "stderr",
     "output_type": "stream",
     "text": [
      "PandasGUI INFO — pandasgui.gui — Opening PandasGUI\n"
     ]
    },
    {
     "data": {
      "text/plain": [
       "<pandasgui.gui.PandasGui at 0x757ede97c0d0>"
      ]
     },
     "execution_count": 13,
     "metadata": {},
     "output_type": "execute_result"
    }
   ],
   "source": [
    "show( combined_df_all_sliced )"
   ]
  },
  {
   "cell_type": "code",
   "execution_count": 12,
   "id": "a309f56c-afbc-4344-b97b-41612d1592a5",
   "metadata": {},
   "outputs": [
    {
     "name": "stderr",
     "output_type": "stream",
     "text": [
      "PandasGUI INFO — pandasgui.gui — Opening PandasGUI\n"
     ]
    },
    {
     "data": {
      "text/plain": [
       "<pandasgui.gui.PandasGui at 0x757ee29ed5a0>"
      ]
     },
     "execution_count": 12,
     "metadata": {},
     "output_type": "execute_result"
    }
   ],
   "source": [
    "show( combined_dfs[ 0 ] )"
   ]
  }
 ],
 "metadata": {
  "kernelspec": {
   "display_name": "Python 3 (ipykernel)",
   "language": "python",
   "name": "python3"
  },
  "language_info": {
   "codemirror_mode": {
    "name": "ipython",
    "version": 3
   },
   "file_extension": ".py",
   "mimetype": "text/x-python",
   "name": "python",
   "nbconvert_exporter": "python",
   "pygments_lexer": "ipython3",
   "version": "3.10.12"
  }
 },
 "nbformat": 4,
 "nbformat_minor": 5
}

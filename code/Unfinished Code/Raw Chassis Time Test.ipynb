{
 "cells": [
  {
   "cell_type": "code",
   "execution_count": 1,
   "id": "eac58610-e5d5-4c57-9b85-880115d61194",
   "metadata": {},
   "outputs": [],
   "source": [
    "import boto3 \n",
    "\n",
    "from boto3.dynamodb.conditions import Key, Attr\n",
    "\n",
    "#\n",
    "\n",
    "import pandas as pd\n",
    "\n",
    "#\n",
    "\n",
    "import time\n",
    "\n",
    "from pandasgui import show\n",
    "\n",
    "from IPython.display import clear_output"
   ]
  },
  {
   "cell_type": "code",
   "execution_count": 2,
   "id": "f87c30e3-4639-4e09-a230-56010c5e6849",
   "metadata": {},
   "outputs": [],
   "source": [
    "dynamodb = boto3.resource( 'dynamodb' )\n",
    "\n",
    "adspp_table = dynamodb.Table( 'ads_passenger_processed' )"
   ]
  },
  {
   "cell_type": "code",
   "execution_count": 3,
   "id": "fa2c03e3-a181-485f-9299-a0dd40665284",
   "metadata": {},
   "outputs": [],
   "source": [
    "topic = '/apollo/canbus/chassis'"
   ]
  },
  {
   "cell_type": "code",
   "execution_count": 4,
   "id": "397c75fa-9e97-44cc-8444-8f420df03013",
   "metadata": {},
   "outputs": [],
   "source": [
    "query_input = dict(\n",
    "                   IndexName = 'topic-index',\n",
    "                   \n",
    "                   KeyConditionExpression = Key( 'topic' ).eq( topic )\n",
    "                  )"
   ]
  },
  {
   "cell_type": "code",
   "execution_count": null,
   "id": "fc99a50f-19d2-4554-bbbc-2b4ab729845f",
   "metadata": {},
   "outputs": [
    {
     "name": "stdout",
     "output_type": "stream",
     "text": [
      "4557\n"
     ]
    }
   ],
   "source": [
    "#\n",
    "\n",
    "time_start = time.time()\n",
    "\n",
    "start = True\n",
    "\n",
    "query_output = {}\n",
    "\n",
    "chassis_df_list = []\n",
    "\n",
    "i = 0\n",
    "\n",
    "while ( start or ( 'LastEvaluatedKey' in query_output.keys() ) ):\n",
    "\n",
    "    if not start:\n",
    "\n",
    "        query_input[ 'ExclusiveStartKey' ] = query_output[ 'LastEvaluatedKey' ]\n",
    "\n",
    "    start = False\n",
    "\n",
    "    query_output = adspp_table.query( **query_input )\n",
    "\n",
    "    query_output_df = pd.DataFrame.from_dict( pd.json_normalize( query_output[ 'Items' ] ), orient = 'columns' )\n",
    "\n",
    "    chassis_df_list.append( query_output_df )\n",
    "\n",
    "    i = i + 1\n",
    "\n",
    "    print( i )\n",
    "\n",
    "    clear_output( wait = True )      \n",
    "\n",
    "time_end = time.time()\n",
    "\n",
    "print( ( time_start - time_end ) / 60 )"
   ]
  },
  {
   "cell_type": "code",
   "execution_count": null,
   "id": "1caacf7e-041e-4bb0-84a1-1c8b870f7ac6",
   "metadata": {},
   "outputs": [],
   "source": []
  }
 ],
 "metadata": {
  "kernelspec": {
   "display_name": "Python 3 (ipykernel)",
   "language": "python",
   "name": "python3"
  },
  "language_info": {
   "codemirror_mode": {
    "name": "ipython",
    "version": 3
   },
   "file_extension": ".py",
   "mimetype": "text/x-python",
   "name": "python",
   "nbconvert_exporter": "python",
   "pygments_lexer": "ipython3",
   "version": "3.10.12"
  }
 },
 "nbformat": 4,
 "nbformat_minor": 5
}

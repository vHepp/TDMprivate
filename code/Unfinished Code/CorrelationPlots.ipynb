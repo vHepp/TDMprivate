{
 "cells": [
  {
   "cell_type": "code",
   "execution_count": 1,
   "id": "7c08877e-f559-43cd-8177-6a5040be8d68",
   "metadata": {},
   "outputs": [],
   "source": [
    "import CalculatedFieldSubroutines as cfs\n",
    "\n",
    "#\n",
    "\n",
    "import numpy as np\n",
    "\n",
    "import pandas as pd\n",
    "\n",
    "#\n",
    "\n",
    "import matplotlib.pyplot as plt\n",
    "\n",
    "from pandasgui import show\n",
    "\n",
    "#\n",
    "\n",
    "import warnings"
   ]
  },
  {
   "cell_type": "code",
   "execution_count": 2,
   "id": "4133066c-9c01-4335-9816-19f3a4d46fac",
   "metadata": {},
   "outputs": [],
   "source": [
    "warnings.filterwarnings( 'ignore' )"
   ]
  },
  {
   "cell_type": "code",
   "execution_count": 3,
   "id": "6d73630a-87a8-4220-9bee-e807617f29bb",
   "metadata": {},
   "outputs": [],
   "source": [
    "gmID_list = cfs.list_gmIDs()"
   ]
  },
  {
   "cell_type": "code",
   "execution_count": 4,
   "id": "b78c947d-5960-441f-bc43-c2c5fa31fa96",
   "metadata": {},
   "outputs": [
    {
     "name": "stdout",
     "output_type": "stream",
     "text": [
      "['/apollo/canbus/chassis', '/apollo/drive/event', '/apollo/sensor/gnss/best/pose', '/apollo/perception/traffic/light']\n"
     ]
    }
   ],
   "source": [
    "topic_list = cfs.list_topics()\n",
    "\n",
    "print( topic_list )"
   ]
  },
  {
   "cell_type": "code",
   "execution_count": 5,
   "id": "3fbdbc1e-65fa-41ee-a631-04bb95de33f3",
   "metadata": {},
   "outputs": [],
   "source": [
    "reference_red_route_best_pose_df = cfs.retrieve_gmID_topic( 'c0555ef0-f50f-11ee-8afa-cb629b0d53e6', '/apollo/sensor/gnss/best/pose' )\n",
    "\n",
    "reference_green_route_best_pose_df = cfs.retrieve_gmID_topic( '5afabc8c-f035-11ee-b966-fb353e7798cd', '/apollo/sensor/gnss/best/pose' )\n",
    "\n",
    "reference_blue_route_best_pose_df = cfs.retrieve_gmID_topic( '06cbdbc0-db4d-11ee-a158-97f8443fd730', '/apollo/sensor/gnss/best/pose' )\n",
    "\n",
    "#\n",
    "\n",
    "red_route_combined_df_list = []\n",
    "\n",
    "green_route_combined_df_list = []\n",
    "\n",
    "blue_route_combined_df_list = []\n",
    "\n",
    "for gmID in gmID_list:\n",
    "\n",
    "    #\n",
    "\n",
    "    current_gmID_chassis_df = cfs.retrieve_gmID_topic( gmID, '/apollo/canbus/chassis' )\n",
    "\n",
    "    current_gmID_best_pose_df = cfs.retrieve_gmID_topic( gmID, '/apollo/sensor/gnss/best/pose' )\n",
    "\n",
    "    #\n",
    "\n",
    "    current_gmID_chassis_df = current_gmID_chassis_df.sort_values( 'time' )\n",
    "\n",
    "    current_gmID_best_pose_df = current_gmID_best_pose_df.sort_values( 'time' )\n",
    "\n",
    "    #\n",
    "\n",
    "    cfs.BinaryDrivingMode( current_gmID_chassis_df )\n",
    "\n",
    "    cfs.TernaryDrivingModeTransition( current_gmID_chassis_df )\n",
    "\n",
    "    cfs.NormalizedTime( current_gmID_chassis_df )\n",
    "\n",
    "    cfs.DeltaTime( current_gmID_chassis_df )\n",
    "\n",
    "    #\n",
    "\n",
    "    cfs.LatLonTotalStdDev( current_gmID_best_pose_df )\n",
    "\n",
    "    cfs.NormalizedTime( current_gmID_best_pose_df )\n",
    "\n",
    "    cfs.DeltaTime( current_gmID_best_pose_df )\n",
    "\n",
    "    #\n",
    "\n",
    "    route = cfs.give_route( gmID )\n",
    "\n",
    "    if ( route == 'Red' ):\n",
    "\n",
    "        cfs.ProgressAlongRoute( current_gmID_best_pose_df, reference_red_route_best_pose_df )\n",
    "\n",
    "    elif ( route == 'Green' ):\n",
    "\n",
    "        cfs.ProgressAlongRoute( current_gmID_best_pose_df, reference_green_route_best_pose_df )\n",
    "\n",
    "    else:\n",
    "\n",
    "        cfs.ProgressAlongRoute( current_gmID_best_pose_df, reference_blue_route_best_pose_df )\n",
    "\n",
    "    #\n",
    "\n",
    "    cfs.ChassisBestPoseMatchedTime( current_gmID_chassis_df, current_gmID_best_pose_df )\n",
    "\n",
    "    #\n",
    "\n",
    "    current_gmID_combined_df = pd.merge( current_gmID_chassis_df, current_gmID_best_pose_df, on = 'ChassisBestPoseMatchedTime', how = 'inner' )\n",
    "\n",
    "    if ( route == 'Red' ):\n",
    "\n",
    "        red_route_combined_df_list.append( current_gmID_combined_df )\n",
    "\n",
    "    elif ( route == 'Green' ):\n",
    "\n",
    "        green_route_combined_df_list.append( current_gmID_combined_df )\n",
    "\n",
    "    else:\n",
    "\n",
    "        blue_route_combined_df_list.append( current_gmID_combined_df )"
   ]
  },
  {
   "cell_type": "code",
   "execution_count": 6,
   "id": "fa94b080-fb02-4076-82b6-2a7e94feb423",
   "metadata": {},
   "outputs": [],
   "source": [
    "red_route_combined_df_all = pd.concat( red_route_combined_df_list )\n",
    "\n",
    "green_route_combined_df_all = pd.concat( green_route_combined_df_list )\n",
    "\n",
    "blue_route_combined_df_all = pd.concat( blue_route_combined_df_list )"
   ]
  },
  {
   "cell_type": "code",
   "execution_count": 27,
   "id": "952fe8b5-9140-4809-af29-76afdc2c92d8",
   "metadata": {},
   "outputs": [],
   "source": [
    "all_route_df = pd.concat( [ red_route_combined_df_all, green_route_combined_df_all, blue_route_combined_df_all ] )"
   ]
  },
  {
   "cell_type": "code",
   "execution_count": 7,
   "id": "77009f9c-2ec2-4466-8ccc-5412ee48c0c0",
   "metadata": {},
   "outputs": [
    {
     "name": "stdout",
     "output_type": "stream",
     "text": [
      "<class 'pandas.core.frame.DataFrame'>\n",
      "Index: 5178034 entries, 0 to 22207\n",
      "Data columns (total 29 columns):\n",
      " #   Column                        Dtype  \n",
      "---  ------                        -----  \n",
      " 0   brakePercentage               float64\n",
      " 1   groupMetadataID_x             object \n",
      " 2   drivingMode                   object \n",
      " 3   speedMps                      float64\n",
      " 4   time_x                        int64  \n",
      " 5   throttlePercentage            float64\n",
      " 6   steeringPercentage            float64\n",
      " 7   signal.turnSignal             object \n",
      " 8   BinaryDrivingMode             int64  \n",
      " 9   TernaryDrivingModeTransition  int64  \n",
      " 10  NormalizedTime_x              int64  \n",
      " 11  DeltaTime_x                   int64  \n",
      " 12  ChassisBestPoseMatchedTime    int64  \n",
      " 13  heightMsl                     float64\n",
      " 14  groupMetadataID_y             object \n",
      " 15  latitudeStdDev                float64\n",
      " 16  longitude                     float64\n",
      " 17  solType                       object \n",
      " 18  extendedSolutionStatus        int64  \n",
      " 19  time_y                        int64  \n",
      " 20  heightStdDev                  float64\n",
      " 21  solStatus                     object \n",
      " 22  latitude                      float64\n",
      " 23  longitudeStdDev               float64\n",
      " 24  numSatsInSolution             int64  \n",
      " 25  LatLonTotalStdDev             float64\n",
      " 26  NormalizedTime_y              int64  \n",
      " 27  DeltaTime_y                   int64  \n",
      " 28  ProgressAlongRoute            float64\n",
      "dtypes: float64(12), int64(11), object(6)\n",
      "memory usage: 1.2+ GB\n"
     ]
    }
   ],
   "source": [
    "red_route_combined_df_all.info()"
   ]
  },
  {
   "cell_type": "code",
   "execution_count": 8,
   "id": "897c27cd-d85b-4469-9740-4be3a8054330",
   "metadata": {},
   "outputs": [],
   "source": [
    "quantitative_variables = [ 'brakePercentage', 'speedMps', 'throttlePercentage', 'steeringPercentage', 'numSatsInSolution', \\\n",
    "                           'LatLonTotalStdDev', 'ProgressAlongRoute', 'heightStdDev' ]\n",
    "\n",
    "qualitative_variables = [ 'signal.turnSignal', 'extendedSolutionStatus', 'BinaryDrivingMode', 'TernaryDrivingModeTransition' ]\n",
    "\n",
    "variables = quantitative_variables + qualitative_variables"
   ]
  },
  {
   "cell_type": "code",
   "execution_count": 9,
   "id": "4ed487ce-02dc-4ad7-b7b1-37f3e4a4dd4e",
   "metadata": {},
   "outputs": [],
   "source": [
    "combinations = []\n",
    "\n",
    "for variable_x in variables:\n",
    "\n",
    "    for variable_y in variables:\n",
    "\n",
    "        combination = { variable_x, variable_y }\n",
    "\n",
    "        if combination not in combinations:\n",
    "\n",
    "            combinations.append( combination )"
   ]
  },
  {
   "cell_type": "code",
   "execution_count": 10,
   "id": "207873b4-a036-44e9-833b-317cfd63b97b",
   "metadata": {},
   "outputs": [
    {
     "data": {
      "text/plain": [
       "78"
      ]
     },
     "execution_count": 10,
     "metadata": {},
     "output_type": "execute_result"
    }
   ],
   "source": [
    "len( combinations )"
   ]
  },
  {
   "cell_type": "code",
   "execution_count": 11,
   "id": "8d424f69-c0bf-46ef-a9f5-acc54a29f87b",
   "metadata": {},
   "outputs": [
    {
     "name": "stdout",
     "output_type": "stream",
     "text": [
      "{'brakePercentage', 'BinaryDrivingMode'}\n",
      "{'speedMps', 'BinaryDrivingMode'}\n",
      "{'BinaryDrivingMode', 'throttlePercentage'}\n",
      "{'steeringPercentage', 'BinaryDrivingMode'}\n",
      "{'BinaryDrivingMode', 'numSatsInSolution'}\n",
      "{'LatLonTotalStdDev', 'BinaryDrivingMode'}\n",
      "{'BinaryDrivingMode', 'ProgressAlongRoute'}\n",
      "{'BinaryDrivingMode', 'heightStdDev'}\n",
      "{'signal.turnSignal', 'BinaryDrivingMode'}\n",
      "{'BinaryDrivingMode', 'extendedSolutionStatus'}\n",
      "{'BinaryDrivingMode'}\n",
      "{'TernaryDrivingModeTransition', 'BinaryDrivingMode'}\n"
     ]
    }
   ],
   "source": [
    "for combination in combinations:\n",
    "\n",
    "    if 'BinaryDrivingMode' in combination:\n",
    "\n",
    "        print( combination )"
   ]
  },
  {
   "cell_type": "code",
   "execution_count": 12,
   "id": "1809c5d9-1dca-4527-a26b-3e0a348c7360",
   "metadata": {},
   "outputs": [],
   "source": [
    "# BinaryDrivingMode/TernaryDrivingModeTransition, extendedSolutionStatus Plots"
   ]
  },
  {
   "cell_type": "code",
   "execution_count": 38,
   "id": "4c950cc0-a320-4671-9d9d-1da0828a6e14",
   "metadata": {},
   "outputs": [],
   "source": [
    "extendedSolutionStatus_unqiuelist = all_route_df[ 'extendedSolutionStatus' ].value_counts().index.tolist()\n",
    "\n",
    "base_dict = {}\n",
    "\n",
    "for key in extendedSolutionStatus_unqiuelist:\n",
    "\n",
    "    base_dict[ key ] = 0"
   ]
  },
  {
   "cell_type": "code",
   "execution_count": 39,
   "id": "b2c237c5-b39f-46df-8bfd-0e52b37e85ef",
   "metadata": {},
   "outputs": [],
   "source": [
    "all_routes_extendedSolutionStatus_values = all_route_df[ 'extendedSolutionStatus' ].value_counts().index.tolist()\n",
    "\n",
    "all_routes_extendedSolutionStatus_counts = list( all_route_df[ 'extendedSolutionStatus' ].value_counts() )\n",
    "\n",
    "all_routes_extendedSolutionStatus_valuecounts = base_dict.copy()\n",
    "\n",
    "for value, count in zip( all_routes_extendedSolutionStatus_values, all_routes_extendedSolutionStatus_counts ):\n",
    "\n",
    "    all_routes_extendedSolutionStatus_valuecounts[ value ] = count"
   ]
  },
  {
   "cell_type": "code",
   "execution_count": 40,
   "id": "b419f862-425f-4016-8144-2c37ffdc1f1d",
   "metadata": {},
   "outputs": [],
   "source": [
    "all_routes_manual_extendedSolutionStatus_values = all_route_df[ all_route_df[ 'BinaryDrivingMode' ] == 0 ] \\\n",
    "                                                              [ 'extendedSolutionStatus' ].value_counts().index.tolist()\n",
    "\n",
    "all_routes_manual_extendedSolutionStatus_counts = list( all_route_df[ all_route_df[ 'BinaryDrivingMode' ] == 0 ] \\\n",
    "                                                                    [ 'extendedSolutionStatus' ].value_counts() )\n",
    "\n",
    "all_routes_manual_extendedSolutionStatus_valuecounts = base_dict.copy()\n",
    "\n",
    "for value, count in zip( all_routes_manual_extendedSolutionStatus_values, all_routes_manual_extendedSolutionStatus_counts ):\n",
    "\n",
    "    all_routes_manual_extendedSolutionStatus_valuecounts[ value ] = count"
   ]
  },
  {
   "cell_type": "code",
   "execution_count": 43,
   "id": "5c646d19-feff-4493-8537-137518a6e16a",
   "metadata": {},
   "outputs": [],
   "source": [
    "all_routes_auto_extendedSolutionStatus_values = all_route_df[ all_route_df[ 'BinaryDrivingMode' ] == 1 ] \\\n",
    "                                                              [ 'extendedSolutionStatus' ].value_counts().index.tolist()\n",
    "\n",
    "all_routes_auto_extendedSolutionStatus_counts = list( all_route_df[ all_route_df[ 'BinaryDrivingMode' ] == 1 ] \\\n",
    "                                                                    [ 'extendedSolutionStatus' ].value_counts() )\n",
    "\n",
    "all_routes_auto_extendedSolutionStatus_valuecounts = base_dict.copy()\n",
    "\n",
    "for value, count in zip( all_routes_auto_extendedSolutionStatus_values, all_routes_auto_extendedSolutionStatus_counts ):\n",
    "\n",
    "    all_routes_auto_extendedSolutionStatus_valuecounts[ value ] = count"
   ]
  },
  {
   "cell_type": "code",
   "execution_count": 45,
   "id": "d6719955-fd5c-4032-8695-2cbee8b42200",
   "metadata": {},
   "outputs": [],
   "source": [
    "all_routes_disengagement_extendedSolutionStatus_values = all_route_df[ all_route_df[ 'TernaryDrivingModeTransition' ] == -1 ] \\\n",
    "                                                              [ 'extendedSolutionStatus' ].value_counts().index.tolist()\n",
    "\n",
    "all_routes_disengagement_extendedSolutionStatus_counts = list( all_route_df[ all_route_df[ 'TernaryDrivingModeTransition' ] == -1 ] \\\n",
    "                                                                    [ 'extendedSolutionStatus' ].value_counts() )\n",
    "\n",
    "all_routes_disengagement_extendedSolutionStatus_valuecounts = base_dict.copy()\n",
    "\n",
    "for value, count in zip( all_routes_disengagement_extendedSolutionStatus_values, all_routes_disengagement_extendedSolutionStatus_counts ):\n",
    "\n",
    "    all_routes_disengagement_extendedSolutionStatus_valuecounts[ value ] = count"
   ]
  },
  {
   "cell_type": "code",
   "execution_count": 47,
   "id": "900b70bf-0ee7-430f-a5a9-ce71aa14e504",
   "metadata": {},
   "outputs": [],
   "source": [
    "all_routes_reengagement_extendedSolutionStatus_values = all_route_df[ all_route_df[ 'TernaryDrivingModeTransition' ] == 1 ] \\\n",
    "                                                              [ 'extendedSolutionStatus' ].value_counts().index.tolist()\n",
    "\n",
    "all_routes_reengagement_extendedSolutionStatus_counts = list( all_route_df[ all_route_df[ 'TernaryDrivingModeTransition' ] == 1 ] \\\n",
    "                                                                    [ 'extendedSolutionStatus' ].value_counts() )\n",
    "\n",
    "all_routes_reengagement_extendedSolutionStatus_valuecounts = base_dict.copy()\n",
    "\n",
    "for value, count in zip( all_routes_reengagement_extendedSolutionStatus_values, all_routes_reengagement_extendedSolutionStatus_counts ):\n",
    "\n",
    "    all_routes_reengagement_extendedSolutionStatus_valuecounts[ value ] = count"
   ]
  },
  {
   "cell_type": "code",
   "execution_count": 49,
   "id": "5bcd1605-e18c-4c96-8cee-bde64923a061",
   "metadata": {},
   "outputs": [],
   "source": [
    "all_routes_noengagement_extendedSolutionStatus_values = all_route_df[ all_route_df[ 'TernaryDrivingModeTransition' ] == 0 ] \\\n",
    "                                                              [ 'extendedSolutionStatus' ].value_counts().index.tolist()\n",
    "\n",
    "all_routes_noengagement_extendedSolutionStatus_counts = list( all_route_df[ all_route_df[ 'TernaryDrivingModeTransition' ] == 0 ] \\\n",
    "                                                                    [ 'extendedSolutionStatus' ].value_counts() )\n",
    "\n",
    "all_routes_noengagement_extendedSolutionStatus_valuecounts = base_dict.copy()\n",
    "\n",
    "for value, count in zip( all_routes_noengagement_extendedSolutionStatus_values, all_routes_noengagement_extendedSolutionStatus_counts ):\n",
    "\n",
    "    all_routes_noengagement_extendedSolutionStatus_valuecounts[ value ] = count"
   ]
  },
  {
   "cell_type": "code",
   "execution_count": 50,
   "id": "0bf5bacc-a942-4ecb-a773-34bf9545dfd7",
   "metadata": {},
   "outputs": [
    {
     "name": "stdout",
     "output_type": "stream",
     "text": [
      "{33: 10830866, 32: 2657204, 8: 467470, 136: 415370, 6: 127506, 0: 73459, 134: 31286, 2: 3652, 130: 302}\n",
      "{33: 4157566, 32: 1096390, 8: 155672, 136: 163411, 6: 122578, 0: 30319, 134: 29634, 2: 2057, 130: 150}\n",
      "{33: 6673300, 32: 1560814, 8: 311798, 136: 251959, 6: 4928, 0: 43140, 134: 1652, 2: 1595, 130: 152}\n",
      "{33: 1507, 32: 449, 8: 109, 136: 129, 6: 7, 0: 14, 134: 0, 2: 2, 130: 0}\n",
      "{33: 1638, 32: 416, 8: 73, 136: 63, 6: 4, 0: 18, 134: 3, 2: 2, 130: 0}\n",
      "{33: 10827721, 32: 2656339, 8: 467288, 136: 415178, 6: 127495, 0: 73427, 134: 31283, 2: 3648, 130: 302}\n"
     ]
    }
   ],
   "source": [
    "print( all_routes_extendedSolutionStatus_valuecounts )\n",
    "\n",
    "print( all_routes_manual_extendedSolutionStatus_valuecounts )\n",
    "\n",
    "print( all_routes_auto_extendedSolutionStatus_valuecounts )\n",
    "\n",
    "print( all_routes_disengagement_extendedSolutionStatus_valuecounts )\n",
    "\n",
    "print( all_routes_reengagement_extendedSolutionStatus_valuecounts )\n",
    "\n",
    "print( all_routes_noengagement_extendedSolutionStatus_valuecounts )"
   ]
  },
  {
   "cell_type": "code",
   "execution_count": 72,
   "id": "93989059-46a9-4c75-bd49-040f4acd0cb8",
   "metadata": {},
   "outputs": [
    {
     "data": {
      "image/png": "[encoded data removed]",
      "text/plain": [
       "<Figure size 1000x500 with 1 Axes>"
      ]
     },
     "metadata": {},
     "output_type": "display_data"
    }
   ],
   "source": [
    "bar_labels = [ str( x ) for x in all_routes_extendedSolutionStatus_valuecounts.keys() ]\n",
    "\n",
    "subbar1_counts = np.array( [ x for x in all_routes_auto_extendedSolutionStatus_valuecounts.values() ] )\n",
    "\n",
    "subbar2_counts = np.array( [ x for x in all_routes_manual_extendedSolutionStatus_valuecounts.values() ] )\n",
    "\n",
    "subbar_labels_counts = {\n",
    "\n",
    "    'Automatic': subbar1_counts / np.sum( subbar1_counts ),\n",
    "    \n",
    "    'Manual': subbar2_counts / np.sum( subbar2_counts )\n",
    "    \n",
    "}\n",
    "\n",
    "x = np.arange( len( bar_labels ) )  # the label locations\n",
    "\n",
    "width = 0.25  # the width of the bars\n",
    "\n",
    "multiplier = 0\n",
    "\n",
    "fig, ax = plt.subplots( layout = 'constrained' )\n",
    "\n",
    "fig.set_size_inches( 10, 5 )\n",
    "\n",
    "for subbar_label, counts in subbar_labels_counts.items():\n",
    "    \n",
    "    offset = width * multiplier\n",
    "    \n",
    "    rects = ax.bar( x + offset, counts, width, label = subbar_label )\n",
    "    \n",
    "    # ax.bar_label( rects, padding = 3 )\n",
    "    \n",
    "    multiplier += 1\n",
    "\n",
    "# Add some text for labels, title and custom x-axis tick labels, etc.\n",
    "\n",
    "ax.set_xlabel( 'extendedSolutionStatus' )\n",
    "\n",
    "ax.set_ylabel( 'Proportion of Counts' )\n",
    "\n",
    "ax.set_title( 'extendedSolutionStatus for Driving Modes (All Routes)' )\n",
    "\n",
    "ax.set_xticks( x + width, bar_labels )\n",
    "\n",
    "ax.legend( loc = 'upper right', ncols = 2 )\n",
    "\n",
    "plt.show()"
   ]
  },
  {
   "cell_type": "code",
   "execution_count": 74,
   "id": "a59c10bd-3159-437c-9184-e42080d62469",
   "metadata": {},
   "outputs": [
    {
     "data": {
      "image/png": "[encoded data removed]",
      "text/plain": [
       "<Figure size 1000x500 with 1 Axes>"
      ]
     },
     "metadata": {},
     "output_type": "display_data"
    }
   ],
   "source": [
    "bar_labels = [ str( x ) for x in all_routes_extendedSolutionStatus_valuecounts.keys() ]\n",
    "\n",
    "subbar1_counts = np.array( [ x for x in all_routes_noengagement_extendedSolutionStatus_valuecounts.values() ] )\n",
    "\n",
    "subbar2_counts = np.array( [ x for x in all_routes_disengagement_extendedSolutionStatus_valuecounts.values() ] )\n",
    "\n",
    "subbar3_counts = np.array( [ x for x in all_routes_reengagement_extendedSolutionStatus_valuecounts.values() ] )\n",
    "\n",
    "subbar_labels_counts = {\n",
    "\n",
    "    'Noengagement': subbar1_counts / np.sum( subbar1_counts ),\n",
    "    \n",
    "    'Disengagement': subbar2_counts / np.sum( subbar2_counts ),\n",
    "\n",
    "    'Reengagement': subbar3_counts / np.sum( subbar3_counts )\n",
    "    \n",
    "}\n",
    "\n",
    "x = np.arange( len( bar_labels ) )  # the label locations\n",
    "\n",
    "width = 0.25  # the width of the bars\n",
    "\n",
    "multiplier = 0\n",
    "\n",
    "fig, ax = plt.subplots( layout = 'constrained' )\n",
    "\n",
    "fig.set_size_inches( 10, 5 )\n",
    "\n",
    "for subbar_label, counts in subbar_labels_counts.items():\n",
    "    \n",
    "    offset = width * multiplier\n",
    "    \n",
    "    rects = ax.bar( x + offset, counts, width, label = subbar_label )\n",
    "    \n",
    "    # ax.bar_label( rects, padding = 3 )\n",
    "    \n",
    "    multiplier += 1\n",
    "\n",
    "# Add some text for labels, title and custom x-axis tick labels, etc.\n",
    "\n",
    "ax.set_xlabel( 'extendedSolutionStatus' )\n",
    "\n",
    "ax.set_ylabel( 'Proportion of Counts' )\n",
    "\n",
    "ax.set_title( 'extendedSolutionStatus for Driving Mode Transitions (All Routes)' )\n",
    "\n",
    "ax.set_xticks( x + width, bar_labels )\n",
    "\n",
    "ax.legend( loc = 'upper right', ncols = 3 )\n",
    "\n",
    "plt.show()"
   ]
  },
  {
   "cell_type": "code",
   "execution_count": null,
   "id": "985cdd92-ff77-4be7-85c2-660e35db52f7",
   "metadata": {},
   "outputs": [],
   "source": []
  }
 ],
 "metadata": {
  "kernelspec": {
   "display_name": "Python 3 (ipykernel)",
   "language": "python",
   "name": "python3"
  },
  "language_info": {
   "codemirror_mode": {
    "name": "ipython",
    "version": 3
   },
   "file_extension": ".py",
   "mimetype": "text/x-python",
   "name": "python",
   "nbconvert_exporter": "python",
   "pygments_lexer": "ipython3",
   "version": "3.10.12"
  }
 },
 "nbformat": 4,
 "nbformat_minor": 5
}

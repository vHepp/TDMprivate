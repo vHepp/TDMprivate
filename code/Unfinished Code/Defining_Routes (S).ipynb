{
 "cells": [
  {
   "cell_type": "code",
   "execution_count": 41,
   "id": "0a0e270a-aa09-4538-805d-4fd62c39c0b5",
   "metadata": {},
   "outputs": [],
   "source": [
    "import numpy as np\n",
    "\n",
    "import pandas as pd\n",
    "\n",
    "import matplotlib.pyplot as plt\n",
    "\n",
    "import CalculatedFieldSubroutines as cfs\n",
    "\n",
    "from pandasgui import show\n",
    "\n",
    "import os\n",
    "\n",
    "import warnings"
   ]
  },
  {
   "cell_type": "code",
   "execution_count": 42,
   "id": "dd3fc92d-d0c0-4175-b120-c263f9ae6f67",
   "metadata": {},
   "outputs": [],
   "source": [
    "warnings.filterwarnings( 'ignore' )"
   ]
  },
  {
   "cell_type": "code",
   "execution_count": 43,
   "id": "805ad246-2596-471b-9801-1836085c3e09",
   "metadata": {},
   "outputs": [],
   "source": [
    "def origin_dir():\n",
    "\n",
    "    home_dir_list = os.listdir( '/home' )\n",
    "\n",
    "    for dir in home_dir_list:\n",
    "\n",
    "        if '_linux' in dir:\n",
    "\n",
    "            path = f'/home/{dir}/Desktop/TDMprivate'\n",
    "\n",
    "            if not os.path.exists( path ):\n",
    "\n",
    "                raise Exception( 'TDMprivate folder does not exist. TDMprivate folder must exist on Desktop. Notify Ryan or ' +\n",
    "                                 'Vincent if this message appears.' )\n",
    "\n",
    "            else:\n",
    "\n",
    "                return path"
   ]
  },
  {
   "cell_type": "code",
   "execution_count": 44,
   "id": "97c40e60-1332-4e24-ae1c-d67c4d266208",
   "metadata": {},
   "outputs": [],
   "source": [
    "metadata_df = pd.read_csv( f'{ origin_dir() }/metadata/metadata.csv' )"
   ]
  },
  {
   "cell_type": "code",
   "execution_count": 45,
   "id": "78c7cd27-0174-4b9b-a49b-e0a9c73db00e",
   "metadata": {},
   "outputs": [],
   "source": [
    "red_route_gmID_list  = metadata_df[ metadata_df[ 'Route' ] == 'Red' ][ 'groupMetadataID' ].tolist()\n",
    "\n",
    "green_route_gmID_list  = metadata_df[ metadata_df[ 'Route' ] == 'Green' ][ 'groupMetadataID' ].tolist() \n",
    "\n",
    "blue_route_gmID_list  = metadata_df[ metadata_df[ 'Route' ] == 'Blue' ][ 'groupMetadataID' ].tolist()"
   ]
  },
  {
   "cell_type": "code",
   "execution_count": 46,
   "id": "086f9e25-9f99-468e-9abb-0e1e16fe127d",
   "metadata": {},
   "outputs": [],
   "source": [
    "best_pose_file_string = '_apollo_sensor_gnss_best_pose'\n",
    "\n",
    "#\n",
    "\n",
    "red_route_best_pose_df_list = []\n",
    "\n",
    "for gmID in red_route_gmID_list:\n",
    "\n",
    "    current_gmID_best_pose_df = pd.read_csv( f'{ origin_dir() }/data/{ gmID }/{ best_pose_file_string }/{ gmID + best_pose_file_string }.csv' )\n",
    "\n",
    "    current_gmID_best_pose_df = current_gmID_best_pose_df.sort_values( 'time' )\n",
    "\n",
    "    red_route_best_pose_df_list.append( current_gmID_best_pose_df )\n",
    "\n",
    "green_route_best_pose_df_list = []\n",
    "\n",
    "for gmID in green_route_gmID_list:\n",
    "\n",
    "    current_gmID_best_pose_df = pd.read_csv( f'{ origin_dir() }/data/{ gmID }/{ best_pose_file_string }/{ gmID + best_pose_file_string }.csv' )\n",
    "\n",
    "    current_gmID_best_pose_df = current_gmID_best_pose_df.sort_values( 'time' )\n",
    "\n",
    "    green_route_best_pose_df_list.append( current_gmID_best_pose_df )\n",
    "\n",
    "blue_route_best_pose_df_list = []\n",
    "\n",
    "for gmID in blue_route_gmID_list:\n",
    "\n",
    "    current_gmID_best_pose_df = pd.read_csv( f'{ origin_dir() }/data/{ gmID }/{ best_pose_file_string }/{ gmID + best_pose_file_string }.csv' )\n",
    "\n",
    "    current_gmID_best_pose_df = current_gmID_best_pose_df.sort_values( 'time' )\n",
    "\n",
    "    blue_route_best_pose_df_list.append( current_gmID_best_pose_df )"
   ]
  },
  {
   "cell_type": "code",
   "execution_count": 48,
   "id": "b744ac4f-b188-44f5-9510-ac09c4b5d9b8",
   "metadata": {},
   "outputs": [],
   "source": [
    "reference_blue_best_pose_df = blue_route_best_pose_df_list[ 0 ]"
   ]
  },
  {
   "cell_type": "code",
   "execution_count": 49,
   "id": "403059d5-eb17-44ff-8f74-513fc6c3da8c",
   "metadata": {},
   "outputs": [],
   "source": [
    "cfs.ProgressAlongRoute( reference_blue_best_pose_df, reference_blue_best_pose_df )"
   ]
  },
  {
   "cell_type": "code",
   "execution_count": 51,
   "id": "967aa24a-4931-487d-871a-0ef9b8dcd6cb",
   "metadata": {},
   "outputs": [],
   "source": [
    "cfs.ProgressAlongRoute( blue_route_best_pose_df_list[ 1 ], reference_blue_best_pose_df )"
   ]
  },
  {
   "cell_type": "code",
   "execution_count": 52,
   "id": "95bd4712-2c88-44d9-a2f5-2d27241d268e",
   "metadata": {},
   "outputs": [
    {
     "name": "stderr",
     "output_type": "stream",
     "text": [
      "PandasGUI INFO — pandasgui.gui — Opening PandasGUI\n"
     ]
    },
    {
     "data": {
      "text/plain": [
       "<pandasgui.gui.PandasGui at 0x78cb23e62d40>"
      ]
     },
     "execution_count": 52,
     "metadata": {},
     "output_type": "execute_result"
    }
   ],
   "source": [
    "show( blue_route_best_pose_df_list[ 1 ] )"
   ]
  },
  {
   "cell_type": "code",
   "execution_count": null,
   "id": "2006931a-e17e-45d2-b503-a1596b73f49c",
   "metadata": {},
   "outputs": [],
   "source": []
  },
  {
   "cell_type": "code",
   "execution_count": 47,
   "id": "99333969-0631-43c8-9cd8-08a2d8e2009c",
   "metadata": {},
   "outputs": [
    {
     "name": "stdout",
     "output_type": "stream",
     "text": [
      "<class 'pandas.core.frame.DataFrame'>\n",
      "RangeIndex: 1756 entries, 0 to 1755\n",
      "Data columns (total 12 columns):\n",
      " #   Column                  Non-Null Count  Dtype  \n",
      "---  ------                  --------------  -----  \n",
      " 0   heightMsl               1756 non-null   float64\n",
      " 1   groupMetadataID         1756 non-null   object \n",
      " 2   latitudeStdDev          1756 non-null   float64\n",
      " 3   longitude               1756 non-null   float64\n",
      " 4   solType                 1756 non-null   object \n",
      " 5   extendedSolutionStatus  1756 non-null   int64  \n",
      " 6   time                    1756 non-null   int64  \n",
      " 7   heightStdDev            1756 non-null   float64\n",
      " 8   solStatus               1756 non-null   object \n",
      " 9   latitude                1756 non-null   float64\n",
      " 10  longitudeStdDev         1756 non-null   float64\n",
      " 11  numSatsInSolution       1756 non-null   int64  \n",
      "dtypes: float64(6), int64(3), object(3)\n",
      "memory usage: 164.8+ KB\n"
     ]
    }
   ],
   "source": [
    "blue_route_best_pose_df_list[ 0 ].info()"
   ]
  },
  {
   "cell_type": "code",
   "execution_count": 38,
   "id": "1ba868c9-ae5c-4a32-9298-6c847fa68ae4",
   "metadata": {},
   "outputs": [
    {
     "data": {
      "text/plain": [
       "39.31899250557216"
      ]
     },
     "execution_count": 38,
     "metadata": {},
     "output_type": "execute_result"
    }
   ],
   "source": [
    "min( blue_route_best_pose_df_list[ 2 ][ 'latitude' ] )"
   ]
  },
  {
   "cell_type": "code",
   "execution_count": 7,
   "id": "76c76cec-1c6f-4df1-bce3-16c306298bb3",
   "metadata": {},
   "outputs": [],
   "source": [
    "latitude_array = np.array( blue_route_best_pose_df_list[ 0 ][ 'latitude' ] )\n",
    "\n",
    "longitude_array = np.array( blue_route_best_pose_df_list[ 0 ][ 'longitude' ] )"
   ]
  },
  {
   "cell_type": "code",
   "execution_count": 10,
   "id": "023600da-6ea8-44a8-a58e-7b630da5e2db",
   "metadata": {},
   "outputs": [],
   "source": [
    "latitude_diff_array = np.diff( latitude_array )\n",
    "\n",
    "longitude_diff_array = np.diff( longitude_array )"
   ]
  },
  {
   "cell_type": "code",
   "execution_count": 15,
   "id": "8739ff68-a7cc-4d96-940e-ce633cf11ddd",
   "metadata": {},
   "outputs": [
    {
     "name": "stdout",
     "output_type": "stream",
     "text": [
      "0.0\n"
     ]
    }
   ],
   "source": [
    "print( np.min( np.sqrt( latitude_diff_array ** 2 + longitude_diff_array ** 2 ) ) )"
   ]
  },
  {
   "cell_type": "code",
   "execution_count": 11,
   "id": "11affcb5-92cb-413e-af40-f02c8cbb100c",
   "metadata": {},
   "outputs": [
    {
     "data": {
      "image/png": "[encoded data removed]",
      "text/plain": [
       "<Figure size 640x480 with 1 Axes>"
      ]
     },
     "metadata": {},
     "output_type": "display_data"
    }
   ],
   "source": [
    "plt.plot( np.sqrt( latitude_diff_array ** 2 + longitude_diff_array ** 2 ) )\n",
    "\n",
    "plt.show()"
   ]
  },
  {
   "cell_type": "code",
   "execution_count": 40,
   "id": "af4becc2-bfa7-44bc-8d5f-21d040878fd4",
   "metadata": {},
   "outputs": [
    {
     "name": "stdout",
     "output_type": "stream",
     "text": [
      "[0, 1, 2, 3, 4, 5]\n",
      "[0, 1, 2, 3, 4]\n"
     ]
    }
   ],
   "source": [
    "list1 = [ 0, 1, 2, 3, 4, 5 ]\n",
    "\n",
    "print( list1 )\n",
    "\n",
    "print( list1[ : -1 ] )"
   ]
  },
  {
   "cell_type": "code",
   "execution_count": null,
   "id": "4562987d-5a40-4805-a30e-a0db1aa6d373",
   "metadata": {},
   "outputs": [],
   "source": []
  }
 ],
 "metadata": {
  "kernelspec": {
   "display_name": "Python 3 (ipykernel)",
   "language": "python",
   "name": "python3"
  },
  "language_info": {
   "codemirror_mode": {
    "name": "ipython",
    "version": 3
   },
   "file_extension": ".py",
   "mimetype": "text/x-python",
   "name": "python",
   "nbconvert_exporter": "python",
   "pygments_lexer": "ipython3",
   "version": "3.10.12"
  }
 },
 "nbformat": 4,
 "nbformat_minor": 5
}

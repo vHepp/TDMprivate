{
 "cells": [
  {
   "cell_type": "code",
   "execution_count": 67,
   "id": "08d314f3-c306-4ced-a472-ff62ad98e8f5",
   "metadata": {},
   "outputs": [],
   "source": [
    "import CalculatedFieldSubroutines as cfs\n",
    "\n",
    "#\n",
    "\n",
    "import numpy as np\n",
    "\n",
    "import pandas as pd\n",
    "\n",
    "#\n",
    "\n",
    "from sklearn import tree\n",
    "\n",
    "#\n",
    "\n",
    "import matplotlib.pyplot as plt\n",
    "\n",
    "from pandasgui import show\n",
    "\n",
    "#\n",
    "\n",
    "import warnings"
   ]
  },
  {
   "cell_type": "code",
   "execution_count": 68,
   "id": "7c8b8951-de1f-4d5d-85f9-89e46ff5ce65",
   "metadata": {},
   "outputs": [],
   "source": [
    "metadata_df = cfs.retrieve_metadata_df()"
   ]
  },
  {
   "cell_type": "code",
   "execution_count": 69,
   "id": "d6ab967b-4c0d-4b7f-a7d2-bb9deb41d94b",
   "metadata": {},
   "outputs": [],
   "source": [
    "red_route_gmID_list  = metadata_df[ metadata_df[ 'Route' ] == 'Red' ][ 'groupMetadataID' ].tolist()\n",
    "\n",
    "green_route_gmID_list  = metadata_df[ metadata_df[ 'Route' ] == 'Green' ][ 'groupMetadataID' ].tolist() \n",
    "\n",
    "blue_route_gmID_list  = metadata_df[ metadata_df[ 'Route' ] == 'Blue' ][ 'groupMetadataID' ].tolist()"
   ]
  },
  {
   "cell_type": "code",
   "execution_count": 70,
   "id": "7c3eb741-9a7a-4d6e-8d0b-197d9b86908e",
   "metadata": {},
   "outputs": [],
   "source": [
    "green_route_training_gmID_list = green_route_gmID_list[ : len( green_route_gmID_list) // 2 ]\n",
    "\n",
    "green_route_testing_gmID_list = green_route_gmID_list[ len( green_route_gmID_list) // 2 : ]"
   ]
  },
  {
   "cell_type": "code",
   "execution_count": 72,
   "id": "ae68f428-5f4b-489f-82d1-8f884200d199",
   "metadata": {},
   "outputs": [],
   "source": [
    "reference_green_route_best_pose_df = cfs.retrieve_gmID_topic( green_route_gmID_list[ 0 ], '/apollo/sensor/gnss/best/pose' )\n",
    "\n",
    "#\n",
    "\n",
    "green_route_training_combined_df_list = []\n",
    "\n",
    "green_route_testing_combined_df_list = []\n",
    "\n",
    "for gmID in green_route_gmID_list:\n",
    "\n",
    "    current_gmID_chassis_df = cfs.retrieve_gmID_topic( gmID, '/apollo/canbus/chassis' )\n",
    "\n",
    "    current_gmID_best_pose_df = cfs.retrieve_gmID_topic( gmID, '/apollo/sensor/gnss/best/pose' )\n",
    "\n",
    "    #\n",
    "\n",
    "    current_gmID_chassis_df = current_gmID_chassis_df.sort_values( 'time' )\n",
    "\n",
    "    current_gmID_best_pose_df = current_gmID_best_pose_df.sort_values( 'time' )\n",
    "\n",
    "    #\n",
    "\n",
    "    cfs.BinaryDrivingMode( current_gmID_chassis_df )\n",
    "\n",
    "    cfs.TernaryDrivingModeTransition( current_gmID_chassis_df )\n",
    "\n",
    "    #\n",
    "\n",
    "    cfs.LatLonTotalStdDev( current_gmID_best_pose_df )\n",
    "\n",
    "    cfs.ProgressAlongRoute( current_gmID_best_pose_df, reference_green_route_best_pose_df )\n",
    "\n",
    "    #\n",
    "\n",
    "    cfs.ChassisBestPoseMatchedTime( current_gmID_chassis_df, current_gmID_best_pose_df )\n",
    "\n",
    "    #\n",
    "\n",
    "    current_gmID_combined_df = pd.merge( current_gmID_chassis_df, current_gmID_best_pose_df, on = 'ChassisBestPoseMatchedTime', how = 'inner' )\n",
    "\n",
    "    if gmID in green_route_training_gmID_list:\n",
    "\n",
    "        green_route_training_combined_df_list.append( current_gmID_combined_df )\n",
    "\n",
    "    if gmID in green_route_testing_gmID_list:\n",
    "\n",
    "        green_route_testing_combined_df_list.append( current_gmID_combined_df )"
   ]
  },
  {
   "cell_type": "code",
   "execution_count": 73,
   "id": "1d8426ea-ad38-411c-98c8-2e76ff1f710c",
   "metadata": {},
   "outputs": [],
   "source": [
    "green_route_training_combined_df_all = pd.concat( green_route_training_combined_df_list )\n",
    "\n",
    "green_route_testing_combined_df_all = pd.concat( green_route_testing_combined_df_list )"
   ]
  },
  {
   "cell_type": "code",
   "execution_count": 75,
   "id": "350374f3-ae87-4809-bf8c-595e259193fb",
   "metadata": {},
   "outputs": [
    {
     "data": {
      "text/plain": [
       "(1084952, 25)"
      ]
     },
     "execution_count": 75,
     "metadata": {},
     "output_type": "execute_result"
    }
   ],
   "source": [
    "green_route_training_combined_df_all.shape"
   ]
  },
  {
   "cell_type": "code",
   "execution_count": 76,
   "id": "46d853b0-78a4-4db5-aa40-1c70fe397065",
   "metadata": {},
   "outputs": [
    {
     "data": {
      "text/plain": [
       "(1185592, 25)"
      ]
     },
     "execution_count": 76,
     "metadata": {},
     "output_type": "execute_result"
    }
   ],
   "source": [
    "green_route_testing_combined_df_all.shape"
   ]
  },
  {
   "cell_type": "code",
   "execution_count": 77,
   "id": "0446c7a6-eddd-4cea-9d8b-066b3447a10c",
   "metadata": {},
   "outputs": [],
   "source": [
    "d_cols = [ 'speedMps', 'brakePercentage', 'throttlePercentage', 'steeringPercentage', 'LatLonTotalStdDev', 'ProgressAlongRoute' ]\n",
    "\n",
    "r_cols = [ 'BinaryDrivingMode' ]\n",
    "\n",
    "#\n",
    "\n",
    "X_green_train = green_route_training_combined_df_all[ d_cols ]\n",
    "\n",
    "Y_green_train = green_route_training_combined_df_all[ r_cols ]\n",
    "\n",
    "#\n",
    "\n",
    "X_green_test = green_route_testing_combined_df_all[ d_cols ]\n",
    "\n",
    "Y_green_test = green_route_testing_combined_df_all[ r_cols ]"
   ]
  },
  {
   "cell_type": "code",
   "execution_count": 78,
   "id": "e249f22b-9497-4f08-8ea0-2ab593580ce6",
   "metadata": {},
   "outputs": [],
   "source": [
    "clf = tree.DecisionTreeClassifier( max_depth = 7 )\n",
    "\n",
    "clf = clf.fit( X_green_train, Y_green_train )"
   ]
  },
  {
   "cell_type": "code",
   "execution_count": 79,
   "id": "4c5ff456-1a03-4460-a818-b69ad11663ee",
   "metadata": {},
   "outputs": [],
   "source": [
    "prediction = clf.predict( X_green_test )"
   ]
  },
  {
   "cell_type": "code",
   "execution_count": 80,
   "id": "efa4e51d-34e9-47ae-acc9-665a93fec5ec",
   "metadata": {},
   "outputs": [],
   "source": [
    "results = X_green_test.copy()\n",
    "\n",
    "results[ 'predicted_BinaryDrivingMode' ] = prediction\n",
    "\n",
    "results[ 'actual_BinaryDrivingMode' ] = np.array( Y_green_test[ 'BinaryDrivingMode' ] )"
   ]
  },
  {
   "cell_type": "code",
   "execution_count": 81,
   "id": "2ace7ee3-ad01-4a58-84c0-31e8fd837be3",
   "metadata": {},
   "outputs": [
    {
     "name": "stdout",
     "output_type": "stream",
     "text": [
      "Correct: 1040435\n",
      "Incorrect: 145157\n",
      "Total: 1185592\n"
     ]
    }
   ],
   "source": [
    "correct = 0\n",
    "\n",
    "incorrect = 0\n",
    "\n",
    "for prediction, actual in zip( np.array( results[ 'predicted_TernaryDrivingModeTransition' ] ),\n",
    "                               np.array( results[ 'actual_TernaryDrivingModeTransition' ] ) ):\n",
    "\n",
    "    if ( prediction == actual ):\n",
    "\n",
    "        correct = correct + 1\n",
    "\n",
    "    elif ( prediction != actual ):\n",
    "\n",
    "        incorrect = incorrect + 1\n",
    "\n",
    "total = correct + incorrect\n",
    "\n",
    "print( f'Correct: { correct }' )\n",
    "\n",
    "print( f'Incorrect: { incorrect }' )\n",
    "\n",
    "print( f'Total: { total }' )"
   ]
  },
  {
   "cell_type": "code",
   "execution_count": 82,
   "id": "28d2ec3a-e46b-4c39-a384-2171a7cbe2c2",
   "metadata": {},
   "outputs": [
    {
     "name": "stdout",
     "output_type": "stream",
     "text": [
      "Correct: 98198\n",
      "Incorrect: 87896\n",
      "Total: 186094\n"
     ]
    }
   ],
   "source": [
    "correct = 0\n",
    "\n",
    "incorrect = 0\n",
    "\n",
    "for prediction, actual in zip( np.array( results[ 'predicted_TernaryDrivingModeTransition' ] ),\n",
    "                               np.array( results[ 'actual_TernaryDrivingModeTransition' ] ) ):\n",
    "\n",
    "    if ( actual == 0 ):\n",
    "\n",
    "        if ( prediction == actual ):\n",
    "\n",
    "            correct = correct + 1\n",
    "\n",
    "        elif ( prediction != actual ):\n",
    "\n",
    "            incorrect = incorrect + 1\n",
    "\n",
    "total = correct + incorrect\n",
    "\n",
    "print( f'Correct: { correct }' )\n",
    "\n",
    "print( f'Incorrect: { incorrect }' )\n",
    "\n",
    "print( f'Total: { total }' )"
   ]
  },
  {
   "cell_type": "code",
   "execution_count": null,
   "id": "93834c6a-59dd-4935-ae92-860149c7cbd9",
   "metadata": {},
   "outputs": [],
   "source": []
  }
 ],
 "metadata": {
  "kernelspec": {
   "display_name": "Python 3 (ipykernel)",
   "language": "python",
   "name": "python3"
  },
  "language_info": {
   "codemirror_mode": {
    "name": "ipython",
    "version": 3
   },
   "file_extension": ".py",
   "mimetype": "text/x-python",
   "name": "python",
   "nbconvert_exporter": "python",
   "pygments_lexer": "ipython3",
   "version": "3.10.12"
  }
 },
 "nbformat": 4,
 "nbformat_minor": 5
}

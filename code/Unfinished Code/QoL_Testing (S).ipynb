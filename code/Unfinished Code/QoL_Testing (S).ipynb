{
 "cells": [
  {
   "cell_type": "code",
   "execution_count": 2,
   "id": "827eb4a2-55b1-421a-bec7-94531bedb4b3",
   "metadata": {},
   "outputs": [],
   "source": [
    "import CalculatedFieldSubroutines as cfs\n",
    "\n",
    "import pandas as pd\n",
    "\n",
    "import numpy as np\n",
    "\n",
    "from pandasgui import show"
   ]
  },
  {
   "cell_type": "code",
   "execution_count": null,
   "id": "427113c3-52ce-4921-88ac-b8cad263ea46",
   "metadata": {},
   "outputs": [],
   "source": [
    "y = []\n",
    "\n",
    "for x in cfs.list_gmIDs():\n",
    "\n",
    "    y.append( cfs.retrieve_gmID_topic( x, '/apollo/canbus/chassis' ) )"
   ]
  },
  {
   "cell_type": "code",
   "execution_count": 12,
   "id": "f103b7b5-1144-43e8-81ee-4b1416f79fb8",
   "metadata": {},
   "outputs": [
    {
     "name": "stdout",
     "output_type": "stream",
     "text": [
      "513a670c-eea9-11ee-9385-ef789ffde1d3\n"
     ]
    }
   ],
   "source": [
    "gmID_ex = cfs.list_gmIDs()[ 0 ]\n",
    "\n",
    "print( gmID_ex )"
   ]
  },
  {
   "cell_type": "code",
   "execution_count": 13,
   "id": "de859428-892a-46ab-b9f7-8a6a865a940f",
   "metadata": {},
   "outputs": [
    {
     "name": "stdout",
     "output_type": "stream",
     "text": [
      "/apollo/canbus/chassis\n"
     ]
    }
   ],
   "source": [
    "topic_ex = cfs.list_topics()[ 0 ]\n",
    "\n",
    "print( topic_ex )"
   ]
  },
  {
   "cell_type": "code",
   "execution_count": 14,
   "id": "dab7c466-00bf-4641-8e04-016fff6a5cac",
   "metadata": {},
   "outputs": [],
   "source": [
    "df_ex = cfs.retrieve_gmID_topic( '513a670c-eea9-11ee-9385-ef789ffde1d3', '/apollo/canbus/chassis' )"
   ]
  },
  {
   "cell_type": "code",
   "execution_count": 15,
   "id": "813f084e-68e2-4001-80b0-e4aec1acaf86",
   "metadata": {},
   "outputs": [
    {
     "name": "stderr",
     "output_type": "stream",
     "text": [
      "PandasGUI INFO — pandasgui.gui — Opening PandasGUI\n",
      "/tmp/ipykernel_90621/3416219897.py:1: FutureWarning:\n",
      "\n",
      "Series.__getitem__ treating keys as positions is deprecated. In a future version, integer keys will always be treated as labels (consistent with DataFrame behavior). To access a value by position, use `ser.iloc[pos]`\n",
      "\n",
      "/tmp/ipykernel_90621/3416219897.py:1: FutureWarning:\n",
      "\n",
      "Series.__getitem__ treating keys as positions is deprecated. In a future version, integer keys will always be treated as labels (consistent with DataFrame behavior). To access a value by position, use `ser.iloc[pos]`\n",
      "\n",
      "/tmp/ipykernel_90621/3416219897.py:1: FutureWarning:\n",
      "\n",
      "Series.__getitem__ treating keys as positions is deprecated. In a future version, integer keys will always be treated as labels (consistent with DataFrame behavior). To access a value by position, use `ser.iloc[pos]`\n",
      "\n",
      "/tmp/ipykernel_90621/3416219897.py:1: FutureWarning:\n",
      "\n",
      "Series.__getitem__ treating keys as positions is deprecated. In a future version, integer keys will always be treated as labels (consistent with DataFrame behavior). To access a value by position, use `ser.iloc[pos]`\n",
      "\n",
      "/tmp/ipykernel_90621/3416219897.py:1: FutureWarning:\n",
      "\n",
      "Series.__getitem__ treating keys as positions is deprecated. In a future version, integer keys will always be treated as labels (consistent with DataFrame behavior). To access a value by position, use `ser.iloc[pos]`\n",
      "\n",
      "/tmp/ipykernel_90621/3416219897.py:1: FutureWarning:\n",
      "\n",
      "Series.__getitem__ treating keys as positions is deprecated. In a future version, integer keys will always be treated as labels (consistent with DataFrame behavior). To access a value by position, use `ser.iloc[pos]`\n",
      "\n"
     ]
    },
    {
     "data": {
      "text/plain": [
       "<pandasgui.gui.PandasGui at 0x7b0635370430>"
      ]
     },
     "execution_count": 15,
     "metadata": {},
     "output_type": "execute_result"
    }
   ],
   "source": [
    "show( df_ex )"
   ]
  },
  {
   "cell_type": "code",
   "execution_count": 2,
   "id": "9d23eb97-f65f-4697-900a-f44c79d05172",
   "metadata": {},
   "outputs": [
    {
     "data": {
      "text/plain": [
       "'/home/rcoldren_linux/Desktop/TDMprivate'"
      ]
     },
     "execution_count": 2,
     "metadata": {},
     "output_type": "execute_result"
    }
   ],
   "source": [
    "cfs.origin_dir()"
   ]
  },
  {
   "cell_type": "code",
   "execution_count": 5,
   "id": "7f8fdd86-eb6a-45f0-97c4-4b119799a65e",
   "metadata": {},
   "outputs": [],
   "source": [
    "x = cfs.retrieve_metadata_df()"
   ]
  },
  {
   "cell_type": "code",
   "execution_count": 7,
   "id": "40eefd3d-6bde-4e5a-9b9c-5c416b2bbf10",
   "metadata": {},
   "outputs": [
    {
     "name": "stdout",
     "output_type": "stream",
     "text": [
      "<class 'pandas.core.frame.DataFrame'>\n",
      "RangeIndex: 330 entries, 0 to 329\n",
      "Data columns (total 14 columns):\n",
      " #   Column                       Non-Null Count  Dtype  \n",
      "---  ------                       --------------  -----  \n",
      " 0   groupMetadataID              330 non-null    object \n",
      " 1   vehicleID                    330 non-null    object \n",
      " 2   Route                        289 non-null    object \n",
      " 3   driver                       330 non-null    int64  \n",
      " 4   operator                     289 non-null    float64\n",
      " 5   experimentID                 330 non-null    int64  \n",
      " 6   other.Objective              289 non-null    object \n",
      " 7   other.MapVersion             289 non-null    object \n",
      " 8   other.Weather_Lighting       289 non-null    object \n",
      " 9   other.Weather_Precipitation  289 non-null    object \n",
      " 10  other.StackVersion           284 non-null    object \n",
      " 11  other.Weather                41 non-null     object \n",
      " 12  other.Map                    40 non-null     object \n",
      " 13  other.Notes                  39 non-null     object \n",
      "dtypes: float64(1), int64(2), object(11)\n",
      "memory usage: 36.2+ KB\n"
     ]
    }
   ],
   "source": [
    "x.info()"
   ]
  },
  {
   "cell_type": "code",
   "execution_count": 9,
   "id": "6e624422-5c61-4e11-bc09-d1345f3b75bd",
   "metadata": {},
   "outputs": [
    {
     "data": {
      "text/plain": [
       "'513a670c-eea9-11ee-9385-ef789ffde1d3'"
      ]
     },
     "execution_count": 9,
     "metadata": {},
     "output_type": "execute_result"
    }
   ],
   "source": [
    "cfs.list_gmIDs()[ 0 ]"
   ]
  },
  {
   "cell_type": "code",
   "execution_count": 10,
   "id": "92a792a8-412e-4966-b33a-cb379b4f20ec",
   "metadata": {},
   "outputs": [
    {
     "data": {
      "text/plain": [
       "330"
      ]
     },
     "execution_count": 10,
     "metadata": {},
     "output_type": "execute_result"
    }
   ],
   "source": [
    "len( cfs.list_gmIDs() )"
   ]
  },
  {
   "cell_type": "code",
   "execution_count": 11,
   "id": "e9502498-236b-4335-a15f-c25841d7c6d5",
   "metadata": {},
   "outputs": [
    {
     "data": {
      "text/plain": [
       "['/apollo/canbus/chassis',\n",
       " '/apollo/drive/event',\n",
       " '/apollo/sensor/gnss/best/pose',\n",
       " '/apollo/perception/traffic/light']"
      ]
     },
     "execution_count": 11,
     "metadata": {},
     "output_type": "execute_result"
    }
   ],
   "source": [
    "cfs.list_topics()"
   ]
  },
  {
   "cell_type": "code",
   "execution_count": 14,
   "id": "c338bd12-c8f6-4f38-86e8-821d76059975",
   "metadata": {},
   "outputs": [],
   "source": [
    "y = cfs.retrieve_gmID_topic( '513a670c-eea9-11ee-9385-ef789ffde1d3', '/apollo/drive/event' )"
   ]
  },
  {
   "cell_type": "code",
   "execution_count": 15,
   "id": "9c2c171d-10f3-41ea-8106-b166c692fc3f",
   "metadata": {},
   "outputs": [
    {
     "name": "stdout",
     "output_type": "stream",
     "text": [
      "<class 'pandas.core.frame.DataFrame'>\n",
      "RangeIndex: 6 entries, 0 to 5\n",
      "Data columns (total 7 columns):\n",
      " #   Column              Non-Null Count  Dtype  \n",
      "---  ------              --------------  -----  \n",
      " 0   groupMetadataID     6 non-null      object \n",
      " 1   event               3 non-null      object \n",
      " 2   time                6 non-null      int64  \n",
      " 3   position.alt_msl    0 non-null      float64\n",
      " 4   position.latitude   0 non-null      float64\n",
      " 5   position.longitude  0 non-null      float64\n",
      " 6   type                6 non-null      object \n",
      "dtypes: float64(3), int64(1), object(3)\n",
      "memory usage: 464.0+ bytes\n"
     ]
    }
   ],
   "source": [
    "y.info()"
   ]
  },
  {
   "cell_type": "code",
   "execution_count": 9,
   "id": "0281af01-faaf-4b52-88ef-b497e0503976",
   "metadata": {},
   "outputs": [],
   "source": [
    "metadata_df = pd.read_csv( '/home/rcoldren_linux/Desktop/Data/groupMetadataID_list_updated.csv' )"
   ]
  },
  {
   "cell_type": "code",
   "execution_count": 10,
   "id": "51ca8ced-0645-4758-9017-522f753e8144",
   "metadata": {},
   "outputs": [],
   "source": [
    "red_route_gmID_list = []\n",
    "\n",
    "green_route_gmID_list = []\n",
    "\n",
    "blue_route_gmID_list = []\n",
    "\n",
    "for gmID, route in zip( metadata_df[ 'groupMetadataID' ], metadata_df[ 'filebase' ] ):\n",
    "\n",
    "    if 'Red' in route:\n",
    "\n",
    "        red_route_gmID_list.append( gmID )\n",
    "\n",
    "    elif 'Green' in route:\n",
    "\n",
    "        green_route_gmID_list.append( gmID )\n",
    "\n",
    "    elif 'Blue' in route:\n",
    "\n",
    "        blue_route_gmID_list.append( gmID )"
   ]
  },
  {
   "cell_type": "code",
   "execution_count": 11,
   "id": "56a8bda9-45d2-4ecb-a443-f2815623c659",
   "metadata": {},
   "outputs": [
    {
     "data": {
      "text/plain": [
       "330"
      ]
     },
     "execution_count": 11,
     "metadata": {},
     "output_type": "execute_result"
    }
   ],
   "source": [
    "len( red_route_gmID_list + green_route_gmID_list + blue_route_gmID_list )"
   ]
  },
  {
   "cell_type": "code",
   "execution_count": 15,
   "id": "62b9b212-6a2a-4667-ba04-d0a91db5c99f",
   "metadata": {},
   "outputs": [
    {
     "name": "stdout",
     "output_type": "stream",
     "text": [
      "['06cbdbc0-db4d-11ee-a158-97f8443fd730', '3a116996-93a9-11ee-956e-9da2d070324c', '2837eb9c-9542-11ee-956e-9da2d070324c', 'da853e0c-a10f-11ee-981c-d126ddbe9afa', '154fab12-a43f-11ee-88ec-eb6a8d5269b4', '88180f82-ed4f-11ee-9385-ef789ffde1d3', 'ba6e1072-9524-11ee-956e-9da2d070324c', 'baf0e4be-bede-11ee-835b-599066b5eb60', '6af236d6-d98f-11ee-a158-97f8443fd730', '39ba7438-d0d5-11ee-9435-f7e542e2436c', 'c0624e24-d9aa-11ee-a158-97f8443fd730', '19b7ebd0-d9b7-11ee-a158-97f8443fd730', '47561998-d9c3-11ee-a158-97f8443fd730', '59c189d8-ed54-11ee-9385-ef789ffde1d3', 'd94ef300-ed60-11ee-9385-ef789ffde1d3', '8b6a6cfc-ed6d-11ee-9385-ef789ffde1d3', '530de03a-ed79-11ee-9385-ef789ffde1d3', '43914d48-ed85-11ee-9385-ef789ffde1d3', '86841630-d9d0-11ee-a158-97f8443fd730', 'c9023e32-ed90-11ee-9385-ef789ffde1d3', 'e269948a-ed9d-11ee-9385-ef789ffde1d3', '60546ef4-edaa-11ee-9385-ef789ffde1d3', '76683d3c-db18-11ee-a158-97f8443fd730', '3a2a78cc-db21-11ee-a158-97f8443fd730', 'f9d62032-db2a-11ee-a158-97f8443fd730', 'dc39aa14-db32-11ee-a158-97f8443fd730', 'e6d7d384-db40-11ee-a158-97f8443fd730', 'f6ac3c82-a445-11ee-88ec-eb6a8d5269b4', '45ad3a9a-edb4-11ee-9385-ef789ffde1d3', 'e8a8b2be-edbf-11ee-9385-ef789ffde1d3', '7613801a-edcb-11ee-9385-ef789ffde1d3', '3ce8a358-edd8-11ee-9385-ef789ffde1d3', '68c289fa-dbd4-11ee-a158-97f8443fd730', '8c57e8ac-dbec-11ee-a158-97f8443fd730', 'aa86a660-dc05-11ee-a158-97f8443fd730', '69ab88ec-dc17-11ee-a158-97f8443fd730', 'e2079a78-dc1d-11ee-a158-97f8443fd730', 'a17c1280-ea10-11ee-b297-3b0ad9d5d6c6', 'ed7f2038-ea1e-11ee-b297-3b0ad9d5d6c6', '58263e34-a45c-11ee-88ec-eb6a8d5269b4', '20cbfe8c-ea2b-11ee-b297-3b0ad9d5d6c6', '3ea96640-ea37-11ee-b297-3b0ad9d5d6c6', '64875cc0-d054-11ee-9435-f7e542e2436c', '57d240d6-ea4d-11ee-b297-3b0ad9d5d6c6', 'c335d84c-a45c-11ee-88ec-eb6a8d5269b4', '82d39c74-ea59-11ee-b297-3b0ad9d5d6c6', 'b76f33be-ea61-11ee-b297-3b0ad9d5d6c6', '17876fec-ea66-11ee-b297-3b0ad9d5d6c6', '5fcc4fd8-ea71-11ee-b297-3b0ad9d5d6c6', 'd1d090d4-ea7c-11ee-b297-3b0ad9d5d6c6', '36663b02-ea87-11ee-b297-3b0ad9d5d6c6', '04115e66-ea91-11ee-b297-3b0ad9d5d6c6', '0f4f0a06-ea98-11ee-b297-3b0ad9d5d6c6', '5976b77a-a504-11ee-88ec-eb6a8d5269b4', '2bc6ebb8-a529-11ee-88ec-eb6a8d5269b4', '7f09f6c6-a5b0-11ee-88ec-eb6a8d5269b4', 'cf6fdf3a-eaa3-11ee-b297-3b0ad9d5d6c6', 'f671c05c-a5e4-11ee-88ec-eb6a8d5269b4', '90101c36-a621-11ee-88ec-eb6a8d5269b4', 'aef91c4a-ede5-11ee-9385-ef789ffde1d3', '513a670c-eea9-11ee-9385-ef789ffde1d3', '559495ca-d270-11ee-b437-336917683bb8', '621c07b8-eaaf-11ee-b297-3b0ad9d5d6c6', '6458c26e-eab9-11ee-b297-3b0ad9d5d6c6', '81acf35c-eac4-11ee-b297-3b0ad9d5d6c6', 'baec243e-eacf-11ee-b297-3b0ad9d5d6c6', 'feaf2ba8-d28d-11ee-b437-336917683bb8', '05d0240e-eadb-11ee-b297-3b0ad9d5d6c6', 'd54c11ca-eae5-11ee-b297-3b0ad9d5d6c6', '23765aa8-eaf1-11ee-b297-3b0ad9d5d6c6', 'f93290be-eafe-11ee-b297-3b0ad9d5d6c6', '079f0d30-eb09-11ee-b297-3b0ad9d5d6c6', 'bcf44e58-eb0d-11ee-b297-3b0ad9d5d6c6', 'e9e14d3a-eb17-11ee-b297-3b0ad9d5d6c6', '781c0bcc-eb21-11ee-b297-3b0ad9d5d6c6', '593d4b54-d0a9-11ee-9435-f7e542e2436c', 'd4b936f6-eb36-11ee-b297-3b0ad9d5d6c6', 'cc0299e6-eb3e-11ee-b297-3b0ad9d5d6c6', '60c57e4e-eb4a-11ee-b297-3b0ad9d5d6c6', '54a02cb8-eb4f-11ee-b297-3b0ad9d5d6c6', '70060810-eb59-11ee-b297-3b0ad9d5d6c6', '80340ab8-d054-11ee-9435-f7e542e2436c', 'fc119dfc-eb67-11ee-b297-3b0ad9d5d6c6', '75f83e28-eb77-11ee-b297-3b0ad9d5d6c6', '3343fd3c-eb87-11ee-b297-3b0ad9d5d6c6', '64bbe8e0-eb94-11ee-b297-3b0ad9d5d6c6', '2d35c522-eba2-11ee-b297-3b0ad9d5d6c6', 'af10e22a-ebb1-11ee-b297-3b0ad9d5d6c6', 'a7c98b32-ebc2-11ee-b297-3b0ad9d5d6c6', 'c8f54ac0-ebd2-11ee-b297-3b0ad9d5d6c6', 'c7c02bda-ebe0-11ee-b297-3b0ad9d5d6c6', '7228e03a-ebf0-11ee-b297-3b0ad9d5d6c6', '21376e38-ec01-11ee-b297-3b0ad9d5d6c6', 'b224ef9c-ec10-11ee-b297-3b0ad9d5d6c6', '04151804-ec20-11ee-b297-3b0ad9d5d6c6', '5240e750-ec30-11ee-b297-3b0ad9d5d6c6', 'e9d67bf2-ec35-11ee-b297-3b0ad9d5d6c6', 'cb205756-ec43-11ee-b297-3b0ad9d5d6c6', 'df8e3742-ec54-11ee-b297-3b0ad9d5d6c6', '20f0b890-ec64-11ee-b297-3b0ad9d5d6c6', '4d0254fc-ec73-11ee-b297-3b0ad9d5d6c6', '3d2a80f0-ec81-11ee-b297-3b0ad9d5d6c6', 'ba28b352-ec8f-11ee-b297-3b0ad9d5d6c6', '6d62da08-ec9d-11ee-b297-3b0ad9d5d6c6', '71a18322-ecab-11ee-b297-3b0ad9d5d6c6', '25d3bdc8-ecbc-11ee-b297-3b0ad9d5d6c6', '3441fc36-ecca-11ee-b297-3b0ad9d5d6c6', '326699c2-ecd8-11ee-b297-3b0ad9d5d6c6', '721a9830-ece6-11ee-b297-3b0ad9d5d6c6', 'acd71bc0-ecf4-11ee-9385-ef789ffde1d3', 'd62ee6e8-ed02-11ee-9385-ef789ffde1d3', 'a253145a-d2a6-11ee-b437-336917683bb8', '787d9684-d2c2-11ee-b437-336917683bb8', '606347dc-ed12-11ee-9385-ef789ffde1d3', '6f887868-ed21-11ee-9385-ef789ffde1d3', '9830d896-d2dc-11ee-b437-336917683bb8', '286c70cc-d2f7-11ee-b437-336917683bb8', '64737d98-d312-11ee-b437-336917683bb8', '5f6573ba-ed2f-11ee-9385-ef789ffde1d3', 'f0bcec4e-ed3e-11ee-9385-ef789ffde1d3']\n"
     ]
    }
   ],
   "source": [
    "print( blue_route_gmID_list )"
   ]
  },
  {
   "cell_type": "code",
   "execution_count": null,
   "id": "e7d6330f-423c-43a4-b1a9-23132ff49350",
   "metadata": {},
   "outputs": [],
   "source": []
  }
 ],
 "metadata": {
  "kernelspec": {
   "display_name": "Python 3 (ipykernel)",
   "language": "python",
   "name": "python3"
  },
  "language_info": {
   "codemirror_mode": {
    "name": "ipython",
    "version": 3
   },
   "file_extension": ".py",
   "mimetype": "text/x-python",
   "name": "python",
   "nbconvert_exporter": "python",
   "pygments_lexer": "ipython3",
   "version": "3.10.12"
  }
 },
 "nbformat": 4,
 "nbformat_minor": 5
}

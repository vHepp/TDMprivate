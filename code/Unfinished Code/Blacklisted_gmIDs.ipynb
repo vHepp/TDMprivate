{
 "cells": [
  {
   "cell_type": "code",
   "execution_count": 1,
   "id": "15b0d7e5-606a-447f-8bbc-541d2cb52e12",
   "metadata": {},
   "outputs": [],
   "source": [
    "import CalculatedFieldSubroutines as cfs\n",
    "\n",
    "#\n",
    "\n",
    "import numpy as np\n",
    "\n",
    "import pandas as pd\n",
    "\n",
    "#\n",
    "\n",
    "import matplotlib.pyplot as plt\n",
    "\n",
    "from pandasgui import show\n",
    "\n",
    "#\n",
    "\n",
    "import warnings"
   ]
  },
  {
   "cell_type": "code",
   "execution_count": 2,
   "id": "63ecfdd3-93e3-4c44-a185-e1e0a050af4f",
   "metadata": {},
   "outputs": [],
   "source": [
    "warnings.filterwarnings( 'ignore' )"
   ]
  },
  {
   "cell_type": "code",
   "execution_count": 3,
   "id": "148ec936-9069-4562-8585-1875c15fb796",
   "metadata": {},
   "outputs": [],
   "source": [
    "gmID_list = cfs.list_gmIDs()"
   ]
  },
  {
   "cell_type": "code",
   "execution_count": 4,
   "id": "c172410e-1935-4ea6-afce-151809725119",
   "metadata": {},
   "outputs": [
    {
     "name": "stdout",
     "output_type": "stream",
     "text": [
      "['/apollo/canbus/chassis', '/apollo/drive/event', '/apollo/sensor/gnss/best/pose', '/apollo/perception/traffic/light']\n"
     ]
    }
   ],
   "source": [
    "topic_list = cfs.list_topics()\n",
    "\n",
    "print( topic_list )"
   ]
  },
  {
   "cell_type": "code",
   "execution_count": 5,
   "id": "26dc6517-cd9a-4336-a9bc-46f7ce7e929a",
   "metadata": {},
   "outputs": [],
   "source": [
    "blacklisted_gmIDs = []\n",
    "\n",
    "for gmID in gmID_list:\n",
    "\n",
    "    current_gmID_chassis_df = cfs.retrieve_gmID_topic( gmID, '/apollo/canbus/chassis' )\n",
    "\n",
    "    cfs.BinaryDrivingMode( current_gmID_chassis_df )\n",
    "\n",
    "    num_unique_values = len( pd.unique( current_gmID_chassis_df[ 'BinaryDrivingMode' ] ) )\n",
    "\n",
    "    if ( num_unique_values == 1 ):\n",
    "\n",
    "        blacklisted_gmIDs.append( gmID )"
   ]
  },
  {
   "cell_type": "code",
   "execution_count": 6,
   "id": "80f365ac-3267-4de1-8079-3381ab0de9c2",
   "metadata": {},
   "outputs": [],
   "source": [
    "blacklisted_gmID_list = list( pd.read_csv( '/home/rcoldren_linux/Desktop/TDMprivate/misc_files/no_transition_gmIDs.csv' )[ 'gmID' ] )"
   ]
  },
  {
   "cell_type": "code",
   "execution_count": 7,
   "id": "02a16a2b-899e-4838-9cc5-4e176144bbf5",
   "metadata": {},
   "outputs": [
    {
     "data": {
      "text/plain": [
       "83"
      ]
     },
     "execution_count": 7,
     "metadata": {},
     "output_type": "execute_result"
    }
   ],
   "source": [
    "len( blacklisted_gmIDs )"
   ]
  },
  {
   "cell_type": "code",
   "execution_count": 9,
   "id": "cabdbc5f-db05-4b21-8233-fb9f57d0002d",
   "metadata": {},
   "outputs": [
    {
     "name": "stdout",
     "output_type": "stream",
     "text": [
      "['879e3fa2-f085-11ee-b9bd-fb353e7798cd', '900701bc-f0a6-11ee-b9e4-fb353e7798cd', '6f5b3612-f18d-11ee-bab8-fb353e7798cd', '471890c0-f0b9-11ee-b9f5-fb353e7798cd', '3b6d2a5c-f0c2-11ee-ba01-fb353e7798cd', 'a2ed8b42-f089-11ee-b9c3-fb353e7798cd', '787f70da-f036-11ee-b966-fb353e7798cd', '6458c26e-eab9-11ee-b297-3b0ad9d5d6c6', '00ff88b6-f0a3-11ee-b9e3-fb353e7798cd', '7d27535e-f0e6-11ee-ba21-fb353e7798cd', '23765aa8-eaf1-11ee-b297-3b0ad9d5d6c6', 'f93290be-eafe-11ee-b297-3b0ad9d5d6c6', '54a02cb8-eb4f-11ee-b297-3b0ad9d5d6c6', '2f2939cc-f228-11ee-bb28-fb353e7798cd', '48021fe0-f05c-11ee-b992-fb353e7798cd', '2837eb9c-9542-11ee-956e-9da2d070324c', '593d4b54-d0a9-11ee-9435-f7e542e2436c', 'd54c11ca-eae5-11ee-b297-3b0ad9d5d6c6', '6f887868-ed21-11ee-9385-ef789ffde1d3', '45ad3a9a-edb4-11ee-9385-ef789ffde1d3', '4ed017ee-ef05-11ee-9385-ef789ffde1d3', '81a5a96e-f0c6-11ee-ba06-fb353e7798cd', '05d0240e-eadb-11ee-b297-3b0ad9d5d6c6', '6c415180-f0bd-11ee-b9fa-fb353e7798cd', '662741a4-f38a-11ee-bb4e-fb353e7798cd', '60c57e4e-eb4a-11ee-b297-3b0ad9d5d6c6', 'cd11fc28-f21e-11ee-bb1c-fb353e7798cd', 'fa852f30-f210-11ee-bb10-fb353e7798cd', '3950298e-f1b4-11ee-bad3-fb353e7798cd', '2c8690b4-f09f-11ee-b9de-fb353e7798cd', '26af7004-f07a-11ee-b9b2-fb353e7798cd', '6c5f7416-f096-11ee-b9d4-fb353e7798cd', '38ac9526-f182-11ee-bab0-fb353e7798cd', '81acf35c-eac4-11ee-b297-3b0ad9d5d6c6', '86841630-d9d0-11ee-a158-97f8443fd730', '781c0bcc-eb21-11ee-b297-3b0ad9d5d6c6', '2bb03aaa-f0c7-11ee-ba06-fb353e7798cd', '906d3c4e-f0be-11ee-b9fb-fb353e7798cd', '878e1a02-f092-11ee-b9cf-fb353e7798cd', '606347dc-ed12-11ee-9385-ef789ffde1d3', 'cccc7d32-f1c0-11ee-bada-fb353e7798cd', '6daff50c-f041-11ee-b972-fb353e7798cd', 'ba80ba8c-f0ce-11ee-ba0d-fb353e7798cd', 'bf518644-f1a6-11ee-bac9-fb353e7798cd', '3a116996-93a9-11ee-956e-9da2d070324c', '56b8baa4-f0b5-11ee-b9f0-fb353e7798cd', 'bb52690a-f066-11ee-b99e-fb353e7798cd', 'a437811e-ccf4-11ee-9435-f7e542e2436c', '7aa336e6-f0b1-11ee-b9ed-fb353e7798cd', '986a0b90-f215-11ee-bb15-fb353e7798cd', 'ef63db62-f051-11ee-b986-fb353e7798cd', 'd1d69a76-f0b5-11ee-b9f0-fb353e7798cd', '57a2192c-f21a-11ee-bb17-fb353e7798cd', 'e9e14d3a-eb17-11ee-b297-3b0ad9d5d6c6', '0b72a836-f37e-11ee-bb4e-fb353e7798cd', '8be24d52-f0ca-11ee-ba0a-fb353e7798cd', 'd4b936f6-eb36-11ee-b297-3b0ad9d5d6c6', '599673dc-f070-11ee-b9a9-fb353e7798cd', 'cc0299e6-eb3e-11ee-b297-3b0ad9d5d6c6', 'b6227b56-f08d-11ee-b9c9-fb353e7798cd', 'fe729430-f232-11ee-bb32-fb353e7798cd', 'eb22edf4-f0ab-11ee-b9e9-fb353e7798cd', 'fc1e1b6a-f1e6-11ee-baf6-fb353e7798cd', '61b4e416-f1da-11ee-bae8-fb353e7798cd', '31b48540-f09b-11ee-b9da-fb353e7798cd', '240ebe64-f0d3-11ee-ba14-fb353e7798cd', 'bfde2aec-f370-11ee-bb4e-fb353e7798cd', 'b2f58080-f223-11ee-bb20-fb353e7798cd', '4bbe3c64-f088-11ee-b9c3-fb353e7798cd', 'b2bfb60c-f0ad-11ee-b9ea-fb353e7798cd', 'ede139be-f098-11ee-b9d8-fb353e7798cd', 'bcf44e58-eb0d-11ee-b297-3b0ad9d5d6c6', 'a6895b74-f1cd-11ee-bae2-fb353e7798cd', 'e640cf0a-f096-11ee-b9d5-fb353e7798cd', '1f70a4f0-f0e0-11ee-ba1e-fb353e7798cd', '41cd65b4-f0aa-11ee-b9e8-fb353e7798cd', '621c07b8-eaaf-11ee-b297-3b0ad9d5d6c6', 'dbff355c-f0a2-11ee-b9e3-fb353e7798cd', '23a7aa3e-f048-11ee-b97d-fb353e7798cd', '5c2ad8ec-f08c-11ee-b9c8-fb353e7798cd', '079f0d30-eb09-11ee-b297-3b0ad9d5d6c6', 'baec243e-eacf-11ee-b297-3b0ad9d5d6c6', '5230b9be-f083-11ee-b9b8-fb353e7798cd']\n"
     ]
    }
   ],
   "source": [
    "print( blacklisted_gmIDs )"
   ]
  },
  {
   "cell_type": "code",
   "execution_count": null,
   "id": "9341b6b1-0f5e-426c-8cfa-52facbf676a7",
   "metadata": {},
   "outputs": [],
   "source": []
  }
 ],
 "metadata": {
  "kernelspec": {
   "display_name": "Python 3 (ipykernel)",
   "language": "python",
   "name": "python3"
  },
  "language_info": {
   "codemirror_mode": {
    "name": "ipython",
    "version": 3
   },
   "file_extension": ".py",
   "mimetype": "text/x-python",
   "name": "python",
   "nbconvert_exporter": "python",
   "pygments_lexer": "ipython3",
   "version": "3.10.12"
  }
 },
 "nbformat": 4,
 "nbformat_minor": 5
}

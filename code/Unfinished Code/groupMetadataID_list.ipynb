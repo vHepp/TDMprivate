{
 "cells": [
  {
   "cell_type": "code",
   "execution_count": 1,
   "id": "d872b0bf-34b0-4faa-ac81-8b5c6b7b2962",
   "metadata": {},
   "outputs": [],
   "source": [
    "import boto3\n",
    "\n",
    "from boto3.dynamodb.conditions import Key, Attr\n",
    "\n",
    "import pandas as pd\n",
    "\n",
    "from pandasgui import show\n",
    "\n",
    "from IPython.display import clear_output"
   ]
  },
  {
   "cell_type": "code",
   "execution_count": 2,
   "id": "bc15c487-bc0f-46fe-914c-49da4c2b673b",
   "metadata": {},
   "outputs": [],
   "source": [
    "dynamodb = boto3.resource( 'dynamodb' )"
   ]
  },
  {
   "cell_type": "code",
   "execution_count": 3,
   "id": "570e9e53-cb54-4d3c-9518-bf89d54ec8a3",
   "metadata": {},
   "outputs": [],
   "source": [
    "adspp_table = dynamodb.Table( 'ads_passenger_processed' )"
   ]
  },
  {
   "cell_type": "code",
   "execution_count": 4,
   "id": "500dac3f-c953-4bb4-9333-e118ca3a107f",
   "metadata": {},
   "outputs": [],
   "source": [
    "query_input = dict(\n",
    "                   IndexName = 'topic-index',\n",
    "                   # Select =\n",
    "                   Limit = 1000,\n",
    "                   # ConsistentRead =\n",
    "                   # ScanIndexForward =\n",
    "                   # ExclusiveStartKey =\n",
    "                   # ReturnConsumedCapacity =\n",
    "                   # ProjectionExpression =\n",
    "                   # FilterExpression =\n",
    "                   KeyConditionExpression = Key( 'topic' ).eq( '/apollo/sensor/gnss/best_pose' )\n",
    "                   # ExpressionAttributeNames =\n",
    "                   # ExpressionAttributeValues =\n",
    "                  )\n",
    "\n",
    "query_output = adspp_table.query( **query_input )\n",
    "\n",
    "query_output_df = pd.DataFrame.from_dict( pd.json_normalize( query_output[ 'Items' ] ), orient = 'columns' )"
   ]
  },
  {
   "cell_type": "code",
   "execution_count": 8,
   "id": "d3349be5-aa09-4a1d-815c-e0ab0b3721a6",
   "metadata": {},
   "outputs": [
    {
     "name": "stdout",
     "output_type": "stream",
     "text": [
      "{'topic': '/apollo/sensor/gnss/best_pose', 'gpsGlonassUsedMask': Decimal('51'), 'time': Decimal('1696267162048124370'), 'longitudeStdDev': Decimal('0.012680259'), 'undulation': Decimal('-35'), 'numSatsTracked': Decimal('17'), 'baseStationId': 'MzkzNA==', 'latitudeStdDev': Decimal('0.018686043'), 'header': {'moduleName': 'gnss', 'sequenceNum': Decimal('1992'), 'timestampSec': Decimal('1696267162.048053')}, 'differentialAge': Decimal('1'), 'solType': 'NARROW_INT', 'galileoBeidouUsedMask': Decimal('0'), '_id': '7e9fb9a9-a553-11ee-88ec-eb6a8d5269b4', 'latitude': Decimal('39.3328270159293'), 'numSatsL1': Decimal('15'), 'datumId': 'WGS84', 'msgsize': Decimal('119'), 'measurementTime': Decimal('1380302380'), 'extendedSolutionStatus': Decimal('33'), 'metadataID': '6e6dab62-a553-11ee-88ec-eb6a8d5269b4', 'heightStdDev': Decimal('0.04997633'), 'numSatsMulti': Decimal('14'), 'heightMsl': Decimal('207.59663231670856'), 'groupMetadataID': '2bc6ebb8-a529-11ee-88ec-eb6a8d5269b4', 'longitude': Decimal('-82.13120583450659'), 'solutionAge': Decimal('0'), 'solStatus': 'SOL_COMPUTED', 'msg_type': '', 'numSatsInSolution': Decimal('15')}\n"
     ]
    }
   ],
   "source": [
    "dict.keys( query_output )\n",
    "\n",
    "print( query_output[ 'Items'][ 0 ] )"
   ]
  },
  {
   "cell_type": "code",
   "execution_count": 16,
   "id": "497c9586-f2b2-4eb6-9d89-822abce4a7c4",
   "metadata": {},
   "outputs": [
    {
     "name": "stdout",
     "output_type": "stream",
     "text": [
      "(446000, 31)\n"
     ]
    }
   ],
   "source": [
    "while ( 'LastEvaluatedKey' in query_output.keys() ):\n",
    "\n",
    "    print( query_output_df.shape )\n",
    "\n",
    "    query_input[ 'ExclusiveStartKey' ] = query_output[ 'LastEvaluatedKey' ]\n",
    "\n",
    "    query_output = adspp_table.query( **query_input )\n",
    "\n",
    "    temp_df = pd.DataFrame.from_dict( pd.json_normalize( query_output[ 'Items' ] ), orient = 'columns' )\n",
    "\n",
    "    query_output_df = pd.concat( [ query_output_df, temp_df ] )\n",
    "\n",
    "    clear_output( wait = True )"
   ]
  },
  {
   "cell_type": "code",
   "execution_count": 36,
   "id": "d5934a9c-6040-40ab-a831-915b326c1492",
   "metadata": {},
   "outputs": [],
   "source": [
    "groupMetadataID_col = query_output_df['groupMetadataID'].tolist()"
   ]
  },
  {
   "cell_type": "code",
   "execution_count": 37,
   "id": "2525cc6b-2103-46f6-bfa7-1bfbb79a6ca1",
   "metadata": {},
   "outputs": [],
   "source": [
    "unique_groupMetadataIDs = list( set( groupMetadataID_col ) )"
   ]
  },
  {
   "cell_type": "code",
   "execution_count": 38,
   "id": "fff75f19-303a-440d-ae41-72799d5adb95",
   "metadata": {},
   "outputs": [],
   "source": [
    "data = { 'groupMetadataID' : unique_groupMetadataIDs }\n",
    "\n",
    "unique_groupMetadataIDs_df = pd.DataFrame( data )"
   ]
  },
  {
   "cell_type": "code",
   "execution_count": 39,
   "id": "f1b3e850-3c58-43e9-a9ea-158c0a5e03a6",
   "metadata": {},
   "outputs": [
    {
     "name": "stdout",
     "output_type": "stream",
     "text": [
      "                          groupMetadataID\n",
      "0    41cd65b4-f0aa-11ee-b9e8-fb353e7798cd\n",
      "1    2d35c522-eba2-11ee-b297-3b0ad9d5d6c6\n",
      "2    5c7a9ab2-f13b-11ee-ba72-fb353e7798cd\n",
      "3    f8fd0fd8-f243-11ee-bb3f-fb353e7798cd\n",
      "4    4ed017ee-ef05-11ee-9385-ef789ffde1d3\n",
      "..                                    ...\n",
      "325  25e27b86-f06a-11ee-b9a3-fb353e7798cd\n",
      "326  60546ef4-edaa-11ee-9385-ef789ffde1d3\n",
      "327  fe973c9c-f53c-11ee-8afa-cb629b0d53e6\n",
      "328  5240e750-ec30-11ee-b297-3b0ad9d5d6c6\n",
      "329  c338788a-d324-11ee-b437-336917683bb8\n",
      "\n",
      "[330 rows x 1 columns]\n"
     ]
    }
   ],
   "source": [
    "print( unique_groupMetadataIDs_df )"
   ]
  },
  {
   "cell_type": "code",
   "execution_count": 30,
   "id": "d057fd8e-bace-4af4-a5e4-e2c49c1d7258",
   "metadata": {},
   "outputs": [],
   "source": [
    "unique_groupMetadataIDs_df.to_csv( r'/home/rcoldren_linux/Desktop/Data/groupMetadataID_list.csv', index = False )"
   ]
  },
  {
   "cell_type": "code",
   "execution_count": 31,
   "id": "51d82ebf-6557-47fd-9aaf-d9d9137b75df",
   "metadata": {},
   "outputs": [],
   "source": [
    "query_output_df.to_csv( r'/home/rcoldren_linux/Desktop/Data/apollo_sensor_gnss_best_pose_Data/apollo_sensor_gnss_best_pose_all_gmdIDs.csv' )"
   ]
  },
  {
   "cell_type": "code",
   "execution_count": null,
   "id": "3681e7e0-566c-4138-9853-ee5ad0182845",
   "metadata": {},
   "outputs": [],
   "source": []
  }
 ],
 "metadata": {
  "kernelspec": {
   "display_name": "Python 3 (ipykernel)",
   "language": "python",
   "name": "python3"
  },
  "language_info": {
   "codemirror_mode": {
    "name": "ipython",
    "version": 3
   },
   "file_extension": ".py",
   "mimetype": "text/x-python",
   "name": "python",
   "nbconvert_exporter": "python",
   "pygments_lexer": "ipython3",
   "version": "3.10.12"
  }
 },
 "nbformat": 4,
 "nbformat_minor": 5
}

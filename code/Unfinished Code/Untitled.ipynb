{
 "cells": [
  {
   "cell_type": "code",
   "execution_count": 1,
   "id": "3f2cda44-fa20-46f2-a791-77632dfeeeef",
   "metadata": {},
   "outputs": [],
   "source": [
    "import boto3 \n",
    "from boto3.dynamodb.conditions import Key, Attr \n",
    "client = boto3.client('dynamodb') \n",
    "dynamodb = boto3.resource('dynamodb') \n",
    "Table = dynamodb.Table('ads_passenger_processed')"
   ]
  },
  {
   "cell_type": "code",
   "execution_count": 2,
   "id": "21705bfb-dcec-4871-a65a-6cc490e84268",
   "metadata": {},
   "outputs": [],
   "source": [
    "response = Table.scan(FilterExpression=Attr('time').gt(0))"
   ]
  },
  {
   "cell_type": "code",
   "execution_count": 3,
   "id": "c262fcea-64ec-438d-a4c7-a1ea57d86936",
   "metadata": {},
   "outputs": [
    {
     "data": {
      "text/plain": [
       "dict_keys(['Items', 'Count', 'ScannedCount', 'LastEvaluatedKey', 'ResponseMetadata'])"
      ]
     },
     "execution_count": 3,
     "metadata": {},
     "output_type": "execute_result"
    }
   ],
   "source": [
    "dict.keys(response) "
   ]
  },
  {
   "cell_type": "code",
   "execution_count": 9,
   "id": "96436ac1-82c8-4ce0-b14c-fdfa3980bd6b",
   "metadata": {},
   "outputs": [],
   "source": [
    "import pandas as pd \n",
    "df = pd.DataFrame.from_dict(pd.json_normalize(response['Items']), orient='columns')"
   ]
  },
  {
   "cell_type": "code",
   "execution_count": 11,
   "id": "444fc73e-9d60-4fe8-9da1-798e80091e2d",
   "metadata": {},
   "outputs": [
    {
     "name": "stderr",
     "output_type": "stream",
     "text": [
      "PandasGUI INFO — pandasgui.gui — Opening PandasGUI\n",
      "/tmp/ipykernel_32335/2052449813.py:2: FutureWarning:\n",
      "\n",
      "Series.__getitem__ treating keys as positions is deprecated. In a future version, integer keys will always be treated as labels (consistent with DataFrame behavior). To access a value by position, use `ser.iloc[pos]`\n",
      "\n",
      "/tmp/ipykernel_32335/2052449813.py:2: FutureWarning:\n",
      "\n",
      "Series.__getitem__ treating keys as positions is deprecated. In a future version, integer keys will always be treated as labels (consistent with DataFrame behavior). To access a value by position, use `ser.iloc[pos]`\n",
      "\n",
      "/tmp/ipykernel_32335/2052449813.py:2: FutureWarning:\n",
      "\n",
      "Series.__getitem__ treating keys as positions is deprecated. In a future version, integer keys will always be treated as labels (consistent with DataFrame behavior). To access a value by position, use `ser.iloc[pos]`\n",
      "\n",
      "/tmp/ipykernel_32335/2052449813.py:2: FutureWarning:\n",
      "\n",
      "Series.__getitem__ treating keys as positions is deprecated. In a future version, integer keys will always be treated as labels (consistent with DataFrame behavior). To access a value by position, use `ser.iloc[pos]`\n",
      "\n",
      "/tmp/ipykernel_32335/2052449813.py:2: FutureWarning:\n",
      "\n",
      "Series.__getitem__ treating keys as positions is deprecated. In a future version, integer keys will always be treated as labels (consistent with DataFrame behavior). To access a value by position, use `ser.iloc[pos]`\n",
      "\n",
      "/tmp/ipykernel_32335/2052449813.py:2: FutureWarning:\n",
      "\n",
      "Series.__getitem__ treating keys as positions is deprecated. In a future version, integer keys will always be treated as labels (consistent with DataFrame behavior). To access a value by position, use `ser.iloc[pos]`\n",
      "\n"
     ]
    },
    {
     "data": {
      "text/plain": [
       "<pandasgui.gui.PandasGui at 0x74d0961edcf0>"
      ]
     },
     "execution_count": 11,
     "metadata": {},
     "output_type": "execute_result"
    }
   ],
   "source": [
    "from pandasgui import show \n",
    "show(df)"
   ]
  },
  {
   "cell_type": "code",
   "execution_count": 7,
   "id": "de073b87-01b8-47a0-8a33-8872661778ef",
   "metadata": {},
   "outputs": [
    {
     "data": {
      "text/plain": [
       "dict"
      ]
     },
     "execution_count": 7,
     "metadata": {},
     "output_type": "execute_result"
    }
   ],
   "source": [
    "type( response )"
   ]
  },
  {
   "cell_type": "code",
   "execution_count": 8,
   "id": "f10389d4-3e21-48f7-97eb-ed1e226677ea",
   "metadata": {},
   "outputs": [
    {
     "data": {
      "text/plain": [
       "boto3.resources.factory.dynamodb.Table"
      ]
     },
     "execution_count": 8,
     "metadata": {},
     "output_type": "execute_result"
    }
   ],
   "source": [
    "type( Table )"
   ]
  },
  {
   "cell_type": "code",
   "execution_count": null,
   "id": "55833b76-9a70-4ff3-a195-062177d134a3",
   "metadata": {},
   "outputs": [],
   "source": []
  }
 ],
 "metadata": {
  "kernelspec": {
   "display_name": "Python 3 (ipykernel)",
   "language": "python",
   "name": "python3"
  },
  "language_info": {
   "codemirror_mode": {
    "name": "ipython",
    "version": 3
   },
   "file_extension": ".py",
   "mimetype": "text/x-python",
   "name": "python",
   "nbconvert_exporter": "python",
   "pygments_lexer": "ipython3",
   "version": "3.10.12"
  }
 },
 "nbformat": 4,
 "nbformat_minor": 5
}

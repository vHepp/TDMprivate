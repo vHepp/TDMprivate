{
 "cells": [
  {
   "cell_type": "code",
   "execution_count": 4,
   "id": "5dd07c6e-83c8-4d04-a269-24283a059c22",
   "metadata": {},
   "outputs": [],
   "source": [
    "import numpy as np\n",
    "\n",
    "import pandas as pd"
   ]
  },
  {
   "cell_type": "code",
   "execution_count": 1,
   "id": "899028ea-7171-474f-9f60-788eef42cdcf",
   "metadata": {},
   "outputs": [],
   "source": [
    "def BinaryDrivingMode( chassis_df ):\n",
    "\n",
    "    drive_mode_lst = chassis_df[ 'drivingMode' ].tolist()\n",
    "\n",
    "    binary_drive_mode_lst = []\n",
    "    \n",
    "    for drive_mode in drive_mode_lst:\n",
    "\n",
    "        if ( ( drive_mode == 'COMPLETE_MANUAL' ) or ( drive_mode == 'EMERGENCY_MODE' ) ):\n",
    "\n",
    "            binary_drive_mode_lst.append( 0 )\n",
    "\n",
    "        elif ( drive_mode == 'COMPLETE_AUTO_DRIVE' ):\n",
    "\n",
    "            binary_drive_mode_lst.append( 1 )\n",
    "\n",
    "        else:\n",
    "\n",
    "            raise Exception( f'Unknown driving mode: { drive_mode }' )\n",
    "\n",
    "    chassis_df[ 'BinaryDrivingMode' ] = binary_drive_mode_lst"
   ]
  },
  {
   "cell_type": "code",
   "execution_count": 2,
   "id": "ad84c6aa-27df-43ea-bdc5-6de38c94d9c6",
   "metadata": {},
   "outputs": [],
   "source": [
    "def TernaryDrivingModeTransition( time_sorted_chassis_df ):\n",
    "\n",
    "    binary_drive_mode_lst = time_sorted_chassis_df[ 'BinaryDrivingMode' ].tolist()\n",
    "\n",
    "    ternary_drive_mode_trans_lst = []\n",
    "    \n",
    "    for index in range( 1, len( binary_drive_mode_lst ) ):\n",
    "\n",
    "        drive_mode_trans = binary_drive_mode_lst[ index ] - binary_drive_mode_lst[ index - 1 ]\n",
    "\n",
    "        ternary_drive_mode_trans_lst.append( drive_mode_trans )\n",
    "\n",
    "    ternary_drive_mode_trans_lst = [ 0 ] + ternary_drive_mode_trans_lst\n",
    "\n",
    "    time_sorted_chassis_df[ 'TernaryDrivingModeTransition' ] = ternary_drive_mode_trans_lst"
   ]
  },
  {
   "cell_type": "code",
   "execution_count": 3,
   "id": "bfb38f63-afc6-460f-b9ee-4f171a8f0c59",
   "metadata": {},
   "outputs": [],
   "source": [
    "def LatLonTotalStdDev( best_pose_df ):\n",
    "\n",
    "    lat_stddev_lst = best_pose_df[ 'latitudeStdDev' ].tolist()\n",
    "\n",
    "    lon_stddev_lst = best_pose_df[ 'longitudeStdDev' ].tolist()\n",
    "\n",
    "    def planar_distance( x, y ): return ( x ** 2 + y ** 2 ) ** ( 1 / 2 )\n",
    "\n",
    "    latlon_total_stddev_lst = []\n",
    "\n",
    "    for lat_stddev, lon_stddev in zip( lat_stddev_lst, lon_stddev_lst ):\n",
    "\n",
    "        latlon_total_stddev = planar_distance( lat_stddev, lon_stddev )\n",
    "\n",
    "        latlon_total_stddev_lst.append( latlon_total_stddev )\n",
    "\n",
    "    best_pose_df[ 'LatLonTotalStdDev' ] = latlon_total_stddev_lst"
   ]
  },
  {
   "cell_type": "code",
   "execution_count": 14,
   "id": "c2aa0d5a-6b84-4a93-9d1f-e7be0d06dc2a",
   "metadata": {},
   "outputs": [],
   "source": [
    "def ChassisBestPoseMatchedTime( same_gmID_chassis_df, same_gmID_best_pose_df ):\n",
    "\n",
    "    chassis_time_array = np.array( same_gmID_chassis_df[ 'time' ] )\n",
    "\n",
    "    best_pose_time_array = np.array( same_gmID_best_pose_df[ 'time' ] )\n",
    "\n",
    "    chassis_best_pose_matched_time_lst = []\n",
    "\n",
    "    for chassis_time in chassis_time_array:\n",
    "\n",
    "        time_diff_array = best_pose_time_array - chassis_time\n",
    "\n",
    "        abs_time_diff_array = np.abs( time_diff_array )\n",
    "\n",
    "        min_index = np.where( abs_time_diff_array == np.min( abs_time_diff_array ) )\n",
    "\n",
    "        chassis_best_pose_matched_time = best_pose_time_array[ min_index ][ 0 ]\n",
    "\n",
    "        chassis_best_pose_matched_time_lst.append( chassis_best_pose_matched_time )\n",
    "\n",
    "    same_gmID_chassis_df[ 'ChassisBestPoseMatchedTime' ] = chassis_best_pose_matched_time_lst\n",
    "\n",
    "    same_gmID_best_pose_df[ 'ChassisBestPoseMatchedTime' ] = same_gmID_best_pose_df[ 'time' ]"
   ]
  },
  {
   "cell_type": "code",
   "execution_count": 1,
   "id": "6d13737c-07cc-483a-8062-c4bc2f8acb91",
   "metadata": {},
   "outputs": [],
   "source": [
    "def NormalizedTime( chassis_df ):\n",
    "\n",
    "    chassis_time_array = np.array( chassis_df[ 'time' ] )\n",
    "\n",
    "    normalized_chassis_time_array = chassis_time_array - np.min( chassis_time_array )\n",
    "\n",
    "    chassis_df[ 'NormalizedTime' ] = list( normalized_chassis_time_array )"
   ]
  },
  {
   "cell_type": "code",
   "execution_count": 4,
   "id": "86f9f56e-df18-4ccf-8f9c-e2c064862d73",
   "metadata": {},
   "outputs": [],
   "source": [
    "def DeltaTime( time_sorted_chassis_df ):\n",
    "\n",
    "    chassis_time_array = np.array( time_sorted_chassis_df[ 'time' ] )\n",
    "\n",
    "    chassis_delta_time_array = np.diff( chassis_time_array )\n",
    "\n",
    "    chassis_delta_time_list = list( chassis_delta_time_array )\n",
    "\n",
    "    chassis_delta_time_list = [ chassis_delta_time_list[ 0 ] ] + chassis_delta_time_list\n",
    "\n",
    "    time_sorted_chassis_df[ 'DeltaTime' ] = chassis_delta_time_list"
   ]
  },
  {
   "cell_type": "code",
   "execution_count": 3,
   "id": "51113e12-35f6-41c1-9d36-2dacd87aa32b",
   "metadata": {},
   "outputs": [],
   "source": [
    "def Distance( time_sorted_chassis_df ):\n",
    "\n",
    "    chassis_DeltaTime_array = np.array( time_sorted_chassis_df[ 'DeltaTime' ] ) * 1e-9 # seconds\n",
    "\n",
    "    chassis_speedMps_array = np.array( time_sorted_chassis_df[ 'speedMps' ] ) # meters/second\n",
    "\n",
    "    chassis_Distance_list = [] # meters\n",
    "\n",
    "    for index in range( len( chassis_DeltaTime_array ) ):\n",
    "\n",
    "        current_index_Distance = np.sum( chassis_DeltaTime_array[ : index ] * chassis_speedMps_array[ : index ] )\n",
    "\n",
    "        chassis_Distance_list.append( current_index_Distance )\n",
    "\n",
    "    time_sorted_chassis_df[ 'Distance' ] = chassis_Distance_list"
   ]
  },
  {
   "cell_type": "code",
   "execution_count": null,
   "id": "352a2f3e-2bbe-4f2a-ad55-963e7ab552f9",
   "metadata": {},
   "outputs": [],
   "source": []
  }
 ],
 "metadata": {
  "kernelspec": {
   "display_name": "Python 3 (ipykernel)",
   "language": "python",
   "name": "python3"
  },
  "language_info": {
   "codemirror_mode": {
    "name": "ipython",
    "version": 3
   },
   "file_extension": ".py",
   "mimetype": "text/x-python",
   "name": "python",
   "nbconvert_exporter": "python",
   "pygments_lexer": "ipython3",
   "version": "3.10.12"
  }
 },
 "nbformat": 4,
 "nbformat_minor": 5
}

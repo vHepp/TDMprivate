{
 "cells": [
  {
   "cell_type": "code",
   "execution_count": 7,
   "id": "5dd07c6e-83c8-4d04-a269-24283a059c22",
   "metadata": {},
   "outputs": [],
   "source": [
    "import numpy as np\n",
    "\n",
    "import pandas as pd\n",
    "\n",
    "import os"
   ]
  },
  {
   "cell_type": "code",
   "execution_count": 8,
   "id": "899028ea-7171-474f-9f60-788eef42cdcf",
   "metadata": {},
   "outputs": [],
   "source": [
    "def BinaryDrivingMode( chassis_df ):\n",
    "\n",
    "    drive_mode_lst = chassis_df[ 'drivingMode' ].tolist()\n",
    "\n",
    "    binary_drive_mode_lst = []\n",
    "    \n",
    "    for drive_mode in drive_mode_lst:\n",
    "\n",
    "        if ( ( drive_mode == 'COMPLETE_MANUAL' ) or ( drive_mode == 'EMERGENCY_MODE' ) ):\n",
    "\n",
    "            binary_drive_mode_lst.append( 0 )\n",
    "\n",
    "        elif ( drive_mode == 'COMPLETE_AUTO_DRIVE' ):\n",
    "\n",
    "            binary_drive_mode_lst.append( 1 )\n",
    "\n",
    "        else:\n",
    "\n",
    "            raise Exception( f'Unknown driving mode: { drive_mode }' )\n",
    "\n",
    "    chassis_df[ 'BinaryDrivingMode' ] = binary_drive_mode_lst"
   ]
  },
  {
   "cell_type": "code",
   "execution_count": 9,
   "id": "ad84c6aa-27df-43ea-bdc5-6de38c94d9c6",
   "metadata": {},
   "outputs": [],
   "source": [
    "def TernaryDrivingModeTransition( time_sorted_chassis_df ):\n",
    "\n",
    "    binary_drive_mode_lst = time_sorted_chassis_df[ 'BinaryDrivingMode' ].tolist()\n",
    "\n",
    "    ternary_drive_mode_trans_lst = []\n",
    "    \n",
    "    for index in range( 1, len( binary_drive_mode_lst ) ):\n",
    "\n",
    "        drive_mode_trans = binary_drive_mode_lst[ index ] - binary_drive_mode_lst[ index - 1 ]\n",
    "\n",
    "        ternary_drive_mode_trans_lst.append( drive_mode_trans )\n",
    "\n",
    "    ternary_drive_mode_trans_lst = [ 0 ] + ternary_drive_mode_trans_lst\n",
    "\n",
    "    time_sorted_chassis_df[ 'TernaryDrivingModeTransition' ] = ternary_drive_mode_trans_lst"
   ]
  },
  {
   "cell_type": "code",
   "execution_count": 10,
   "id": "bfb38f63-afc6-460f-b9ee-4f171a8f0c59",
   "metadata": {},
   "outputs": [],
   "source": [
    "def LatLonTotalStdDev( best_pose_df ):\n",
    "\n",
    "    lat_stddev_lst = best_pose_df[ 'latitudeStdDev' ].tolist()\n",
    "\n",
    "    lon_stddev_lst = best_pose_df[ 'longitudeStdDev' ].tolist()\n",
    "\n",
    "    def planar_distance( x, y ): return ( x ** 2 + y ** 2 ) ** ( 1 / 2 )\n",
    "\n",
    "    latlon_total_stddev_lst = []\n",
    "\n",
    "    for lat_stddev, lon_stddev in zip( lat_stddev_lst, lon_stddev_lst ):\n",
    "\n",
    "        latlon_total_stddev = planar_distance( lat_stddev, lon_stddev )\n",
    "\n",
    "        latlon_total_stddev_lst.append( latlon_total_stddev )\n",
    "\n",
    "    best_pose_df[ 'LatLonTotalStdDev' ] = latlon_total_stddev_lst"
   ]
  },
  {
   "cell_type": "code",
   "execution_count": 11,
   "id": "c2aa0d5a-6b84-4a93-9d1f-e7be0d06dc2a",
   "metadata": {},
   "outputs": [],
   "source": [
    "def ChassisBestPoseMatchedTime( same_gmID_chassis_df, same_gmID_best_pose_df ):\n",
    "\n",
    "    chassis_time_array = np.array( same_gmID_chassis_df[ 'time' ] )\n",
    "\n",
    "    best_pose_time_array = np.array( same_gmID_best_pose_df[ 'time' ] )\n",
    "\n",
    "    chassis_best_pose_matched_time_lst = []\n",
    "\n",
    "    for chassis_time in chassis_time_array:\n",
    "\n",
    "        time_diff_array = best_pose_time_array - chassis_time\n",
    "\n",
    "        abs_time_diff_array = np.abs( time_diff_array )\n",
    "\n",
    "        min_index = np.where( abs_time_diff_array == np.min( abs_time_diff_array ) )\n",
    "\n",
    "        chassis_best_pose_matched_time = best_pose_time_array[ min_index ][ 0 ]\n",
    "\n",
    "        chassis_best_pose_matched_time_lst.append( chassis_best_pose_matched_time )\n",
    "\n",
    "    same_gmID_chassis_df[ 'ChassisBestPoseMatchedTime' ] = chassis_best_pose_matched_time_lst\n",
    "\n",
    "    same_gmID_best_pose_df[ 'ChassisBestPoseMatchedTime' ] = same_gmID_best_pose_df[ 'time' ]"
   ]
  },
  {
   "cell_type": "code",
   "execution_count": 12,
   "id": "352a2f3e-2bbe-4f2a-ad55-963e7ab552f9",
   "metadata": {},
   "outputs": [],
   "source": [
    "def ProgressAlongRoute( best_pose_df, time_sorted_reference_best_pose_df):\n",
    "\n",
    "    reference_ProgressAlongRoute_list = [ 0 ]\n",
    "\n",
    "    reference_latitude_array = np.array( time_sorted_reference_best_pose_df[ 'latitude' ] )\n",
    "\n",
    "    reference_longitude_array = np.array( time_sorted_reference_best_pose_df[ 'longitude' ] )\n",
    "\n",
    "    for index in range( len( reference_latitude_array[ : -1 ] ) ):\n",
    "\n",
    "        reference_ProgressAlongRoute_list.append( reference_ProgressAlongRoute_list[ index ] + \\\n",
    "                                                  np.sqrt( ( reference_latitude_array[ index + 1 ] - reference_latitude_array[ index ] ) ** 2 + \\\n",
    "                                                           ( reference_longitude_array[ index + 1 ] - reference_longitude_array[ index ] ) ** 2 ) )\n",
    "\n",
    "    reference_ProgressAlongRoute_array = np.array( reference_ProgressAlongRoute_list )\n",
    "\n",
    "    reference_ProgressAlongRoute_array = reference_ProgressAlongRoute_array / np.max( reference_ProgressAlongRoute_array )\n",
    "\n",
    "    #\n",
    "\n",
    "    current_latitude_array = np.array( best_pose_df[ 'latitude' ] )\n",
    "\n",
    "    current_longitude_array = np.array( best_pose_df[ 'longitude' ] )\n",
    "\n",
    "    current_ProgressAlongRoute_list = []\n",
    "\n",
    "    for latitude, longitude in zip( current_latitude_array, current_longitude_array ):\n",
    "\n",
    "        distance_analog_array = ( reference_latitude_array - latitude ) ** 2 + ( reference_longitude_array - longitude ) ** 2\n",
    "\n",
    "        min_distance_index = np.where( distance_analog_array == np.min( distance_analog_array ) )\n",
    "\n",
    "        current_ProgressAlongRoute_list.append( reference_ProgressAlongRoute_array[ min_distance_index ][ 0 ] )\n",
    "\n",
    "    best_pose_df[ 'ProgressAlongRoute' ] = current_ProgressAlongRoute_list"
   ]
  },
  {
   "cell_type": "code",
   "execution_count": 13,
   "id": "6d13737c-07cc-483a-8062-c4bc2f8acb91",
   "metadata": {},
   "outputs": [],
   "source": [
    "def NormalizedTime( chassis_df ):\n",
    "\n",
    "    chassis_time_array = np.array( chassis_df[ 'time' ] )\n",
    "\n",
    "    normalized_chassis_time_array = chassis_time_array - np.min( chassis_time_array )\n",
    "\n",
    "    chassis_df[ 'NormalizedTime' ] = list( normalized_chassis_time_array )"
   ]
  },
  {
   "cell_type": "code",
   "execution_count": 14,
   "id": "86f9f56e-df18-4ccf-8f9c-e2c064862d73",
   "metadata": {},
   "outputs": [],
   "source": [
    "def DeltaTime( time_sorted_chassis_df ):\n",
    "\n",
    "    chassis_time_array = np.array( time_sorted_chassis_df[ 'time' ] )\n",
    "\n",
    "    chassis_delta_time_array = np.diff( chassis_time_array )\n",
    "\n",
    "    chassis_delta_time_list = list( chassis_delta_time_array )\n",
    "\n",
    "    chassis_delta_time_list = [ chassis_delta_time_list[ 0 ] ] + chassis_delta_time_list\n",
    "\n",
    "    time_sorted_chassis_df[ 'DeltaTime' ] = chassis_delta_time_list"
   ]
  },
  {
   "cell_type": "code",
   "execution_count": 15,
   "id": "51113e12-35f6-41c1-9d36-2dacd87aa32b",
   "metadata": {},
   "outputs": [],
   "source": [
    "def Distance( time_sorted_chassis_df ):\n",
    "\n",
    "    # Legacy\n",
    "\n",
    "    chassis_DeltaTime_array = np.array( time_sorted_chassis_df[ 'DeltaTime' ] ) * 1e-9 # seconds\n",
    "\n",
    "    chassis_speedMps_array = np.array( time_sorted_chassis_df[ 'speedMps' ] ) # meters/second\n",
    "\n",
    "    chassis_Distance_list = [] # meters\n",
    "\n",
    "    for index in range( len( chassis_DeltaTime_array ) ):\n",
    "\n",
    "        current_index_Distance = np.sum( chassis_DeltaTime_array[ : index ] * chassis_speedMps_array[ : index ] )\n",
    "\n",
    "        chassis_Distance_list.append( current_index_Distance )\n",
    "\n",
    "    time_sorted_chassis_df[ 'Distance' ] = chassis_Distance_list"
   ]
  },
  {
   "cell_type": "markdown",
   "id": "df33812e-10ea-47d4-bcde-63a5431d7ac2",
   "metadata": {},
   "source": [
    "### Functions unrelated to calculated fields but are important vvv"
   ]
  },
  {
   "cell_type": "code",
   "execution_count": 16,
   "id": "08a47e58-579d-4947-9209-36c806001dfc",
   "metadata": {},
   "outputs": [],
   "source": [
    "def origin_dir():\n",
    "\n",
    "    home_dir_list = os.listdir( '/home' )\n",
    "\n",
    "    for dir in home_dir_list:\n",
    "\n",
    "        if '_linux' in dir:\n",
    "\n",
    "            path = f'/home/{dir}/Desktop/TDMprivate'\n",
    "\n",
    "            if not os.path.exists( path ):\n",
    "\n",
    "                raise Exception( 'TDMprivate folder does not exist. TDMprivate folder must exist on Desktop. Notify Ryan or ' +\n",
    "                                 'Vincent if this message appears.' )\n",
    "\n",
    "            else:\n",
    "\n",
    "                return path"
   ]
  },
  {
   "cell_type": "code",
   "execution_count": 17,
   "id": "3461fb46-09b8-4edd-b13c-102cc943b20c",
   "metadata": {},
   "outputs": [],
   "source": [
    "def retrieve_metadata_df():\n",
    "\n",
    "    path = f'{ origin_dir() }/metadata/metadata.csv'\n",
    "\n",
    "    metadata_df = pd.read_csv( f'{ origin_dir() }/metadata/metadata.csv' )\n",
    "\n",
    "    return metadata_df"
   ]
  },
  {
   "cell_type": "code",
   "execution_count": 21,
   "id": "7deba129-97c2-423c-9e4d-49289053ec73",
   "metadata": {},
   "outputs": [],
   "source": [
    "def list_gmIDs():\n",
    "\n",
    "    path = f'{ origin_dir() }/data'\n",
    "\n",
    "    gmID_list = [ file for file in os.listdir( path ) if os.path.isdir( f'{ path }/{ file }' ) ]\n",
    "\n",
    "    return gmID_list"
   ]
  },
  {
   "cell_type": "code",
   "execution_count": 19,
   "id": "57ce3eed-3304-4434-8afd-b0c68f5b0b0f",
   "metadata": {},
   "outputs": [],
   "source": [
    "def list_topics():\n",
    "\n",
    "    gmID_list = list_gmIDs()\n",
    "\n",
    "    path = f'{ origin_dir() }/data/{ gmID_list[ 0 ] }'\n",
    "\n",
    "    topic_list = [ file for file in os.listdir( path ) if os.path.isdir( f'{ path }/{ file }' ) ]\n",
    "\n",
    "    topic_list = [ topic.replace( '_', '/' ) for topic in topic_list ]\n",
    "\n",
    "    return topic_list"
   ]
  },
  {
   "cell_type": "code",
   "execution_count": 20,
   "id": "a6fee201-0b7d-48fe-ba83-437af2f03f63",
   "metadata": {},
   "outputs": [],
   "source": [
    "def retrieve_gmID_topic( gmID, topic ):\n",
    "\n",
    "    dir_friendly_topic = topic.replace( '/', '_' )\n",
    "\n",
    "    path = f'{ origin_dir() }/data/{ gmID }/{ dir_friendly_topic }/{ gmID + dir_friendly_topic }.csv'\n",
    "\n",
    "    gmID_topic_df = pd.read_csv( path )\n",
    "\n",
    "    return gmID_topic_df"
   ]
  },
  {
   "cell_type": "code",
   "execution_count": null,
   "id": "e4975b54-754b-43e3-ad17-51ceca092c1c",
   "metadata": {},
   "outputs": [],
   "source": []
  }
 ],
 "metadata": {
  "kernelspec": {
   "display_name": "Python 3 (ipykernel)",
   "language": "python",
   "name": "python3"
  },
  "language_info": {
   "codemirror_mode": {
    "name": "ipython",
    "version": 3
   },
   "file_extension": ".py",
   "mimetype": "text/x-python",
   "name": "python",
   "nbconvert_exporter": "python",
   "pygments_lexer": "ipython3",
   "version": "3.10.12"
  }
 },
 "nbformat": 4,
 "nbformat_minor": 5
}

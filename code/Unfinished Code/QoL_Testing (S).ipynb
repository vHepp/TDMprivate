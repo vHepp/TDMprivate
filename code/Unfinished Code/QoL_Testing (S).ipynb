{
 "cells": [
  {
   "cell_type": "code",
   "execution_count": 1,
   "id": "827eb4a2-55b1-421a-bec7-94531bedb4b3",
   "metadata": {},
   "outputs": [],
   "source": [
    "import CalculatedFieldSubroutines as cfs"
   ]
  },
  {
   "cell_type": "code",
   "execution_count": 2,
   "id": "9d23eb97-f65f-4697-900a-f44c79d05172",
   "metadata": {},
   "outputs": [
    {
     "data": {
      "text/plain": [
       "'/home/rcoldren_linux/Desktop/TDMprivate'"
      ]
     },
     "execution_count": 2,
     "metadata": {},
     "output_type": "execute_result"
    }
   ],
   "source": [
    "cfs.origin_dir()"
   ]
  },
  {
   "cell_type": "code",
   "execution_count": 5,
   "id": "7f8fdd86-eb6a-45f0-97c4-4b119799a65e",
   "metadata": {},
   "outputs": [],
   "source": [
    "x = cfs.retrieve_metadata_df()"
   ]
  },
  {
   "cell_type": "code",
   "execution_count": 7,
   "id": "40eefd3d-6bde-4e5a-9b9c-5c416b2bbf10",
   "metadata": {},
   "outputs": [
    {
     "name": "stdout",
     "output_type": "stream",
     "text": [
      "<class 'pandas.core.frame.DataFrame'>\n",
      "RangeIndex: 330 entries, 0 to 329\n",
      "Data columns (total 14 columns):\n",
      " #   Column                       Non-Null Count  Dtype  \n",
      "---  ------                       --------------  -----  \n",
      " 0   groupMetadataID              330 non-null    object \n",
      " 1   vehicleID                    330 non-null    object \n",
      " 2   Route                        289 non-null    object \n",
      " 3   driver                       330 non-null    int64  \n",
      " 4   operator                     289 non-null    float64\n",
      " 5   experimentID                 330 non-null    int64  \n",
      " 6   other.Objective              289 non-null    object \n",
      " 7   other.MapVersion             289 non-null    object \n",
      " 8   other.Weather_Lighting       289 non-null    object \n",
      " 9   other.Weather_Precipitation  289 non-null    object \n",
      " 10  other.StackVersion           284 non-null    object \n",
      " 11  other.Weather                41 non-null     object \n",
      " 12  other.Map                    40 non-null     object \n",
      " 13  other.Notes                  39 non-null     object \n",
      "dtypes: float64(1), int64(2), object(11)\n",
      "memory usage: 36.2+ KB\n"
     ]
    }
   ],
   "source": [
    "x.info()"
   ]
  },
  {
   "cell_type": "code",
   "execution_count": 9,
   "id": "6e624422-5c61-4e11-bc09-d1345f3b75bd",
   "metadata": {},
   "outputs": [
    {
     "data": {
      "text/plain": [
       "'513a670c-eea9-11ee-9385-ef789ffde1d3'"
      ]
     },
     "execution_count": 9,
     "metadata": {},
     "output_type": "execute_result"
    }
   ],
   "source": [
    "cfs.list_gmIDs()[ 0 ]"
   ]
  },
  {
   "cell_type": "code",
   "execution_count": 10,
   "id": "92a792a8-412e-4966-b33a-cb379b4f20ec",
   "metadata": {},
   "outputs": [
    {
     "data": {
      "text/plain": [
       "330"
      ]
     },
     "execution_count": 10,
     "metadata": {},
     "output_type": "execute_result"
    }
   ],
   "source": [
    "len( cfs.list_gmIDs() )"
   ]
  },
  {
   "cell_type": "code",
   "execution_count": 11,
   "id": "e9502498-236b-4335-a15f-c25841d7c6d5",
   "metadata": {},
   "outputs": [
    {
     "data": {
      "text/plain": [
       "['/apollo/canbus/chassis',\n",
       " '/apollo/drive/event',\n",
       " '/apollo/sensor/gnss/best/pose',\n",
       " '/apollo/perception/traffic/light']"
      ]
     },
     "execution_count": 11,
     "metadata": {},
     "output_type": "execute_result"
    }
   ],
   "source": [
    "cfs.list_topics()"
   ]
  },
  {
   "cell_type": "code",
   "execution_count": 14,
   "id": "c338bd12-c8f6-4f38-86e8-821d76059975",
   "metadata": {},
   "outputs": [],
   "source": [
    "y = cfs.retrieve_gmID_topic( '513a670c-eea9-11ee-9385-ef789ffde1d3', '/apollo/drive/event' )"
   ]
  },
  {
   "cell_type": "code",
   "execution_count": 15,
   "id": "9c2c171d-10f3-41ea-8106-b166c692fc3f",
   "metadata": {},
   "outputs": [
    {
     "name": "stdout",
     "output_type": "stream",
     "text": [
      "<class 'pandas.core.frame.DataFrame'>\n",
      "RangeIndex: 6 entries, 0 to 5\n",
      "Data columns (total 7 columns):\n",
      " #   Column              Non-Null Count  Dtype  \n",
      "---  ------              --------------  -----  \n",
      " 0   groupMetadataID     6 non-null      object \n",
      " 1   event               3 non-null      object \n",
      " 2   time                6 non-null      int64  \n",
      " 3   position.alt_msl    0 non-null      float64\n",
      " 4   position.latitude   0 non-null      float64\n",
      " 5   position.longitude  0 non-null      float64\n",
      " 6   type                6 non-null      object \n",
      "dtypes: float64(3), int64(1), object(3)\n",
      "memory usage: 464.0+ bytes\n"
     ]
    }
   ],
   "source": [
    "y.info()"
   ]
  },
  {
   "cell_type": "code",
   "execution_count": null,
   "id": "0281af01-faaf-4b52-88ef-b497e0503976",
   "metadata": {},
   "outputs": [],
   "source": []
  }
 ],
 "metadata": {
  "kernelspec": {
   "display_name": "Python 3 (ipykernel)",
   "language": "python",
   "name": "python3"
  },
  "language_info": {
   "codemirror_mode": {
    "name": "ipython",
    "version": 3
   },
   "file_extension": ".py",
   "mimetype": "text/x-python",
   "name": "python",
   "nbconvert_exporter": "python",
   "pygments_lexer": "ipython3",
   "version": "3.10.12"
  }
 },
 "nbformat": 4,
 "nbformat_minor": 5
}

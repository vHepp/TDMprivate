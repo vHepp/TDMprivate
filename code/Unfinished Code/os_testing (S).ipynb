{
 "cells": [
  {
   "cell_type": "code",
   "execution_count": 1,
   "id": "b0fe588c-4b5d-436d-9994-8e32d43927ca",
   "metadata": {},
   "outputs": [],
   "source": [
    "import os"
   ]
  },
  {
   "cell_type": "code",
   "execution_count": 3,
   "id": "d1bf78db-8f75-43f4-978a-6426ce70adeb",
   "metadata": {},
   "outputs": [
    {
     "data": {
      "text/plain": [
       "['rcoldren_linux']"
      ]
     },
     "execution_count": 3,
     "metadata": {},
     "output_type": "execute_result"
    }
   ],
   "source": [
    "os.listdir( '/home' )"
   ]
  },
  {
   "cell_type": "code",
   "execution_count": 7,
   "id": "4cdd0cea-4919-48fa-bc3f-18e4e11f7e43",
   "metadata": {},
   "outputs": [],
   "source": [
    "os.chdir( os.getcwd() + r'/' + os.listdir()[ 0 ] )"
   ]
  },
  {
   "cell_type": "code",
   "execution_count": 8,
   "id": "05b122f7-f73d-4a63-a4d4-95ebbc6cd919",
   "metadata": {},
   "outputs": [
    {
     "data": {
      "text/plain": [
       "'/home/rcoldren_linux'"
      ]
     },
     "execution_count": 8,
     "metadata": {},
     "output_type": "execute_result"
    }
   ],
   "source": [
    "os.getcwd()"
   ]
  },
  {
   "cell_type": "code",
   "execution_count": 9,
   "id": "6108fcde-5e22-4e9a-ae73-f8b55f2188ba",
   "metadata": {},
   "outputs": [
    {
     "data": {
      "text/plain": [
       "['Videos',\n",
       " '.local',\n",
       " '.mozilla',\n",
       " 'Templates',\n",
       " '.cache',\n",
       " '.bash_logout',\n",
       " '.gnupg',\n",
       " '.ssh',\n",
       " '.profile',\n",
       " '.lesshst',\n",
       " 'Public',\n",
       " '.bash_history',\n",
       " '.python_history',\n",
       " '.bashrc',\n",
       " '.config',\n",
       " 'Pictures',\n",
       " '.ipynb_checkpoints',\n",
       " 'snap',\n",
       " '.thunderbird',\n",
       " 'Downloads',\n",
       " 'awscliv2.zip',\n",
       " 'Documents',\n",
       " '.pki',\n",
       " 'aws',\n",
       " 'Music',\n",
       " '.ipython',\n",
       " '.gitconfig',\n",
       " 'Desktop',\n",
       " '.aws',\n",
       " '.jupyter',\n",
       " 'do-env']"
      ]
     },
     "execution_count": 9,
     "metadata": {},
     "output_type": "execute_result"
    }
   ],
   "source": [
    "os.listdir()"
   ]
  },
  {
   "cell_type": "code",
   "execution_count": null,
   "id": "a09d61df-5852-4fe1-b15c-7c409d94ec6d",
   "metadata": {},
   "outputs": [],
   "source": []
  }
 ],
 "metadata": {
  "kernelspec": {
   "display_name": "Python 3 (ipykernel)",
   "language": "python",
   "name": "python3"
  },
  "language_info": {
   "codemirror_mode": {
    "name": "ipython",
    "version": 3
   },
   "file_extension": ".py",
   "mimetype": "text/x-python",
   "name": "python",
   "nbconvert_exporter": "python",
   "pygments_lexer": "ipython3",
   "version": "3.10.12"
  }
 },
 "nbformat": 4,
 "nbformat_minor": 5
}

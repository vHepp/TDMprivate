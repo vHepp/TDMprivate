{
 "cells": [
  {
   "cell_type": "code",
   "execution_count": 136,
   "id": "eb76709c-029f-4093-a66b-8f07724cdbf2",
   "metadata": {},
   "outputs": [],
   "source": [
    "import boto3\n",
    "\n",
    "from boto3.dynamodb.conditions import Key, Attr\n",
    "\n",
    "import pandas as pd\n",
    "\n",
    "from pandasgui import show "
   ]
  },
  {
   "cell_type": "code",
   "execution_count": 105,
   "id": "75a187ab-c8d3-4b4b-81fd-b3e865d5cc00",
   "metadata": {},
   "outputs": [],
   "source": [
    "dynamodb = boto3.resource( 'dynamodb' )"
   ]
  },
  {
   "cell_type": "code",
   "execution_count": 119,
   "id": "3f98d9f0-b676-48ac-985b-0950b8332004",
   "metadata": {},
   "outputs": [],
   "source": [
    "table = dynamodb.Table( 'ads_passenger_processed' )"
   ]
  },
  {
   "cell_type": "code",
   "execution_count": 120,
   "id": "a3573069-3035-49cd-b6d2-c5e04aacb399",
   "metadata": {},
   "outputs": [],
   "source": [
    "query_input = dict(\n",
    "                   IndexName = 'topic-index',\n",
    "                   # Select = 'SPECIFIC_ATTRIBUTES'\n",
    "                   Limit = 1,\n",
    "                   ConsistentRead = False,\n",
    "                   ScanIndexForward = True,\n",
    "                   # ExclusiveStartKey = LastEvaluatedKey of previous query\n",
    "                   ReturnConsumedCapacity = 'TOTAL',\n",
    "                   # ProjectionExpression = \n",
    "                   # FilterExpression = \n",
    "                   KeyConditionExpression = Key( 'topic' ).eq( '/apollo/canbus/chassis' )\n",
    "                   # ExpressionAttributeNames = \n",
    "                   # ExpressionAttributeValues =\n",
    "                  )"
   ]
  },
  {
   "cell_type": "code",
   "execution_count": 121,
   "id": "cd83e89d-5a8a-4ad1-adf8-89a7b688914a",
   "metadata": {},
   "outputs": [],
   "source": [
    "query_output = table.query( **query_input )"
   ]
  },
  {
   "cell_type": "code",
   "execution_count": 122,
   "id": "e1aec716-39ce-494f-b96d-8718c0f06d55",
   "metadata": {},
   "outputs": [],
   "source": [
    "ads_passenger_processed_attr = list( query_output[ 'Items' ][ 0 ].keys() )"
   ]
  },
  {
   "cell_type": "code",
   "execution_count": 124,
   "id": "eb28bf96-fc94-4416-8941-14cdf96492cd",
   "metadata": {},
   "outputs": [
    {
     "name": "stdout",
     "output_type": "stream",
     "text": [
      "['yawRate', 'drivingMode', 'topic', 'msgsize', 'time', 'gearLocation', 'metadataID', 'throttlePercentage', 'steeringPercentage', 'brakePercentage', 'engageAdvice', 'groupMetadataID', 'errorCode', 'signal', 'steeringRate', 'header', 'speedMps', 'engineStarted', '_id', 'fuelRangeM', 'msg_type', 'wheelSpeed']\n"
     ]
    }
   ],
   "source": [
    "print( ads_passenger_processed_attr )"
   ]
  },
  {
   "cell_type": "code",
   "execution_count": 134,
   "id": "4d88a2bb-1c63-4826-8eeb-306368a91dfc",
   "metadata": {},
   "outputs": [],
   "source": [
    "query_input = dict(\n",
    "                   IndexName = 'topic-index',\n",
    "                   Select = 'SPECIFIC_ATTRIBUTES',\n",
    "                   # Limit =\n",
    "                   ConsistentRead = False,\n",
    "                   ScanIndexForward = True,\n",
    "                   # ExclusiveStartKey =\n",
    "                   # ReturnConsumedCapacity =\n",
    "                   ProjectionExpression = '#id, #time, topic, header, drivingMode, engineStarted, gearLocation, ' +\n",
    "                                          'throttlePercentage, speedMps, wheelSpeed, steeringPercentage, steeringRate, ' +\n",
    "                                          'brakePercentage, yawRate, #signal, fuelRangeM, metadataID, groupMetadataID, ' +\n",
    "                                          'engageAdvice, errorCode, msg_type, msgsize',\n",
    "                   FilterExpression = Key( 'groupMetadataID' ).eq( 'a253145a-d2a6-11ee-b437-336917683bb8' ),\n",
    "                   KeyConditionExpression = Key( 'topic' ).eq( '/apollo/canbus/chassis' ),\n",
    "                   ExpressionAttributeNames = {\n",
    "                                               '#id': '_id',\n",
    "                                               '#time': 'time',\n",
    "                                               '#signal': 'signal'\n",
    "                                              }\n",
    "                   # ExpressionAttributeValues =\n",
    "                  )\n",
    "\n",
    "query_output = table.query( **query_input )\n",
    "\n",
    "query_output_df = pd.DataFrame.from_dict( pd.json_normalize( query_output[ 'Items' ] ), orient = 'columns' )\n",
    "\n",
    "i = 0\n",
    "while ( bool( query_output[ 'LastEvaluatedKey' ] ) ) and ( i <= 100 ):\n",
    "\n",
    "    query_input[ 'ExclusiveStartKey' ] = query_output[ 'LastEvaluatedKey' ]\n",
    "\n",
    "    query_output = table.query( **query_input )\n",
    "\n",
    "    temp_df = pd.DataFrame.from_dict( pd.json_normalize( query_output[ 'Items' ] ), orient = 'columns' )\n",
    "\n",
    "    query_output_df = pd.concat( [ query_output_df, temp_df ] )\n",
    "\n",
    "    i = i + 1"
   ]
  },
  {
   "cell_type": "code",
   "execution_count": 135,
   "id": "92cc2354-216f-4647-b501-c2cbc565c7b3",
   "metadata": {},
   "outputs": [
    {
     "name": "stderr",
     "output_type": "stream",
     "text": [
      "PandasGUI INFO — pandasgui.gui — Opening PandasGUI\n",
      "/tmp/ipykernel_49464/1985951272.py:1: FutureWarning:\n",
      "\n",
      "Series.__getitem__ treating keys as positions is deprecated. In a future version, integer keys will always be treated as labels (consistent with DataFrame behavior). To access a value by position, use `ser.iloc[pos]`\n",
      "\n",
      "/tmp/ipykernel_49464/1985951272.py:1: FutureWarning:\n",
      "\n",
      "Series.__getitem__ treating keys as positions is deprecated. In a future version, integer keys will always be treated as labels (consistent with DataFrame behavior). To access a value by position, use `ser.iloc[pos]`\n",
      "\n",
      "/tmp/ipykernel_49464/1985951272.py:1: FutureWarning:\n",
      "\n",
      "Series.__getitem__ treating keys as positions is deprecated. In a future version, integer keys will always be treated as labels (consistent with DataFrame behavior). To access a value by position, use `ser.iloc[pos]`\n",
      "\n",
      "/tmp/ipykernel_49464/1985951272.py:1: FutureWarning:\n",
      "\n",
      "Series.__getitem__ treating keys as positions is deprecated. In a future version, integer keys will always be treated as labels (consistent with DataFrame behavior). To access a value by position, use `ser.iloc[pos]`\n",
      "\n",
      "/tmp/ipykernel_49464/1985951272.py:1: FutureWarning:\n",
      "\n",
      "Series.__getitem__ treating keys as positions is deprecated. In a future version, integer keys will always be treated as labels (consistent with DataFrame behavior). To access a value by position, use `ser.iloc[pos]`\n",
      "\n",
      "/tmp/ipykernel_49464/1985951272.py:1: FutureWarning:\n",
      "\n",
      "Series.__getitem__ treating keys as positions is deprecated. In a future version, integer keys will always be treated as labels (consistent with DataFrame behavior). To access a value by position, use `ser.iloc[pos]`\n",
      "\n"
     ]
    },
    {
     "data": {
      "text/plain": [
       "<pandasgui.gui.PandasGui at 0x7ab2ea734790>"
      ]
     },
     "execution_count": 135,
     "metadata": {},
     "output_type": "execute_result"
    }
   ],
   "source": [
    "show( query_output_df )"
   ]
  },
  {
   "cell_type": "code",
   "execution_count": 127,
   "id": "812875b7-51de-4769-aaf5-d3cb27fd1cf1",
   "metadata": {},
   "outputs": [],
   "source": [
    "query_output = table.query( **query_input )"
   ]
  },
  {
   "cell_type": "code",
   "execution_count": 129,
   "id": "31f30ecb-a4d7-421b-82e0-b0538d2a16c4",
   "metadata": {},
   "outputs": [
    {
     "name": "stdout",
     "output_type": "stream",
     "text": [
      "dict_keys(['Items', 'Count', 'ScannedCount', 'LastEvaluatedKey', 'ConsumedCapacity', 'ResponseMetadata'])\n"
     ]
    }
   ],
   "source": [
    "print( query_output.keys() )"
   ]
  },
  {
   "cell_type": "code",
   "execution_count": 98,
   "id": "1091f6ab-7916-48b9-b036-1832e9243316",
   "metadata": {},
   "outputs": [],
   "source": [
    "qry_otpt_dtfrme = pd.DataFrame.from_dict( pd.json_normalize( query_output['Items'] ), orient='columns' )"
   ]
  },
  {
   "cell_type": "code",
   "execution_count": 101,
   "id": "8e19caed-9102-4e44-8881-473f01bd5ec3",
   "metadata": {},
   "outputs": [
    {
     "name": "stderr",
     "output_type": "stream",
     "text": [
      "PandasGUI INFO — pandasgui.gui — Opening PandasGUI\n",
      "/tmp/ipykernel_49464/3445431880.py:1: FutureWarning: Series.__getitem__ treating keys as positions is deprecated. In a future version, integer keys will always be treated as labels (consistent with DataFrame behavior). To access a value by position, use `ser.iloc[pos]`\n",
      "  show( qry_otpt_dtfrme )\n",
      "/tmp/ipykernel_49464/3445431880.py:1: FutureWarning: Series.__getitem__ treating keys as positions is deprecated. In a future version, integer keys will always be treated as labels (consistent with DataFrame behavior). To access a value by position, use `ser.iloc[pos]`\n",
      "  show( qry_otpt_dtfrme )\n",
      "/tmp/ipykernel_49464/3445431880.py:1: FutureWarning:\n",
      "\n",
      "Series.__getitem__ treating keys as positions is deprecated. In a future version, integer keys will always be treated as labels (consistent with DataFrame behavior). To access a value by position, use `ser.iloc[pos]`\n",
      "\n",
      "/tmp/ipykernel_49464/3445431880.py:1: FutureWarning:\n",
      "\n",
      "Series.__getitem__ treating keys as positions is deprecated. In a future version, integer keys will always be treated as labels (consistent with DataFrame behavior). To access a value by position, use `ser.iloc[pos]`\n",
      "\n",
      "/tmp/ipykernel_49464/3445431880.py:1: FutureWarning:\n",
      "\n",
      "Series.__getitem__ treating keys as positions is deprecated. In a future version, integer keys will always be treated as labels (consistent with DataFrame behavior). To access a value by position, use `ser.iloc[pos]`\n",
      "\n",
      "/tmp/ipykernel_49464/3445431880.py:1: FutureWarning:\n",
      "\n",
      "Series.__getitem__ treating keys as positions is deprecated. In a future version, integer keys will always be treated as labels (consistent with DataFrame behavior). To access a value by position, use `ser.iloc[pos]`\n",
      "\n"
     ]
    },
    {
     "data": {
      "text/plain": [
       "<pandasgui.gui.PandasGui at 0x7ab2f79c6f80>"
      ]
     },
     "execution_count": 101,
     "metadata": {},
     "output_type": "execute_result"
    }
   ],
   "source": [
    "show( qry_otpt_dtfrme )"
   ]
  },
  {
   "cell_type": "code",
   "execution_count": 86,
   "id": "7aa15373-6c0b-4794-84b1-a4ba3ff21cb0",
   "metadata": {},
   "outputs": [
    {
     "data": {
      "text/plain": [
       "dict_keys(['Items', 'Count', 'ScannedCount', 'LastEvaluatedKey', 'ConsumedCapacity', 'ResponseMetadata'])"
      ]
     },
     "execution_count": 86,
     "metadata": {},
     "output_type": "execute_result"
    }
   ],
   "source": [
    "dict.keys( query_output )"
   ]
  },
  {
   "cell_type": "code",
   "execution_count": 97,
   "id": "a6f2fc1f-ae74-4e15-a429-1acfb7e11c7f",
   "metadata": {},
   "outputs": [
    {
     "name": "stdout",
     "output_type": "stream",
     "text": [
      "1705953472894913533\n",
      "a253145a-d2a6-11ee-b437-336917683bb8\n",
      "\n",
      "1705952940914672525\n",
      "a253145a-d2a6-11ee-b437-336917683bb8\n",
      "\n",
      "1705953664054691897\n",
      "a253145a-d2a6-11ee-b437-336917683bb8\n",
      "\n",
      "1705952002894704411\n",
      "a253145a-d2a6-11ee-b437-336917683bb8\n",
      "\n",
      "1705953447180948458\n",
      "a253145a-d2a6-11ee-b437-336917683bb8\n",
      "\n",
      "1705952325316458661\n",
      "a253145a-d2a6-11ee-b437-336917683bb8\n",
      "\n",
      "1705953036735491619\n",
      "a253145a-d2a6-11ee-b437-336917683bb8\n",
      "\n",
      "1705951761863807069\n",
      "a253145a-d2a6-11ee-b437-336917683bb8\n",
      "\n",
      "1705953147498403472\n",
      "a253145a-d2a6-11ee-b437-336917683bb8\n",
      "\n",
      "1705953728895191986\n",
      "a253145a-d2a6-11ee-b437-336917683bb8\n",
      "\n",
      "1705952658335951948\n",
      "a253145a-d2a6-11ee-b437-336917683bb8\n",
      "\n"
     ]
    }
   ],
   "source": [
    "for item in query_output['Items']:\n",
    "\n",
    "    print( item['time'] )\n",
    "    print( item['groupMetadataID'] )\n",
    "    print()"
   ]
  },
  {
   "cell_type": "code",
   "execution_count": 95,
   "id": "d2c5d46a-9bc4-4343-93ff-1bcded2c0ca1",
   "metadata": {},
   "outputs": [
    {
     "name": "stdout",
     "output_type": "stream",
     "text": [
      "drivingMode COMPLETE_AUTO_DRIVE\n",
      "yawRate 0\n",
      "topic /apollo/canbus/chassis\n",
      "msgsize 134\n",
      "time 1705953664054691897\n",
      "gearLocation GEAR_DRIVE\n",
      "metadataID e2af357a-d2be-11ee-b437-336917683bb8\n",
      "throttlePercentage 0\n",
      "steeringPercentage 6.4291854\n",
      "brakePercentage 23.2\n",
      "engageAdvice {'advice': 'READY_TO_ENGAGE'}\n",
      "groupMetadataID a253145a-d2a6-11ee-b437-336917683bb8\n",
      "errorCode NO_ERROR\n",
      "signal {'turnSignal': 'TURN_NONE'}\n",
      "steeringRate 0\n",
      "header {'moduleName': 'canbus', 'sequenceNum': Decimal('113469'), 'timestampSec': Decimal('1705953664.0546029')}\n",
      "speedMps 0\n",
      "engineStarted True\n",
      "_id f382653e-d2be-11ee-b437-336917683bb8\n",
      "fuelRangeM 0\n",
      "msg_type \n",
      "wheelSpeed {'isWheelSpdRrValid': True, 'wheelSpdRr': Decimal('0'), 'isWheelSpdRlValid': True, 'wheelSpdFr': Decimal('0'), 'isWheelSpdFrValid': True, 'wheelSpdRl': Decimal('0'), 'wheelSpdFl': Decimal('0'), 'isWheelSpdFlValid': True}\n"
     ]
    }
   ],
   "source": [
    "for attr, val in query_output['Items'][2].items():\n",
    "\n",
    "    print( attr, val )\n",
    "    "
   ]
  },
  {
   "cell_type": "code",
   "execution_count": null,
   "id": "3da4bb1c-3e49-4e41-bcc6-b417225bbaff",
   "metadata": {},
   "outputs": [],
   "source": []
  }
 ],
 "metadata": {
  "kernelspec": {
   "display_name": "Python 3 (ipykernel)",
   "language": "python",
   "name": "python3"
  },
  "language_info": {
   "codemirror_mode": {
    "name": "ipython",
    "version": 3
   },
   "file_extension": ".py",
   "mimetype": "text/x-python",
   "name": "python",
   "nbconvert_exporter": "python",
   "pygments_lexer": "ipython3",
   "version": "3.10.12"
  }
 },
 "nbformat": 4,
 "nbformat_minor": 5
}

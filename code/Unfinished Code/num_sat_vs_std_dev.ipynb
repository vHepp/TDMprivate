{
 "cells": [
  {
   "cell_type": "code",
   "execution_count": 7,
   "id": "1222ad2e-3363-4006-acf0-016847103f3f",
   "metadata": {},
   "outputs": [],
   "source": [
    "import numpy as np\n",
    "\n",
    "import pandas as pd\n",
    "\n",
    "import matplotlib.pyplot as plt \n",
    "\n",
    "from decimal import *\n",
    "\n",
    "from pandasgui import show"
   ]
  },
  {
   "cell_type": "code",
   "execution_count": 8,
   "id": "4c2563ac-d7f3-4576-8cbf-a0c9031ce02e",
   "metadata": {},
   "outputs": [],
   "source": [
    "gmID_df = pd.read_csv( '/home/rcoldren_linux/Desktop/Data/groupMetadataID_list_updated.csv' )"
   ]
  },
  {
   "cell_type": "code",
   "execution_count": 9,
   "id": "ab36b45a-c009-4a1c-bf1a-57432678facc",
   "metadata": {},
   "outputs": [],
   "source": [
    "gmID_list = gmID_df[ 'groupMetadataID' ].tolist()"
   ]
  },
  {
   "cell_type": "code",
   "execution_count": 10,
   "id": "a0908d49-b8da-455a-ae7a-fbbe20200335",
   "metadata": {},
   "outputs": [],
   "source": [
    "desktop_path = '/home/rcoldren_linux/Desktop'"
   ]
  },
  {
   "cell_type": "code",
   "execution_count": 11,
   "id": "51ccf591-90df-432d-bbca-5873e5615df8",
   "metadata": {},
   "outputs": [],
   "source": [
    "topic = '/apollo/sensor/gnss/best_pose'\n",
    "\n",
    "dir_friendly_topic = topic.replace( '/', '_' )"
   ]
  },
  {
   "cell_type": "code",
   "execution_count": 12,
   "id": "d1d7a6f8-018f-49ee-a57b-5ad3c856ddc8",
   "metadata": {},
   "outputs": [],
   "source": [
    "best_pose_dfs = []\n",
    "\n",
    "for gmID in gmID_list:\n",
    "\n",
    "    csv_name = gmID + dir_friendly_topic\n",
    "\n",
    "    temp_df = pd.read_csv( f'{ desktop_path }/Raw_Data/{ gmID }/{ dir_friendly_topic }/{ csv_name }.csv' )\n",
    "\n",
    "    temp_df = temp_df.sort_values( 'time' )\n",
    "\n",
    "    best_pose_dfs.append( temp_df )"
   ]
  },
  {
   "cell_type": "code",
   "execution_count": 13,
   "id": "ad634196-0753-4357-af8f-b7f5517de262",
   "metadata": {},
   "outputs": [],
   "source": [
    "all_best_pose_df = best_pose_dfs[ 0 ].copy()\n",
    "\n",
    "for df_index in range( 1, len( best_pose_dfs ) ):\n",
    "\n",
    "    cur_df = best_pose_dfs[ df_index ]\n",
    "\n",
    "    all_best_pose_df = pd.concat( [ all_best_pose_df, cur_df ] )"
   ]
  },
  {
   "cell_type": "code",
   "execution_count": 14,
   "id": "5ffa71f6-24dd-45e7-a314-338a865d4ed7",
   "metadata": {},
   "outputs": [],
   "source": [
    "def angular_distance( latitude, longitude ): # angular distance from latitude, longitude = 0 on globe \n",
    "\n",
    "    return np.arccos( np.cos( latitude ) * np.cos( longitude ) )"
   ]
  },
  {
   "cell_type": "code",
   "execution_count": 15,
   "id": "90f2c649-9ae8-4ca7-bcf2-a11633ce6153",
   "metadata": {},
   "outputs": [],
   "source": [
    "modified_all_best_pose_df = all_best_pose_df.copy()"
   ]
  },
  {
   "cell_type": "code",
   "execution_count": 16,
   "id": "41b14a50-14e7-4684-a3a3-6bee0a754160",
   "metadata": {},
   "outputs": [
    {
     "name": "stdout",
     "output_type": "stream",
     "text": [
      "<class 'pandas.core.frame.DataFrame'>\n",
      "Index: 446511 entries, 838 to 780\n",
      "Data columns (total 31 columns):\n",
      " #   Column                  Non-Null Count   Dtype  \n",
      "---  ------                  --------------   -----  \n",
      " 0   topic                   446511 non-null  object \n",
      " 1   gpsGlonassUsedMask      446511 non-null  int64  \n",
      " 2   time                    446511 non-null  int64  \n",
      " 3   longitudeStdDev         446511 non-null  float64\n",
      " 4   undulation              446511 non-null  float64\n",
      " 5   numSatsTracked          446511 non-null  int64  \n",
      " 6   baseStationId           440541 non-null  object \n",
      " 7   latitudeStdDev          446511 non-null  float64\n",
      " 8   differentialAge         446511 non-null  float64\n",
      " 9   solType                 446511 non-null  object \n",
      " 10  galileoBeidouUsedMask   446511 non-null  int64  \n",
      " 11  _id                     446511 non-null  object \n",
      " 12  latitude                446511 non-null  float64\n",
      " 13  numSatsL1               446511 non-null  int64  \n",
      " 14  datumId                 446511 non-null  object \n",
      " 15  msgsize                 446511 non-null  int64  \n",
      " 16  measurementTime         446511 non-null  int64  \n",
      " 17  extendedSolutionStatus  446511 non-null  int64  \n",
      " 18  metadataID              446511 non-null  object \n",
      " 19  heightStdDev            446511 non-null  float64\n",
      " 20  numSatsMulti            446511 non-null  int64  \n",
      " 21  heightMsl               446511 non-null  float64\n",
      " 22  groupMetadataID         446511 non-null  object \n",
      " 23  longitude               446511 non-null  float64\n",
      " 24  solutionAge             446511 non-null  float64\n",
      " 25  solStatus               446511 non-null  object \n",
      " 26  msg_type                0 non-null       float64\n",
      " 27  numSatsInSolution       446511 non-null  int64  \n",
      " 28  header.moduleName       446511 non-null  object \n",
      " 29  header.sequenceNum      446511 non-null  int64  \n",
      " 30  header.timestampSec     446511 non-null  float64\n",
      "dtypes: float64(11), int64(11), object(9)\n",
      "memory usage: 109.0+ MB\n"
     ]
    }
   ],
   "source": [
    "modified_all_best_pose_df.info()"
   ]
  },
  {
   "cell_type": "code",
   "execution_count": 17,
   "id": "4bace626-d161-4a5c-bbb6-1b054b80eedb",
   "metadata": {},
   "outputs": [],
   "source": [
    "modified_all_best_pose_df = modified_all_best_pose_df[ [ 'latitudeStdDev', 'longitudeStdDev', 'numSatsTracked', \n",
    "                                                        'numSatsL1', 'numSatsMulti', 'numSatsInSolution' ] ]"
   ]
  },
  {
   "cell_type": "code",
   "execution_count": 18,
   "id": "7705359b-82eb-4506-931e-3eb48a577e64",
   "metadata": {},
   "outputs": [
    {
     "name": "stdout",
     "output_type": "stream",
     "text": [
      "<class 'pandas.core.frame.DataFrame'>\n",
      "Index: 446511 entries, 838 to 780\n",
      "Data columns (total 6 columns):\n",
      " #   Column             Non-Null Count   Dtype  \n",
      "---  ------             --------------   -----  \n",
      " 0   latitudeStdDev     446511 non-null  float64\n",
      " 1   longitudeStdDev    446511 non-null  float64\n",
      " 2   numSatsTracked     446511 non-null  int64  \n",
      " 3   numSatsL1          446511 non-null  int64  \n",
      " 4   numSatsMulti       446511 non-null  int64  \n",
      " 5   numSatsInSolution  446511 non-null  int64  \n",
      "dtypes: float64(2), int64(4)\n",
      "memory usage: 23.8 MB\n"
     ]
    }
   ],
   "source": [
    "modified_all_best_pose_df.info()"
   ]
  },
  {
   "cell_type": "code",
   "execution_count": 19,
   "id": "59808f5b-9bf2-443b-8ce9-04f0838ea250",
   "metadata": {},
   "outputs": [],
   "source": [
    "latitudeStdDev_list = modified_all_best_pose_df[ 'latitudeStdDev' ].tolist()\n",
    "\n",
    "longitudeStdDev_list = modified_all_best_pose_df[ 'longitudeStdDev' ].tolist()"
   ]
  },
  {
   "cell_type": "code",
   "execution_count": 104,
   "id": "46960434-26d4-4dd9-b401-4876dcc70ec2",
   "metadata": {},
   "outputs": [],
   "source": [
    "LatLonStdDev_AngDist_list = []\n",
    "for latitudeStdDev, longitudeStdDev in zip( latitudeStdDev_list, longitudeStdDev_list ):\n",
    "\n",
    "    latitudeStdDev = float( latitudeStdDev ) * np.pi / 180\n",
    "\n",
    "    longitudeStdDev = float( longitudeStdDev ) * np.pi / 180\n",
    "\n",
    "    latlon_stddev_angdist = angular_distance( latitudeStdDev, longitudeStdDev )\n",
    "\n",
    "    latlon_stddev_angdist = Decimal( latlon_stddev_angdist * 180 / np.pi )\n",
    "\n",
    "    LatLonStdDev_AngDist_list.append( latlon_stddev_angdist )"
   ]
  },
  {
   "cell_type": "code",
   "execution_count": 105,
   "id": "4bac388c-6856-4383-afb6-6ac9b837f6d0",
   "metadata": {},
   "outputs": [],
   "source": [
    "modified_all_best_pose_df[ 'LatLonStdDev_AngDist' ] = LatLonStdDev_AngDist_list"
   ]
  },
  {
   "cell_type": "code",
   "execution_count": 106,
   "id": "436786ba-fa5a-44eb-a825-5590176ad2cf",
   "metadata": {},
   "outputs": [
    {
     "name": "stdout",
     "output_type": "stream",
     "text": [
      "<class 'pandas.core.frame.DataFrame'>\n",
      "Index: 446511 entries, 838 to 780\n",
      "Data columns (total 7 columns):\n",
      " #   Column                Non-Null Count   Dtype  \n",
      "---  ------                --------------   -----  \n",
      " 0   latitudeStdDev        446511 non-null  float64\n",
      " 1   longitudeStdDev       446511 non-null  float64\n",
      " 2   numSatsTracked        446511 non-null  int64  \n",
      " 3   numSatsL1             446511 non-null  int64  \n",
      " 4   numSatsMulti          446511 non-null  int64  \n",
      " 5   numSatsInSolution     446511 non-null  int64  \n",
      " 6   LatLonStdDev_AngDist  446511 non-null  object \n",
      "dtypes: float64(2), int64(4), object(1)\n",
      "memory usage: 27.3+ MB\n"
     ]
    }
   ],
   "source": [
    "modified_all_best_pose_df.info()"
   ]
  },
  {
   "cell_type": "code",
   "execution_count": 107,
   "id": "3232630f-caf5-4115-a96a-1856920f48ec",
   "metadata": {},
   "outputs": [],
   "source": [
    "modified_all_best_pose_df[ 'LatLonStdDev_AngDist' ] = pd.to_numeric( modified_all_best_pose_df[ 'LatLonStdDev_AngDist' ] )"
   ]
  },
  {
   "cell_type": "code",
   "execution_count": 108,
   "id": "30a1dcd0-5b92-48ee-a17c-cd00ec6b0a52",
   "metadata": {},
   "outputs": [
    {
     "name": "stdout",
     "output_type": "stream",
     "text": [
      "<class 'pandas.core.frame.DataFrame'>\n",
      "Index: 446511 entries, 838 to 780\n",
      "Data columns (total 7 columns):\n",
      " #   Column                Non-Null Count   Dtype  \n",
      "---  ------                --------------   -----  \n",
      " 0   latitudeStdDev        446511 non-null  float64\n",
      " 1   longitudeStdDev       446511 non-null  float64\n",
      " 2   numSatsTracked        446511 non-null  int64  \n",
      " 3   numSatsL1             446511 non-null  int64  \n",
      " 4   numSatsMulti          446511 non-null  int64  \n",
      " 5   numSatsInSolution     446511 non-null  int64  \n",
      " 6   LatLonStdDev_AngDist  446511 non-null  float64\n",
      "dtypes: float64(3), int64(4)\n",
      "memory usage: 27.3 MB\n"
     ]
    }
   ],
   "source": [
    "modified_all_best_pose_df.info()"
   ]
  },
  {
   "cell_type": "code",
   "execution_count": 109,
   "id": "cdbc4ccb-f8fb-42ac-8d55-cccb64a367ad",
   "metadata": {},
   "outputs": [],
   "source": [
    "group_by_numsat = modified_all_best_pose_df.groupby( 'numSatsInSolution' )"
   ]
  },
  {
   "cell_type": "code",
   "execution_count": 110,
   "id": "d7a40b25-11e4-4fc3-8934-f2e3d17ab6a5",
   "metadata": {},
   "outputs": [
    {
     "data": {
      "text/html": [
       "<div>\n",
       "<style scoped>\n",
       "    .dataframe tbody tr th:only-of-type {\n",
       "        vertical-align: middle;\n",
       "    }\n",
       "\n",
       "    .dataframe tbody tr th {\n",
       "        vertical-align: top;\n",
       "    }\n",
       "\n",
       "    .dataframe thead tr th {\n",
       "        text-align: left;\n",
       "    }\n",
       "\n",
       "    .dataframe thead tr:last-of-type th {\n",
       "        text-align: right;\n",
       "    }\n",
       "</style>\n",
       "<table border=\"1\" class=\"dataframe\">\n",
       "  <thead>\n",
       "    <tr>\n",
       "      <th></th>\n",
       "      <th colspan=\"3\" halign=\"left\">LatLonStdDev_AngDist</th>\n",
       "    </tr>\n",
       "    <tr>\n",
       "      <th></th>\n",
       "      <th>mean</th>\n",
       "      <th>max</th>\n",
       "      <th>count</th>\n",
       "    </tr>\n",
       "    <tr>\n",
       "      <th>numSatsInSolution</th>\n",
       "      <th></th>\n",
       "      <th></th>\n",
       "      <th></th>\n",
       "    </tr>\n",
       "  </thead>\n",
       "  <tbody>\n",
       "    <tr>\n",
       "      <th>0</th>\n",
       "      <td>6.467593</td>\n",
       "      <td>136.901182</td>\n",
       "      <td>2224</td>\n",
       "    </tr>\n",
       "    <tr>\n",
       "      <th>4</th>\n",
       "      <td>1.768778</td>\n",
       "      <td>130.973500</td>\n",
       "      <td>471</td>\n",
       "    </tr>\n",
       "    <tr>\n",
       "      <th>5</th>\n",
       "      <td>3.750061</td>\n",
       "      <td>151.093077</td>\n",
       "      <td>3303</td>\n",
       "    </tr>\n",
       "    <tr>\n",
       "      <th>6</th>\n",
       "      <td>2.083427</td>\n",
       "      <td>114.414119</td>\n",
       "      <td>6696</td>\n",
       "    </tr>\n",
       "    <tr>\n",
       "      <th>7</th>\n",
       "      <td>0.974964</td>\n",
       "      <td>43.318164</td>\n",
       "      <td>16258</td>\n",
       "    </tr>\n",
       "    <tr>\n",
       "      <th>8</th>\n",
       "      <td>0.712569</td>\n",
       "      <td>49.646634</td>\n",
       "      <td>19313</td>\n",
       "    </tr>\n",
       "    <tr>\n",
       "      <th>9</th>\n",
       "      <td>0.523927</td>\n",
       "      <td>31.648139</td>\n",
       "      <td>24431</td>\n",
       "    </tr>\n",
       "    <tr>\n",
       "      <th>10</th>\n",
       "      <td>0.379797</td>\n",
       "      <td>28.527354</td>\n",
       "      <td>30551</td>\n",
       "    </tr>\n",
       "    <tr>\n",
       "      <th>11</th>\n",
       "      <td>0.273993</td>\n",
       "      <td>11.060705</td>\n",
       "      <td>36554</td>\n",
       "    </tr>\n",
       "    <tr>\n",
       "      <th>12</th>\n",
       "      <td>0.152330</td>\n",
       "      <td>26.610630</td>\n",
       "      <td>41303</td>\n",
       "    </tr>\n",
       "    <tr>\n",
       "      <th>13</th>\n",
       "      <td>0.085433</td>\n",
       "      <td>14.091669</td>\n",
       "      <td>43035</td>\n",
       "    </tr>\n",
       "    <tr>\n",
       "      <th>14</th>\n",
       "      <td>0.058326</td>\n",
       "      <td>15.731258</td>\n",
       "      <td>37825</td>\n",
       "    </tr>\n",
       "    <tr>\n",
       "      <th>15</th>\n",
       "      <td>0.046149</td>\n",
       "      <td>10.531823</td>\n",
       "      <td>28687</td>\n",
       "    </tr>\n",
       "    <tr>\n",
       "      <th>16</th>\n",
       "      <td>0.040540</td>\n",
       "      <td>5.616363</td>\n",
       "      <td>21275</td>\n",
       "    </tr>\n",
       "    <tr>\n",
       "      <th>17</th>\n",
       "      <td>0.034807</td>\n",
       "      <td>6.193135</td>\n",
       "      <td>15043</td>\n",
       "    </tr>\n",
       "    <tr>\n",
       "      <th>18</th>\n",
       "      <td>0.033758</td>\n",
       "      <td>2.679081</td>\n",
       "      <td>9376</td>\n",
       "    </tr>\n",
       "    <tr>\n",
       "      <th>19</th>\n",
       "      <td>0.042903</td>\n",
       "      <td>2.563950</td>\n",
       "      <td>6053</td>\n",
       "    </tr>\n",
       "    <tr>\n",
       "      <th>20</th>\n",
       "      <td>0.038932</td>\n",
       "      <td>2.030469</td>\n",
       "      <td>6400</td>\n",
       "    </tr>\n",
       "    <tr>\n",
       "      <th>21</th>\n",
       "      <td>0.030610</td>\n",
       "      <td>1.047931</td>\n",
       "      <td>6862</td>\n",
       "    </tr>\n",
       "    <tr>\n",
       "      <th>22</th>\n",
       "      <td>0.029232</td>\n",
       "      <td>7.591308</td>\n",
       "      <td>7382</td>\n",
       "    </tr>\n",
       "    <tr>\n",
       "      <th>23</th>\n",
       "      <td>0.026568</td>\n",
       "      <td>3.297045</td>\n",
       "      <td>8063</td>\n",
       "    </tr>\n",
       "    <tr>\n",
       "      <th>24</th>\n",
       "      <td>0.023897</td>\n",
       "      <td>1.281480</td>\n",
       "      <td>9109</td>\n",
       "    </tr>\n",
       "    <tr>\n",
       "      <th>25</th>\n",
       "      <td>0.022633</td>\n",
       "      <td>0.747598</td>\n",
       "      <td>9440</td>\n",
       "    </tr>\n",
       "    <tr>\n",
       "      <th>26</th>\n",
       "      <td>0.021894</td>\n",
       "      <td>1.636728</td>\n",
       "      <td>9579</td>\n",
       "    </tr>\n",
       "    <tr>\n",
       "      <th>27</th>\n",
       "      <td>0.021010</td>\n",
       "      <td>0.778847</td>\n",
       "      <td>9301</td>\n",
       "    </tr>\n",
       "    <tr>\n",
       "      <th>28</th>\n",
       "      <td>0.019548</td>\n",
       "      <td>0.420057</td>\n",
       "      <td>8841</td>\n",
       "    </tr>\n",
       "    <tr>\n",
       "      <th>29</th>\n",
       "      <td>0.018550</td>\n",
       "      <td>0.419500</td>\n",
       "      <td>8487</td>\n",
       "    </tr>\n",
       "    <tr>\n",
       "      <th>30</th>\n",
       "      <td>0.017779</td>\n",
       "      <td>0.419622</td>\n",
       "      <td>6816</td>\n",
       "    </tr>\n",
       "    <tr>\n",
       "      <th>31</th>\n",
       "      <td>0.016866</td>\n",
       "      <td>0.652949</td>\n",
       "      <td>5492</td>\n",
       "    </tr>\n",
       "    <tr>\n",
       "      <th>32</th>\n",
       "      <td>0.015624</td>\n",
       "      <td>0.259275</td>\n",
       "      <td>4176</td>\n",
       "    </tr>\n",
       "    <tr>\n",
       "      <th>33</th>\n",
       "      <td>0.016510</td>\n",
       "      <td>0.259423</td>\n",
       "      <td>2412</td>\n",
       "    </tr>\n",
       "    <tr>\n",
       "      <th>34</th>\n",
       "      <td>0.022211</td>\n",
       "      <td>0.652987</td>\n",
       "      <td>1102</td>\n",
       "    </tr>\n",
       "    <tr>\n",
       "      <th>35</th>\n",
       "      <td>0.016352</td>\n",
       "      <td>0.034262</td>\n",
       "      <td>449</td>\n",
       "    </tr>\n",
       "    <tr>\n",
       "      <th>36</th>\n",
       "      <td>0.017204</td>\n",
       "      <td>0.024945</td>\n",
       "      <td>165</td>\n",
       "    </tr>\n",
       "    <tr>\n",
       "      <th>37</th>\n",
       "      <td>0.016555</td>\n",
       "      <td>0.021931</td>\n",
       "      <td>32</td>\n",
       "    </tr>\n",
       "    <tr>\n",
       "      <th>38</th>\n",
       "      <td>0.021591</td>\n",
       "      <td>0.022039</td>\n",
       "      <td>5</td>\n",
       "    </tr>\n",
       "  </tbody>\n",
       "</table>\n",
       "</div>"
      ],
      "text/plain": [
       "                  LatLonStdDev_AngDist                   \n",
       "                                  mean         max  count\n",
       "numSatsInSolution                                        \n",
       "0                             6.467593  136.901182   2224\n",
       "4                             1.768778  130.973500    471\n",
       "5                             3.750061  151.093077   3303\n",
       "6                             2.083427  114.414119   6696\n",
       "7                             0.974964   43.318164  16258\n",
       "8                             0.712569   49.646634  19313\n",
       "9                             0.523927   31.648139  24431\n",
       "10                            0.379797   28.527354  30551\n",
       "11                            0.273993   11.060705  36554\n",
       "12                            0.152330   26.610630  41303\n",
       "13                            0.085433   14.091669  43035\n",
       "14                            0.058326   15.731258  37825\n",
       "15                            0.046149   10.531823  28687\n",
       "16                            0.040540    5.616363  21275\n",
       "17                            0.034807    6.193135  15043\n",
       "18                            0.033758    2.679081   9376\n",
       "19                            0.042903    2.563950   6053\n",
       "20                            0.038932    2.030469   6400\n",
       "21                            0.030610    1.047931   6862\n",
       "22                            0.029232    7.591308   7382\n",
       "23                            0.026568    3.297045   8063\n",
       "24                            0.023897    1.281480   9109\n",
       "25                            0.022633    0.747598   9440\n",
       "26                            0.021894    1.636728   9579\n",
       "27                            0.021010    0.778847   9301\n",
       "28                            0.019548    0.420057   8841\n",
       "29                            0.018550    0.419500   8487\n",
       "30                            0.017779    0.419622   6816\n",
       "31                            0.016866    0.652949   5492\n",
       "32                            0.015624    0.259275   4176\n",
       "33                            0.016510    0.259423   2412\n",
       "34                            0.022211    0.652987   1102\n",
       "35                            0.016352    0.034262    449\n",
       "36                            0.017204    0.024945    165\n",
       "37                            0.016555    0.021931     32\n",
       "38                            0.021591    0.022039      5"
      ]
     },
     "execution_count": 110,
     "metadata": {},
     "output_type": "execute_result"
    }
   ],
   "source": [
    "group_by_numsat.agg( { 'LatLonStdDev_AngDist': [ 'mean', 'max', 'count' ] } )"
   ]
  },
  {
   "cell_type": "code",
   "execution_count": 119,
   "id": "66a7a724-a8a6-4819-a84a-08cd5bd65b4b",
   "metadata": {},
   "outputs": [],
   "source": [
    "group_by_numsat_latlontddev_mean_df = group_by_numsat.agg( { 'LatLonStdDev_AngDist': [ 'mean' ] } )\n",
    "\n",
    "group_by_numsat_latlontddev_mean_df.reset_index( inplace = True )"
   ]
  },
  {
   "cell_type": "code",
   "execution_count": 120,
   "id": "0f2c69ce-dd55-49b9-9f15-d53643af4350",
   "metadata": {},
   "outputs": [
    {
     "name": "stdout",
     "output_type": "stream",
     "text": [
      "<class 'pandas.core.frame.DataFrame'>\n",
      "RangeIndex: 36 entries, 0 to 35\n",
      "Data columns (total 2 columns):\n",
      " #   Column                        Non-Null Count  Dtype  \n",
      "---  ------                        --------------  -----  \n",
      " 0   (numSatsInSolution, )         36 non-null     int64  \n",
      " 1   (LatLonStdDev_AngDist, mean)  36 non-null     float64\n",
      "dtypes: float64(1), int64(1)\n",
      "memory usage: 704.0 bytes\n"
     ]
    }
   ],
   "source": [
    "group_by_numsat_latlontddev_mean_df.info()"
   ]
  },
  {
   "cell_type": "code",
   "execution_count": 130,
   "id": "27d5f84b-a21c-49e0-8dc3-87bd5f7bdddd",
   "metadata": {},
   "outputs": [],
   "source": [
    "num_sat_list = group_by_numsat_latlontddev_mean_df[ 'numSatsInSolution' ].tolist()\n",
    "\n",
    "mean_std_dev_list = group_by_numsat_latlontddev_mean_df[ 'LatLonStdDev_AngDist', 'mean' ].tolist()"
   ]
  },
  {
   "cell_type": "code",
   "execution_count": 131,
   "id": "92d5a672-f7cc-4cbb-abce-d29deebf5b15",
   "metadata": {},
   "outputs": [
    {
     "data": {
      "image/png": "[encoded data removed]",
      "text/plain": [
       "<Figure size 640x480 with 1 Axes>"
      ]
     },
     "metadata": {},
     "output_type": "display_data"
    }
   ],
   "source": [
    "plt.plot( num_sat_list, mean_std_dev_list, marker = '.', ls = '', ms = 7 )\n",
    "\n",
    "plt.xlabel( '# of Satellites in Solution' )\n",
    "\n",
    "plt.ylabel( 'Average $\\sigma$ of Lat/Lon Location (Degrees?)' )\n",
    "\n",
    "plt.title( 'Average $\\sigma$ of Lat/Lon Location v. # of Satellites' )\n",
    "\n",
    "plt.show()"
   ]
  },
  {
   "cell_type": "code",
   "execution_count": 132,
   "id": "db757bf2-9a62-42a0-9515-fa77b5fbe2c9",
   "metadata": {},
   "outputs": [],
   "source": [
    "num_sat_list = modified_all_best_pose_df[ 'numSatsInSolution' ].tolist()\n",
    "\n",
    "std_dev_list = modified_all_best_pose_df[ 'LatLonStdDev_AngDist' ].tolist()"
   ]
  },
  {
   "cell_type": "code",
   "execution_count": 133,
   "id": "186d475a-b241-4091-ba27-3232a500a78d",
   "metadata": {},
   "outputs": [
    {
     "data": {
      "image/png": "[encoded data removed]",
      "text/plain": [
       "<Figure size 640x480 with 1 Axes>"
      ]
     },
     "metadata": {},
     "output_type": "display_data"
    }
   ],
   "source": [
    "plt.plot( num_sat_list, std_dev_list, marker = '.', ls = '', ms = '2', alpha = 1 / 5 )\n",
    "\n",
    "plt.xlabel( '# of Satellites in Solution' )\n",
    "\n",
    "plt.ylabel( '$\\sigma$ of Lat/Lon Location (Degrees?)' )\n",
    "\n",
    "plt.title( '$\\sigma$ of Lat/Lon Location v. # of Satellites' )\n",
    "\n",
    "plt.show()"
   ]
  },
  {
   "cell_type": "code",
   "execution_count": 125,
   "id": "8e3f1a96-4356-4b50-8651-b04664004fdf",
   "metadata": {},
   "outputs": [
    {
     "name": "stderr",
     "output_type": "stream",
     "text": [
      "PandasGUI INFO — pandasgui.gui — Opening PandasGUI\n",
      "/tmp/ipykernel_218316/2049524788.py:1: FutureWarning:\n",
      "\n",
      "Series.__getitem__ treating keys as positions is deprecated. In a future version, integer keys will always be treated as labels (consistent with DataFrame behavior). To access a value by position, use `ser.iloc[pos]`\n",
      "\n",
      "/tmp/ipykernel_218316/2049524788.py:1: FutureWarning:\n",
      "\n",
      "Series.__getitem__ treating keys as positions is deprecated. In a future version, integer keys will always be treated as labels (consistent with DataFrame behavior). To access a value by position, use `ser.iloc[pos]`\n",
      "\n",
      "/tmp/ipykernel_218316/2049524788.py:1: FutureWarning:\n",
      "\n",
      "Series.__getitem__ treating keys as positions is deprecated. In a future version, integer keys will always be treated as labels (consistent with DataFrame behavior). To access a value by position, use `ser.iloc[pos]`\n",
      "\n",
      "/tmp/ipykernel_218316/2049524788.py:1: FutureWarning:\n",
      "\n",
      "Series.__getitem__ treating keys as positions is deprecated. In a future version, integer keys will always be treated as labels (consistent with DataFrame behavior). To access a value by position, use `ser.iloc[pos]`\n",
      "\n",
      "/tmp/ipykernel_218316/2049524788.py:1: FutureWarning:\n",
      "\n",
      "Series.__getitem__ treating keys as positions is deprecated. In a future version, integer keys will always be treated as labels (consistent with DataFrame behavior). To access a value by position, use `ser.iloc[pos]`\n",
      "\n",
      "/tmp/ipykernel_218316/2049524788.py:1: FutureWarning:\n",
      "\n",
      "Series.__getitem__ treating keys as positions is deprecated. In a future version, integer keys will always be treated as labels (consistent with DataFrame behavior). To access a value by position, use `ser.iloc[pos]`\n",
      "\n"
     ]
    },
    {
     "data": {
      "text/plain": [
       "<pandasgui.gui.PandasGui at 0x72a21b7e9d80>"
      ]
     },
     "execution_count": 125,
     "metadata": {},
     "output_type": "execute_result"
    }
   ],
   "source": [
    "show( modified_all_best_pose_df )"
   ]
  },
  {
   "cell_type": "code",
   "execution_count": 126,
   "id": "9bdd4191-a75f-4916-a203-d5fc03a5f51f",
   "metadata": {},
   "outputs": [
    {
     "name": "stderr",
     "output_type": "stream",
     "text": [
      "PandasGUI INFO — pandasgui.gui — Opening PandasGUI\n",
      "/tmp/ipykernel_218316/2072314706.py:1: FutureWarning:\n",
      "\n",
      "Series.__getitem__ treating keys as positions is deprecated. In a future version, integer keys will always be treated as labels (consistent with DataFrame behavior). To access a value by position, use `ser.iloc[pos]`\n",
      "\n",
      "/tmp/ipykernel_218316/2072314706.py:1: FutureWarning:\n",
      "\n",
      "Series.__getitem__ treating keys as positions is deprecated. In a future version, integer keys will always be treated as labels (consistent with DataFrame behavior). To access a value by position, use `ser.iloc[pos]`\n",
      "\n",
      "/tmp/ipykernel_218316/2072314706.py:1: FutureWarning:\n",
      "\n",
      "Series.__getitem__ treating keys as positions is deprecated. In a future version, integer keys will always be treated as labels (consistent with DataFrame behavior). To access a value by position, use `ser.iloc[pos]`\n",
      "\n",
      "/tmp/ipykernel_218316/2072314706.py:1: FutureWarning:\n",
      "\n",
      "Series.__getitem__ treating keys as positions is deprecated. In a future version, integer keys will always be treated as labels (consistent with DataFrame behavior). To access a value by position, use `ser.iloc[pos]`\n",
      "\n",
      "/tmp/ipykernel_218316/2072314706.py:1: FutureWarning:\n",
      "\n",
      "Series.__getitem__ treating keys as positions is deprecated. In a future version, integer keys will always be treated as labels (consistent with DataFrame behavior). To access a value by position, use `ser.iloc[pos]`\n",
      "\n",
      "/tmp/ipykernel_218316/2072314706.py:1: FutureWarning:\n",
      "\n",
      "Series.__getitem__ treating keys as positions is deprecated. In a future version, integer keys will always be treated as labels (consistent with DataFrame behavior). To access a value by position, use `ser.iloc[pos]`\n",
      "\n"
     ]
    },
    {
     "data": {
      "text/plain": [
       "<pandasgui.gui.PandasGui at 0x72a21c3c9a20>"
      ]
     },
     "execution_count": 126,
     "metadata": {},
     "output_type": "execute_result"
    }
   ],
   "source": [
    "show( all_best_pose_df )"
   ]
  },
  {
   "cell_type": "code",
   "execution_count": null,
   "id": "47e4a562-cb87-4c65-b670-09f526ba87c0",
   "metadata": {},
   "outputs": [],
   "source": []
  }
 ],
 "metadata": {
  "kernelspec": {
   "display_name": "Python 3 (ipykernel)",
   "language": "python",
   "name": "python3"
  },
  "language_info": {
   "codemirror_mode": {
    "name": "ipython",
    "version": 3
   },
   "file_extension": ".py",
   "mimetype": "text/x-python",
   "name": "python",
   "nbconvert_exporter": "python",
   "pygments_lexer": "ipython3",
   "version": "3.10.12"
  }
 },
 "nbformat": 4,
 "nbformat_minor": 5
}

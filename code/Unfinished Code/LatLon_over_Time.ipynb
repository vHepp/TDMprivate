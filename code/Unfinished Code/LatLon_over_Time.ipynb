{
 "cells": [
  {
   "cell_type": "code",
   "execution_count": 2,
   "id": "e0b74b8d-4982-493e-b146-ea76364f9ca3",
   "metadata": {},
   "outputs": [],
   "source": [
    "import numpy as np\n",
    "\n",
    "import pandas as pd\n",
    "\n",
    "import matplotlib.pyplot as plt\n",
    "\n",
    "import CalculatedFieldSubroutines as cfs\n",
    "\n",
    "from pandasgui import show\n",
    "\n",
    "import os\n",
    "\n",
    "import warnings"
   ]
  },
  {
   "cell_type": "code",
   "execution_count": 3,
   "id": "7f9f7f24-11aa-4a84-8421-bd42360078e6",
   "metadata": {},
   "outputs": [],
   "source": [
    "warnings.filterwarnings( 'ignore' )"
   ]
  },
  {
   "cell_type": "code",
   "execution_count": 4,
   "id": "c1f8adc1-bc63-4e9a-800f-7b83fb364bff",
   "metadata": {},
   "outputs": [],
   "source": [
    "def origin_dir():\n",
    "\n",
    "    home_dir_list = os.listdir( '/home' )\n",
    "\n",
    "    for dir in home_dir_list:\n",
    "\n",
    "        if '_linux' in dir:\n",
    "\n",
    "            path = f'/home/{dir}/Desktop/TDMprivate'\n",
    "\n",
    "            if not os.path.exists( path ):\n",
    "\n",
    "                raise Exception( 'TDMprivate folder does not exist. TDMprivate folder must exist on Desktop. Notify Ryan or ' +\n",
    "                                 'Vincent if this message appears.' )\n",
    "\n",
    "            else:\n",
    "\n",
    "                return path"
   ]
  },
  {
   "cell_type": "code",
   "execution_count": 8,
   "id": "3c5753f4-59b4-4952-914b-663370a7481a",
   "metadata": {},
   "outputs": [],
   "source": [
    "metadata_df = pd.read_csv( f'{ origin_dir() }/metadata/metadata.csv' )"
   ]
  },
  {
   "cell_type": "code",
   "execution_count": 9,
   "id": "61ed8f25-dd26-4691-b518-94584ed50142",
   "metadata": {},
   "outputs": [],
   "source": [
    "red_route_gmID_list  = metadata_df[ metadata_df[ 'Route' ] == 'Red' ][ 'groupMetadataID' ].tolist()\n",
    "\n",
    "green_route_gmID_list  = metadata_df[ metadata_df[ 'Route' ] == 'Green' ][ 'groupMetadataID' ].tolist() \n",
    "\n",
    "blue_route_gmID_list  = metadata_df[ metadata_df[ 'Route' ] == 'Blue' ][ 'groupMetadataID' ].tolist() "
   ]
  },
  {
   "cell_type": "code",
   "execution_count": 12,
   "id": "a97da607-8a63-4ca3-97ff-53a357787e22",
   "metadata": {},
   "outputs": [],
   "source": [
    "best_pose_file_string = '_apollo_sensor_gnss_best_pose'\n",
    "\n",
    "#\n",
    "\n",
    "red_route_best_pose_df_list = []\n",
    "\n",
    "for gmID in red_route_gmID_list:\n",
    "\n",
    "    current_gmID_best_pose_df = pd.read_csv( f'{ origin_dir() }/data/{ gmID }/{ best_pose_file_string }/{ gmID + best_pose_file_string }.csv' )\n",
    "\n",
    "    current_gmID_best_pose_df = current_gmID_best_pose_df.sort_values( 'time' )\n",
    "\n",
    "    red_route_best_pose_df_list.append( current_gmID_best_pose_df )\n",
    "\n",
    "green_route_best_pose_df_list = []\n",
    "\n",
    "for gmID in green_route_gmID_list:\n",
    "\n",
    "    current_gmID_best_pose_df = pd.read_csv( f'{ origin_dir() }/data/{ gmID }/{ best_pose_file_string }/{ gmID + best_pose_file_string }.csv' )\n",
    "\n",
    "    current_gmID_best_pose_df = current_gmID_best_pose_df.sort_values( 'time' )\n",
    "\n",
    "    green_route_best_pose_df_list.append( current_gmID_best_pose_df )\n",
    "\n",
    "blue_route_best_pose_df_list = []\n",
    "\n",
    "for gmID in blue_route_gmID_list:\n",
    "\n",
    "    current_gmID_best_pose_df = pd.read_csv( f'{ origin_dir() }/data/{ gmID }/{ best_pose_file_string }/{ gmID + best_pose_file_string }.csv' )\n",
    "\n",
    "    current_gmID_best_pose_df = current_gmID_best_pose_df.sort_values( 'time' )\n",
    "\n",
    "    blue_route_best_pose_df_list.append( current_gmID_best_pose_df )"
   ]
  },
  {
   "cell_type": "code",
   "execution_count": 13,
   "id": "1d2bc2e6-4b29-4d01-809e-0b16f9ef1a7f",
   "metadata": {},
   "outputs": [
    {
     "name": "stdout",
     "output_type": "stream",
     "text": [
      "<class 'pandas.core.frame.DataFrame'>\n",
      "RangeIndex: 1658 entries, 0 to 1657\n",
      "Data columns (total 7 columns):\n",
      " #   Column             Non-Null Count  Dtype  \n",
      "---  ------             --------------  -----  \n",
      " 0   groupMetadataID    1658 non-null   object \n",
      " 1   latitudeStdDev     1658 non-null   float64\n",
      " 2   longitude          1658 non-null   float64\n",
      " 3   time               1658 non-null   int64  \n",
      " 4   latitude           1658 non-null   float64\n",
      " 5   longitudeStdDev    1658 non-null   float64\n",
      " 6   numSatsInSolution  1658 non-null   int64  \n",
      "dtypes: float64(4), int64(2), object(1)\n",
      "memory usage: 90.8+ KB\n"
     ]
    }
   ],
   "source": [
    "red_route_best_pose_df_list[ 0 ].info()"
   ]
  },
  {
   "cell_type": "code",
   "execution_count": 18,
   "id": "5c8da59b-5e74-41fe-bf84-3bf52025eaf8",
   "metadata": {},
   "outputs": [
    {
     "data": {
      "image/png": "[encoded data removed]",
      "text/plain": [
       "<Figure size 640x480 with 1 Axes>"
      ]
     },
     "metadata": {},
     "output_type": "display_data"
    }
   ],
   "source": [
    "start_latitude_array = []\n",
    "\n",
    "start_longitude_array = []\n",
    "\n",
    "for df in blue_route_best_pose_df_list:\n",
    "\n",
    "    latitude_array = np.array( df[ 'latitude' ] )\n",
    "\n",
    "    longitude_array = np.array( df[ 'longitude' ] )\n",
    "\n",
    "    start_latitude_array.append( latitude_array[ 0 ] )\n",
    "\n",
    "    start_longitude_array.append( longitude_array[ 0 ] )\n",
    "\n",
    "    plt.plot( latitude_array, longitude_array, color = 'blue', marker = '.' )\n",
    "\n",
    "plt.plot( start_latitude_array, start_longitude_array, color = 'orange', marker = 'o', ls = '' )\n",
    "\n",
    "plt.show()"
   ]
  },
  {
   "cell_type": "code",
   "execution_count": null,
   "id": "cb4cc151-5d94-454f-a92d-4c9f5df78b97",
   "metadata": {},
   "outputs": [],
   "source": []
  }
 ],
 "metadata": {
  "kernelspec": {
   "display_name": "Python 3 (ipykernel)",
   "language": "python",
   "name": "python3"
  },
  "language_info": {
   "codemirror_mode": {
    "name": "ipython",
    "version": 3
   },
   "file_extension": ".py",
   "mimetype": "text/x-python",
   "name": "python",
   "nbconvert_exporter": "python",
   "pygments_lexer": "ipython3",
   "version": "3.10.12"
  }
 },
 "nbformat": 4,
 "nbformat_minor": 5
}

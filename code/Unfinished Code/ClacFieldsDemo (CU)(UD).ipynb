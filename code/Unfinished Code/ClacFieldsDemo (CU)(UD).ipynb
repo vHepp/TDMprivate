{
 "cells": [
  {
   "cell_type": "code",
   "execution_count": 1,
   "id": "e7a87a65-46d1-4e2e-9106-10e31bec7e9f",
   "metadata": {},
   "outputs": [],
   "source": [
    "import numpy as np\n",
    "\n",
    "import pandas as pd\n",
    "\n",
    "import CalculatedFieldSubroutines as cfs\n",
    "\n",
    "from pandasgui import show\n",
    "\n",
    "import warnings"
   ]
  },
  {
   "cell_type": "code",
   "execution_count": 2,
   "id": "fb20d3e4-e739-445b-834b-aafb8324a1dd",
   "metadata": {},
   "outputs": [],
   "source": [
    "warnings.filterwarnings( 'ignore' )"
   ]
  },
  {
   "cell_type": "code",
   "execution_count": 3,
   "id": "70460082-90fd-4b24-b8ac-9a8492421be2",
   "metadata": {},
   "outputs": [],
   "source": [
    "demo_chassis_df = pd.read_csv( '/home/rcoldren_linux/Desktop/Raw_Data/06cbdbc0-db4d-11ee-a158-97f8443fd730/' +\n",
    "                               '_apollo_canbus_chassis/06cbdbc0-db4d-11ee-a158-97f8443fd730_apollo_canbus_chassis.csv' )\n",
    "\n",
    "demo_best_pose_df = pd.read_csv( '/home/rcoldren_linux/Desktop/Raw_Data/06cbdbc0-db4d-11ee-a158-97f8443fd730/' +\n",
    "                                 '_apollo_sensor_gnss_best_pose/' +\n",
    "                                 '06cbdbc0-db4d-11ee-a158-97f8443fd730_apollo_sensor_gnss_best_pose.csv' )"
   ]
  },
  {
   "cell_type": "code",
   "execution_count": 4,
   "id": "6f19d6b8-af8f-4423-b52a-896f7e6ec63c",
   "metadata": {},
   "outputs": [
    {
     "name": "stdout",
     "output_type": "stream",
     "text": [
      "<class 'pandas.core.frame.DataFrame'>\n",
      "RangeIndex: 53207 entries, 0 to 53206\n",
      "Data columns (total 31 columns):\n",
      " #   Column                        Non-Null Count  Dtype  \n",
      "---  ------                        --------------  -----  \n",
      " 0   yawRate                       53207 non-null  int64  \n",
      " 1   drivingMode                   53207 non-null  object \n",
      " 2   topic                         53207 non-null  object \n",
      " 3   msgsize                       53207 non-null  int64  \n",
      " 4   time                          53207 non-null  int64  \n",
      " 5   gearLocation                  53207 non-null  object \n",
      " 6   metadataID                    53207 non-null  object \n",
      " 7   throttlePercentage            53207 non-null  float64\n",
      " 8   steeringPercentage            53207 non-null  float64\n",
      " 9   brakePercentage               53207 non-null  float64\n",
      " 10  groupMetadataID               53207 non-null  object \n",
      " 11  errorCode                     53207 non-null  object \n",
      " 12  steeringRate                  53207 non-null  int64  \n",
      " 13  speedMps                      53207 non-null  float64\n",
      " 14  engineStarted                 53207 non-null  bool   \n",
      " 15  _id                           53207 non-null  object \n",
      " 16  fuelRangeM                    53207 non-null  int64  \n",
      " 17  msg_type                      0 non-null      float64\n",
      " 18  engageAdvice.advice           53207 non-null  object \n",
      " 19  signal.turnSignal             53207 non-null  object \n",
      " 20  header.moduleName             53207 non-null  object \n",
      " 21  header.sequenceNum            53207 non-null  int64  \n",
      " 22  header.timestampSec           53207 non-null  float64\n",
      " 23  wheelSpeed.isWheelSpdRrValid  53207 non-null  bool   \n",
      " 24  wheelSpeed.wheelSpdRr         53207 non-null  float64\n",
      " 25  wheelSpeed.isWheelSpdRlValid  53207 non-null  bool   \n",
      " 26  wheelSpeed.wheelSpdFr         53207 non-null  float64\n",
      " 27  wheelSpeed.isWheelSpdFrValid  53207 non-null  bool   \n",
      " 28  wheelSpeed.wheelSpdRl         53207 non-null  float64\n",
      " 29  wheelSpeed.wheelSpdFl         53207 non-null  float64\n",
      " 30  wheelSpeed.isWheelSpdFlValid  53207 non-null  bool   \n",
      "dtypes: bool(5), float64(10), int64(6), object(10)\n",
      "memory usage: 10.8+ MB\n"
     ]
    }
   ],
   "source": [
    "demo_chassis_df.info()"
   ]
  },
  {
   "cell_type": "code",
   "execution_count": 5,
   "id": "4ed4dabc-75b2-4459-a9a7-31c1a0059c81",
   "metadata": {},
   "outputs": [],
   "source": [
    "demo_chassis_df = demo_chassis_df[ [ 'time', 'groupMetadataID', 'drivingMode', 'speedMps', 'throttlePercentage', \n",
    "                                     'steeringPercentage', 'brakePercentage', 'signal.turnSignal' ] ]"
   ]
  },
  {
   "cell_type": "code",
   "execution_count": 6,
   "id": "ac384623-9749-43e7-8888-0d57de83338e",
   "metadata": {},
   "outputs": [
    {
     "name": "stdout",
     "output_type": "stream",
     "text": [
      "<class 'pandas.core.frame.DataFrame'>\n",
      "RangeIndex: 53207 entries, 0 to 53206\n",
      "Data columns (total 8 columns):\n",
      " #   Column              Non-Null Count  Dtype  \n",
      "---  ------              --------------  -----  \n",
      " 0   time                53207 non-null  int64  \n",
      " 1   groupMetadataID     53207 non-null  object \n",
      " 2   drivingMode         53207 non-null  object \n",
      " 3   speedMps            53207 non-null  float64\n",
      " 4   throttlePercentage  53207 non-null  float64\n",
      " 5   steeringPercentage  53207 non-null  float64\n",
      " 6   brakePercentage     53207 non-null  float64\n",
      " 7   signal.turnSignal   53207 non-null  object \n",
      "dtypes: float64(4), int64(1), object(3)\n",
      "memory usage: 3.2+ MB\n"
     ]
    }
   ],
   "source": [
    "demo_chassis_df.info()"
   ]
  },
  {
   "cell_type": "code",
   "execution_count": 7,
   "id": "daaec181-3b80-4b18-9926-920c43dd1ce5",
   "metadata": {},
   "outputs": [
    {
     "name": "stdout",
     "output_type": "stream",
     "text": [
      "<class 'pandas.core.frame.DataFrame'>\n",
      "RangeIndex: 1756 entries, 0 to 1755\n",
      "Data columns (total 31 columns):\n",
      " #   Column                  Non-Null Count  Dtype  \n",
      "---  ------                  --------------  -----  \n",
      " 0   topic                   1756 non-null   object \n",
      " 1   gpsGlonassUsedMask      1756 non-null   int64  \n",
      " 2   time                    1756 non-null   int64  \n",
      " 3   longitudeStdDev         1756 non-null   float64\n",
      " 4   undulation              1756 non-null   float64\n",
      " 5   numSatsTracked          1756 non-null   int64  \n",
      " 6   baseStationId           1755 non-null   object \n",
      " 7   latitudeStdDev          1756 non-null   float64\n",
      " 8   differentialAge         1756 non-null   float64\n",
      " 9   solType                 1756 non-null   object \n",
      " 10  galileoBeidouUsedMask   1756 non-null   int64  \n",
      " 11  _id                     1756 non-null   object \n",
      " 12  latitude                1756 non-null   float64\n",
      " 13  numSatsL1               1756 non-null   int64  \n",
      " 14  datumId                 1756 non-null   object \n",
      " 15  msgsize                 1756 non-null   int64  \n",
      " 16  measurementTime         1756 non-null   int64  \n",
      " 17  extendedSolutionStatus  1756 non-null   int64  \n",
      " 18  metadataID              1756 non-null   object \n",
      " 19  heightStdDev            1756 non-null   float64\n",
      " 20  numSatsMulti            1756 non-null   int64  \n",
      " 21  heightMsl               1756 non-null   float64\n",
      " 22  groupMetadataID         1756 non-null   object \n",
      " 23  longitude               1756 non-null   float64\n",
      " 24  solutionAge             1756 non-null   float64\n",
      " 25  solStatus               1756 non-null   object \n",
      " 26  msg_type                0 non-null      float64\n",
      " 27  numSatsInSolution       1756 non-null   int64  \n",
      " 28  header.moduleName       1756 non-null   object \n",
      " 29  header.sequenceNum      1756 non-null   int64  \n",
      " 30  header.timestampSec     1756 non-null   float64\n",
      "dtypes: float64(11), int64(11), object(9)\n",
      "memory usage: 425.4+ KB\n"
     ]
    }
   ],
   "source": [
    "demo_best_pose_df.info()"
   ]
  },
  {
   "cell_type": "code",
   "execution_count": 8,
   "id": "0c0e751d-e4db-46d6-a200-746c05d3f32c",
   "metadata": {},
   "outputs": [],
   "source": [
    "demo_best_pose_df = demo_best_pose_df[ [ 'time', 'groupMetadataID', 'latitude', 'longitude', 'latitudeStdDev', 'longitudeStdDev', 'numSatsInSolution' ] ]"
   ]
  },
  {
   "cell_type": "code",
   "execution_count": 9,
   "id": "92a67a27-6f7d-4915-a59b-c8dbf74e9311",
   "metadata": {},
   "outputs": [
    {
     "name": "stdout",
     "output_type": "stream",
     "text": [
      "<class 'pandas.core.frame.DataFrame'>\n",
      "RangeIndex: 1756 entries, 0 to 1755\n",
      "Data columns (total 7 columns):\n",
      " #   Column             Non-Null Count  Dtype  \n",
      "---  ------             --------------  -----  \n",
      " 0   time               1756 non-null   int64  \n",
      " 1   groupMetadataID    1756 non-null   object \n",
      " 2   latitude           1756 non-null   float64\n",
      " 3   longitude          1756 non-null   float64\n",
      " 4   latitudeStdDev     1756 non-null   float64\n",
      " 5   longitudeStdDev    1756 non-null   float64\n",
      " 6   numSatsInSolution  1756 non-null   int64  \n",
      "dtypes: float64(4), int64(2), object(1)\n",
      "memory usage: 96.2+ KB\n"
     ]
    }
   ],
   "source": [
    "demo_best_pose_df.info()"
   ]
  },
  {
   "cell_type": "code",
   "execution_count": 10,
   "id": "239b92c9-9e12-4a42-8eb5-257989d012af",
   "metadata": {},
   "outputs": [
    {
     "name": "stderr",
     "output_type": "stream",
     "text": [
      "PandasGUI INFO — pandasgui.gui — Opening PandasGUI\n"
     ]
    },
    {
     "data": {
      "text/plain": [
       "<pandasgui.gui.PandasGui at 0x7281bc3bb640>"
      ]
     },
     "execution_count": 10,
     "metadata": {},
     "output_type": "execute_result"
    }
   ],
   "source": [
    "show( demo_chassis_df, demo_best_pose_df)"
   ]
  },
  {
   "cell_type": "code",
   "execution_count": 11,
   "id": "66ec139a-8309-47d4-b7c8-c9ae80659680",
   "metadata": {},
   "outputs": [],
   "source": [
    "cfs.BinaryDrivingMode( demo_chassis_df )"
   ]
  },
  {
   "cell_type": "code",
   "execution_count": 12,
   "id": "2586efc0-dbe5-4687-8f33-cdd23420c238",
   "metadata": {},
   "outputs": [
    {
     "name": "stdout",
     "output_type": "stream",
     "text": [
      "<class 'pandas.core.frame.DataFrame'>\n",
      "RangeIndex: 53207 entries, 0 to 53206\n",
      "Data columns (total 9 columns):\n",
      " #   Column              Non-Null Count  Dtype  \n",
      "---  ------              --------------  -----  \n",
      " 0   time                53207 non-null  int64  \n",
      " 1   groupMetadataID     53207 non-null  object \n",
      " 2   drivingMode         53207 non-null  object \n",
      " 3   speedMps            53207 non-null  float64\n",
      " 4   throttlePercentage  53207 non-null  float64\n",
      " 5   steeringPercentage  53207 non-null  float64\n",
      " 6   brakePercentage     53207 non-null  float64\n",
      " 7   signal.turnSignal   53207 non-null  object \n",
      " 8   BinaryDrivingMode   53207 non-null  int64  \n",
      "dtypes: float64(4), int64(2), object(3)\n",
      "memory usage: 3.7+ MB\n"
     ]
    }
   ],
   "source": [
    "demo_chassis_df.info()"
   ]
  },
  {
   "cell_type": "code",
   "execution_count": 13,
   "id": "8310b307-1e70-422f-a86c-b5400060c4ea",
   "metadata": {},
   "outputs": [
    {
     "name": "stderr",
     "output_type": "stream",
     "text": [
      "PandasGUI INFO — pandasgui.gui — Opening PandasGUI\n"
     ]
    },
    {
     "data": {
      "text/plain": [
       "<pandasgui.gui.PandasGui at 0x7281eb519bd0>"
      ]
     },
     "execution_count": 13,
     "metadata": {},
     "output_type": "execute_result"
    }
   ],
   "source": [
    "show( demo_chassis_df )"
   ]
  },
  {
   "cell_type": "code",
   "execution_count": 14,
   "id": "b4fae973-39dc-416c-b615-ede541f3738f",
   "metadata": {},
   "outputs": [],
   "source": [
    "demo_chassis_df = demo_chassis_df.sort_values( 'time' )"
   ]
  },
  {
   "cell_type": "code",
   "execution_count": 15,
   "id": "4aa9d566-9609-4fea-8810-b1021de9a711",
   "metadata": {},
   "outputs": [
    {
     "name": "stderr",
     "output_type": "stream",
     "text": [
      "PandasGUI INFO — pandasgui.gui — Opening PandasGUI\n"
     ]
    },
    {
     "data": {
      "text/plain": [
       "<pandasgui.gui.PandasGui at 0x72819e7fd090>"
      ]
     },
     "execution_count": 15,
     "metadata": {},
     "output_type": "execute_result"
    }
   ],
   "source": [
    "show( demo_chassis_df )"
   ]
  },
  {
   "cell_type": "code",
   "execution_count": 16,
   "id": "39c28b65-2d15-4272-a86d-d9325d305c13",
   "metadata": {},
   "outputs": [],
   "source": [
    "cfs.TernaryDrivingModeTransition( demo_chassis_df )"
   ]
  },
  {
   "cell_type": "code",
   "execution_count": 17,
   "id": "21ccd9ae-1af7-465a-ad35-c8617dedf76c",
   "metadata": {},
   "outputs": [
    {
     "name": "stdout",
     "output_type": "stream",
     "text": [
      "<class 'pandas.core.frame.DataFrame'>\n",
      "Index: 53207 entries, 4081 to 38788\n",
      "Data columns (total 10 columns):\n",
      " #   Column                        Non-Null Count  Dtype  \n",
      "---  ------                        --------------  -----  \n",
      " 0   time                          53207 non-null  int64  \n",
      " 1   groupMetadataID               53207 non-null  object \n",
      " 2   drivingMode                   53207 non-null  object \n",
      " 3   speedMps                      53207 non-null  float64\n",
      " 4   throttlePercentage            53207 non-null  float64\n",
      " 5   steeringPercentage            53207 non-null  float64\n",
      " 6   brakePercentage               53207 non-null  float64\n",
      " 7   signal.turnSignal             53207 non-null  object \n",
      " 8   BinaryDrivingMode             53207 non-null  int64  \n",
      " 9   TernaryDrivingModeTransition  53207 non-null  int64  \n",
      "dtypes: float64(4), int64(3), object(3)\n",
      "memory usage: 4.5+ MB\n"
     ]
    }
   ],
   "source": [
    "demo_chassis_df.info()"
   ]
  },
  {
   "cell_type": "code",
   "execution_count": 18,
   "id": "231f1292-6532-4a94-91c3-98b3061fa374",
   "metadata": {},
   "outputs": [
    {
     "name": "stderr",
     "output_type": "stream",
     "text": [
      "PandasGUI INFO — pandasgui.gui — Opening PandasGUI\n"
     ]
    },
    {
     "data": {
      "text/plain": [
       "<pandasgui.gui.PandasGui at 0x7281bc3bb370>"
      ]
     },
     "execution_count": 18,
     "metadata": {},
     "output_type": "execute_result"
    }
   ],
   "source": [
    "show( demo_chassis_df )"
   ]
  },
  {
   "cell_type": "code",
   "execution_count": 19,
   "id": "e7a9139c-db40-455a-9791-8d38eb88085f",
   "metadata": {},
   "outputs": [],
   "source": [
    "cfs.LatLonTotalStdDev( demo_best_pose_df )"
   ]
  },
  {
   "cell_type": "code",
   "execution_count": 20,
   "id": "ee53e6ea-67b9-4e1a-943b-37b92873fc8b",
   "metadata": {},
   "outputs": [
    {
     "name": "stdout",
     "output_type": "stream",
     "text": [
      "<class 'pandas.core.frame.DataFrame'>\n",
      "RangeIndex: 1756 entries, 0 to 1755\n",
      "Data columns (total 8 columns):\n",
      " #   Column             Non-Null Count  Dtype  \n",
      "---  ------             --------------  -----  \n",
      " 0   time               1756 non-null   int64  \n",
      " 1   groupMetadataID    1756 non-null   object \n",
      " 2   latitude           1756 non-null   float64\n",
      " 3   longitude          1756 non-null   float64\n",
      " 4   latitudeStdDev     1756 non-null   float64\n",
      " 5   longitudeStdDev    1756 non-null   float64\n",
      " 6   numSatsInSolution  1756 non-null   int64  \n",
      " 7   LatLonTotalStdDev  1756 non-null   float64\n",
      "dtypes: float64(5), int64(2), object(1)\n",
      "memory usage: 109.9+ KB\n"
     ]
    }
   ],
   "source": [
    "demo_best_pose_df.info()"
   ]
  },
  {
   "cell_type": "code",
   "execution_count": 21,
   "id": "c340d079-e094-497b-af2b-1264849b1a9c",
   "metadata": {},
   "outputs": [
    {
     "name": "stderr",
     "output_type": "stream",
     "text": [
      "PandasGUI INFO — pandasgui.gui — Opening PandasGUI\n"
     ]
    },
    {
     "data": {
      "text/plain": [
       "<pandasgui.gui.PandasGui at 0x72819e758550>"
      ]
     },
     "execution_count": 21,
     "metadata": {},
     "output_type": "execute_result"
    }
   ],
   "source": [
    "show( demo_best_pose_df )"
   ]
  },
  {
   "cell_type": "code",
   "execution_count": 22,
   "id": "71405c25-0b9d-4952-ab7c-ae4773a97f7b",
   "metadata": {},
   "outputs": [],
   "source": [
    "demo_best_pose_df = demo_best_pose_df.sort_values( 'time' )"
   ]
  },
  {
   "cell_type": "code",
   "execution_count": 23,
   "id": "5ccc02ae-cb5f-44a4-95a6-c5a6aebd79fd",
   "metadata": {},
   "outputs": [
    {
     "name": "stderr",
     "output_type": "stream",
     "text": [
      "PandasGUI INFO — pandasgui.gui — Opening PandasGUI\n"
     ]
    },
    {
     "data": {
      "text/plain": [
       "<pandasgui.gui.PandasGui at 0x72819e541d80>"
      ]
     },
     "execution_count": 23,
     "metadata": {},
     "output_type": "execute_result"
    }
   ],
   "source": [
    "show( demo_chassis_df, demo_best_pose_df)"
   ]
  },
  {
   "cell_type": "code",
   "execution_count": 24,
   "id": "49ea9b3b-6459-48e7-892c-b6563feb9524",
   "metadata": {},
   "outputs": [
    {
     "name": "stdout",
     "output_type": "stream",
     "text": [
      "0.0330125642239785\n"
     ]
    }
   ],
   "source": [
    "# Average time between chassis measurements\n",
    "\n",
    "print( np.average( np.diff( np.array( demo_chassis_df[ 'time' ] ) ) ) * 1e-9 )"
   ]
  },
  {
   "cell_type": "code",
   "execution_count": 25,
   "id": "4256bb97-ca8d-4595-a8e2-313b25c6b753",
   "metadata": {},
   "outputs": [
    {
     "name": "stdout",
     "output_type": "stream",
     "text": [
      "0.9999846047253562\n"
     ]
    }
   ],
   "source": [
    "# Average time between best pose measurements\n",
    "\n",
    "print( np.average( np.diff( np.array( demo_best_pose_df[ 'time' ] ) ) ) * 1e-9 )"
   ]
  },
  {
   "cell_type": "code",
   "execution_count": 26,
   "id": "85fe8e7c-39cb-4326-919f-32a315ed1d93",
   "metadata": {},
   "outputs": [],
   "source": [
    "cfs.ChassisBestPoseMatchedTime( demo_chassis_df, demo_best_pose_df )"
   ]
  },
  {
   "cell_type": "code",
   "execution_count": 27,
   "id": "afc5f7d8-b6aa-4a7c-9c68-4586180b37bb",
   "metadata": {},
   "outputs": [
    {
     "name": "stdout",
     "output_type": "stream",
     "text": [
      "<class 'pandas.core.frame.DataFrame'>\n",
      "Index: 53207 entries, 4081 to 38788\n",
      "Data columns (total 11 columns):\n",
      " #   Column                        Non-Null Count  Dtype  \n",
      "---  ------                        --------------  -----  \n",
      " 0   time                          53207 non-null  int64  \n",
      " 1   groupMetadataID               53207 non-null  object \n",
      " 2   drivingMode                   53207 non-null  object \n",
      " 3   speedMps                      53207 non-null  float64\n",
      " 4   throttlePercentage            53207 non-null  float64\n",
      " 5   steeringPercentage            53207 non-null  float64\n",
      " 6   brakePercentage               53207 non-null  float64\n",
      " 7   signal.turnSignal             53207 non-null  object \n",
      " 8   BinaryDrivingMode             53207 non-null  int64  \n",
      " 9   TernaryDrivingModeTransition  53207 non-null  int64  \n",
      " 10  ChassisBestPoseMatchedTime    53207 non-null  int64  \n",
      "dtypes: float64(4), int64(4), object(3)\n",
      "memory usage: 4.9+ MB\n"
     ]
    }
   ],
   "source": [
    "demo_chassis_df.info()"
   ]
  },
  {
   "cell_type": "code",
   "execution_count": 28,
   "id": "c16f97f0-8ca7-4cf8-bf2c-05937c06a47f",
   "metadata": {},
   "outputs": [
    {
     "name": "stdout",
     "output_type": "stream",
     "text": [
      "<class 'pandas.core.frame.DataFrame'>\n",
      "Index: 1756 entries, 838 to 1080\n",
      "Data columns (total 9 columns):\n",
      " #   Column                      Non-Null Count  Dtype  \n",
      "---  ------                      --------------  -----  \n",
      " 0   time                        1756 non-null   int64  \n",
      " 1   groupMetadataID             1756 non-null   object \n",
      " 2   latitude                    1756 non-null   float64\n",
      " 3   longitude                   1756 non-null   float64\n",
      " 4   latitudeStdDev              1756 non-null   float64\n",
      " 5   longitudeStdDev             1756 non-null   float64\n",
      " 6   numSatsInSolution           1756 non-null   int64  \n",
      " 7   LatLonTotalStdDev           1756 non-null   float64\n",
      " 8   ChassisBestPoseMatchedTime  1756 non-null   int64  \n",
      "dtypes: float64(5), int64(3), object(1)\n",
      "memory usage: 137.2+ KB\n"
     ]
    }
   ],
   "source": [
    "demo_best_pose_df.info()"
   ]
  },
  {
   "cell_type": "code",
   "execution_count": 29,
   "id": "6374d005-f1a0-4d36-97e5-f574f26a3bc8",
   "metadata": {},
   "outputs": [
    {
     "name": "stderr",
     "output_type": "stream",
     "text": [
      "PandasGUI INFO — pandasgui.gui — Opening PandasGUI\n"
     ]
    },
    {
     "data": {
      "text/plain": [
       "<pandasgui.gui.PandasGui at 0x72819e5f7400>"
      ]
     },
     "execution_count": 29,
     "metadata": {},
     "output_type": "execute_result"
    }
   ],
   "source": [
    "show( demo_chassis_df, demo_best_pose_df)"
   ]
  },
  {
   "cell_type": "code",
   "execution_count": 30,
   "id": "c45c2099-3183-457a-a3be-af8b90890260",
   "metadata": {},
   "outputs": [],
   "source": [
    "merged_demo_chassis_best_pose_df = pd.merge( demo_chassis_df, demo_best_pose_df, on = 'ChassisBestPoseMatchedTime', how = 'inner' )"
   ]
  },
  {
   "cell_type": "code",
   "execution_count": 31,
   "id": "6443e8cd-53e4-4a19-81ea-2ddf13808114",
   "metadata": {},
   "outputs": [
    {
     "name": "stdout",
     "output_type": "stream",
     "text": [
      "<class 'pandas.core.frame.DataFrame'>\n",
      "RangeIndex: 53207 entries, 0 to 53206\n",
      "Data columns (total 19 columns):\n",
      " #   Column                        Non-Null Count  Dtype  \n",
      "---  ------                        --------------  -----  \n",
      " 0   time_x                        53207 non-null  int64  \n",
      " 1   groupMetadataID_x             53207 non-null  object \n",
      " 2   drivingMode                   53207 non-null  object \n",
      " 3   speedMps                      53207 non-null  float64\n",
      " 4   throttlePercentage            53207 non-null  float64\n",
      " 5   steeringPercentage            53207 non-null  float64\n",
      " 6   brakePercentage               53207 non-null  float64\n",
      " 7   signal.turnSignal             53207 non-null  object \n",
      " 8   BinaryDrivingMode             53207 non-null  int64  \n",
      " 9   TernaryDrivingModeTransition  53207 non-null  int64  \n",
      " 10  ChassisBestPoseMatchedTime    53207 non-null  int64  \n",
      " 11  time_y                        53207 non-null  int64  \n",
      " 12  groupMetadataID_y             53207 non-null  object \n",
      " 13  latitude                      53207 non-null  float64\n",
      " 14  longitude                     53207 non-null  float64\n",
      " 15  latitudeStdDev                53207 non-null  float64\n",
      " 16  longitudeStdDev               53207 non-null  float64\n",
      " 17  numSatsInSolution             53207 non-null  int64  \n",
      " 18  LatLonTotalStdDev             53207 non-null  float64\n",
      "dtypes: float64(9), int64(6), object(4)\n",
      "memory usage: 7.7+ MB\n"
     ]
    }
   ],
   "source": [
    "merged_demo_chassis_best_pose_df.info()"
   ]
  },
  {
   "cell_type": "code",
   "execution_count": 32,
   "id": "29047ab7-f092-4034-b9f0-f6c8d4dc98b5",
   "metadata": {},
   "outputs": [
    {
     "name": "stderr",
     "output_type": "stream",
     "text": [
      "PandasGUI INFO — pandasgui.gui — Opening PandasGUI\n"
     ]
    },
    {
     "data": {
      "text/plain": [
       "<pandasgui.gui.PandasGui at 0x72819e5f75b0>"
      ]
     },
     "execution_count": 32,
     "metadata": {},
     "output_type": "execute_result"
    }
   ],
   "source": [
    "show( merged_demo_chassis_best_pose_df )"
   ]
  },
  {
   "cell_type": "code",
   "execution_count": 33,
   "id": "202d4a59-5821-4ecb-a40f-ff7702b84239",
   "metadata": {},
   "outputs": [
    {
     "data": {
      "text/html": [
       "<div>\n",
       "<style scoped>\n",
       "    .dataframe tbody tr th:only-of-type {\n",
       "        vertical-align: middle;\n",
       "    }\n",
       "\n",
       "    .dataframe tbody tr th {\n",
       "        vertical-align: top;\n",
       "    }\n",
       "\n",
       "    .dataframe thead tr th {\n",
       "        text-align: left;\n",
       "    }\n",
       "\n",
       "    .dataframe thead tr:last-of-type th {\n",
       "        text-align: right;\n",
       "    }\n",
       "</style>\n",
       "<table border=\"1\" class=\"dataframe\">\n",
       "  <thead>\n",
       "    <tr>\n",
       "      <th></th>\n",
       "      <th colspan=\"4\" halign=\"left\">LatLonTotalStdDev</th>\n",
       "    </tr>\n",
       "    <tr>\n",
       "      <th></th>\n",
       "      <th>mean</th>\n",
       "      <th>median</th>\n",
       "      <th>max</th>\n",
       "      <th>count</th>\n",
       "    </tr>\n",
       "    <tr>\n",
       "      <th>TernaryDrivingModeTransition</th>\n",
       "      <th></th>\n",
       "      <th></th>\n",
       "      <th></th>\n",
       "      <th></th>\n",
       "    </tr>\n",
       "  </thead>\n",
       "  <tbody>\n",
       "    <tr>\n",
       "      <th>-1</th>\n",
       "      <td>0.178804</td>\n",
       "      <td>0.021561</td>\n",
       "      <td>1.635602</td>\n",
       "      <td>20</td>\n",
       "    </tr>\n",
       "    <tr>\n",
       "      <th>0</th>\n",
       "      <td>0.186242</td>\n",
       "      <td>0.020765</td>\n",
       "      <td>13.499133</td>\n",
       "      <td>53167</td>\n",
       "    </tr>\n",
       "    <tr>\n",
       "      <th>1</th>\n",
       "      <td>0.073848</td>\n",
       "      <td>0.021566</td>\n",
       "      <td>0.806366</td>\n",
       "      <td>20</td>\n",
       "    </tr>\n",
       "  </tbody>\n",
       "</table>\n",
       "</div>"
      ],
      "text/plain": [
       "                             LatLonTotalStdDev                            \n",
       "                                          mean    median        max  count\n",
       "TernaryDrivingModeTransition                                              \n",
       "-1                                    0.178804  0.021561   1.635602     20\n",
       " 0                                    0.186242  0.020765  13.499133  53167\n",
       " 1                                    0.073848  0.021566   0.806366     20"
      ]
     },
     "execution_count": 33,
     "metadata": {},
     "output_type": "execute_result"
    }
   ],
   "source": [
    "group_by_TernaryDrivingModeTransition = merged_demo_chassis_best_pose_df.groupby( 'TernaryDrivingModeTransition' )\n",
    "\n",
    "group_by_TernaryDrivingModeTransition.agg( { 'LatLonTotalStdDev': [ 'mean', 'median', 'max', 'count' ] } )"
   ]
  },
  {
   "cell_type": "code",
   "execution_count": null,
   "id": "4d1244b2-0fcc-4765-a822-eb03f634a152",
   "metadata": {},
   "outputs": [],
   "source": []
  }
 ],
 "metadata": {
  "kernelspec": {
   "display_name": "Python 3 (ipykernel)",
   "language": "python",
   "name": "python3"
  },
  "language_info": {
   "codemirror_mode": {
    "name": "ipython",
    "version": 3
   },
   "file_extension": ".py",
   "mimetype": "text/x-python",
   "name": "python",
   "nbconvert_exporter": "python",
   "pygments_lexer": "ipython3",
   "version": "3.10.12"
  }
 },
 "nbformat": 4,
 "nbformat_minor": 5
}

{
 "cells": [
  {
   "cell_type": "code",
   "execution_count": 64,
   "id": "c7a36d44-2457-41e8-bf8e-037ee98d7b7d",
   "metadata": {},
   "outputs": [],
   "source": [
    "import boto3\n",
    "\n",
    "from boto3.dynamodb.conditions import Key, Attr\n",
    "\n",
    "import pandas as pd\n",
    "\n",
    "from pandasgui import show "
   ]
  },
  {
   "cell_type": "code",
   "execution_count": 49,
   "id": "2b031f73-4138-47e3-92ef-fee442e0d8cf",
   "metadata": {},
   "outputs": [],
   "source": [
    "dynamodb = boto3.resource( 'dynamodb' )"
   ]
  },
  {
   "cell_type": "code",
   "execution_count": 50,
   "id": "432d044c-b311-4a73-85be-6db3d56ce531",
   "metadata": {},
   "outputs": [],
   "source": [
    "adspp_table = dynamodb.Table( 'ads_passenger_processed' )"
   ]
  },
  {
   "cell_type": "code",
   "execution_count": 51,
   "id": "ad9a1e97-5f18-47b0-91ad-c4cf42d7466c",
   "metadata": {},
   "outputs": [],
   "source": [
    "def attr_list( table ):\n",
    "\n",
    "    scan_input = dict(\n",
    "                      Limit = 1\n",
    "                     )\n",
    "\n",
    "    scan_output = table.scan( **scan_input )\n",
    "\n",
    "    first_item_of_table = scan_output[ 'Items' ][ 0 ]\n",
    "\n",
    "    list_of_attrs_of_table = list( first_item_of_table.keys() )\n",
    "\n",
    "    return list_of_attrs_of_table"
   ]
  },
  {
   "cell_type": "code",
   "execution_count": 52,
   "id": "f005b2fe-5600-4681-acba-7d038daed02d",
   "metadata": {},
   "outputs": [],
   "source": [
    "adspp_attr_list = attr_list( adspp_table )"
   ]
  },
  {
   "cell_type": "code",
   "execution_count": 53,
   "id": "497ee8c2-4233-4ec9-8775-95118e687842",
   "metadata": {},
   "outputs": [
    {
     "name": "stdout",
     "output_type": "stream",
     "text": [
      "yawRate, drivingMode, topic, msgsize, time, gearLocation, metadataID, throttlePercentage, steeringPercentage, brakePercentage, engageAdvice, groupMetadataID, errorCode, signal, steeringRate, header, speedMps, engineStarted, _id, fuelRangeM, msg_type, wheelSpeed\n"
     ]
    }
   ],
   "source": [
    "print( ', '.join( adspp_attr_list ) )"
   ]
  },
  {
   "cell_type": "code",
   "execution_count": 79,
   "id": "6fe6ab38-221f-4f25-a343-633cde77bfec",
   "metadata": {},
   "outputs": [],
   "source": [
    "query_input = dict(\n",
    "                   IndexName = 'topic-index',\n",
    "                   Select = 'SPECIFIC_ATTRIBUTES',\n",
    "                   # Limit =\n",
    "                   ConsistentRead = False,\n",
    "                   ScanIndexForward = True,\n",
    "                   # ExclusiveStartKey =\n",
    "                   # ReturnConsumedCapacity =\n",
    "                   ProjectionExpression = 'yawRate, drivingMode, topic, msgsize, #time, gearLocation, metadataID, ' +\n",
    "                                          'throttlePercentage, steeringPercentage, brakePercentage, engageAdvice, ' +\n",
    "                                          'groupMetadataID, errorCode, #signal, steeringRate, header, speedMps, ' + \n",
    "                                          'engineStarted, #id, fuelRangeM, msg_type, wheelSpeed',\n",
    "                   FilterExpression = Key( 'groupMetadataID' ).eq( '1f70a4f0-f0e0-11ee-ba1e-fb353e7798cd' ),\n",
    "                   KeyConditionExpression = Key( 'topic' ).eq( '/apollo/canbus/chassis' ),\n",
    "                   ExpressionAttributeNames = {\n",
    "                                               '#id': '_id',\n",
    "                                               '#time': 'time',\n",
    "                                               '#signal': 'signal'\n",
    "                                              }\n",
    "                   # ExpressionAttributeValues =\n",
    "                  )\n",
    "\n",
    "query_output = adspp_table.query( **query_input )\n",
    "\n",
    "query_output_df = pd.DataFrame.from_dict( pd.json_normalize( query_output[ 'Items' ] ), orient = 'columns' )"
   ]
  },
  {
   "cell_type": "code",
   "execution_count": 82,
   "id": "873dd970-4773-4836-a988-58efece17849",
   "metadata": {},
   "outputs": [
    {
     "name": "stdout",
     "output_type": "stream",
     "text": [
      "True\n"
     ]
    }
   ],
   "source": [
    "print( 'LastEvaluatedKey' in query_output.keys() )"
   ]
  },
  {
   "cell_type": "code",
   "execution_count": null,
   "id": "44b3fb0c-cef0-43bc-8f5a-cd71b7b2979f",
   "metadata": {},
   "outputs": [],
   "source": [
    "i = 0\n",
    "while ( 'LastEvaluatedKey' in query_output.keys() ):\n",
    "\n",
    "    print( query_output_df.shape )\n",
    "\n",
    "    query_input[ 'ExclusiveStartKey' ] = query_output[ 'LastEvaluatedKey' ]\n",
    "\n",
    "    query_output = adspp_table.query( **query_input )\n",
    "\n",
    "    temp_df = pd.DataFrame.from_dict( pd.json_normalize( query_output[ 'Items' ] ), orient = 'columns' )\n",
    "\n",
    "    query_output_df = pd.concat( [ query_output_df, temp_df ] )\n",
    "\n",
    "    i = i + 1"
   ]
  },
  {
   "cell_type": "code",
   "execution_count": 1,
   "id": "c800286d-c359-4b6a-a274-c8737b3544d3",
   "metadata": {},
   "outputs": [
    {
     "ename": "NameError",
     "evalue": "name 'query_output_df' is not defined",
     "output_type": "error",
     "traceback": [
      "\u001b[0;31m---------------------------------------------------------------------------\u001b[0m",
      "\u001b[0;31mNameError\u001b[0m                                 Traceback (most recent call last)",
      "Cell \u001b[0;32mIn[1], line 1\u001b[0m\n\u001b[0;32m----> 1\u001b[0m \u001b[43mquery_output_df\u001b[49m\u001b[38;5;241m.\u001b[39mto_csv( \u001b[38;5;124mr\u001b[39m\u001b[38;5;124m'\u001b[39m\u001b[38;5;124m/home/rcoldren_linux/Desktop/Data.csv\u001b[39m\u001b[38;5;124m'\u001b[39m, index \u001b[38;5;241m=\u001b[39m \u001b[38;5;28;01mFalse\u001b[39;00m )\n",
      "\u001b[0;31mNameError\u001b[0m: name 'query_output_df' is not defined"
     ]
    }
   ],
   "source": [
    "# query_output_df.to_csv( r'/home/rcoldren_linux/Desktop/Data.csv', index = False )"
   ]
  },
  {
   "cell_type": "code",
   "execution_count": null,
   "id": "7a863e3b-ed29-4336-a2d0-04ddfa1e6933",
   "metadata": {},
   "outputs": [],
   "source": []
  }
 ],
 "metadata": {
  "kernelspec": {
   "display_name": "Python 3 (ipykernel)",
   "language": "python",
   "name": "python3"
  },
  "language_info": {
   "codemirror_mode": {
    "name": "ipython",
    "version": 3
   },
   "file_extension": ".py",
   "mimetype": "text/x-python",
   "name": "python",
   "nbconvert_exporter": "python",
   "pygments_lexer": "ipython3",
   "version": "3.10.12"
  }
 },
 "nbformat": 4,
 "nbformat_minor": 5
}
